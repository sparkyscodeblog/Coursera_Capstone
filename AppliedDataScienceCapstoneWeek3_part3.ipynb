{
  "nbformat": 4,
  "nbformat_minor": 0,
  "metadata": {
    "colab": {
      "name": "AppliedDataScienceCapstoneWeek3_part3.ipynb",
      "provenance": [],
      "collapsed_sections": []
    },
    "kernelspec": {
      "name": "python3",
      "display_name": "Python 3"
    }
  },
  "cells": [
    {
      "cell_type": "markdown",
      "metadata": {
        "id": "7hMuwj1QWHp1",
        "colab_type": "text"
      },
      "source": [
        "## Week 3 Part 1"
      ]
    },
    {
      "cell_type": "code",
      "metadata": {
        "id": "6BtsNNZiWLoo",
        "colab_type": "code",
        "colab": {}
      },
      "source": [
        "import pandas as pd\n",
        "import numpy as np\n",
        "import requests"
      ],
      "execution_count": null,
      "outputs": []
    },
    {
      "cell_type": "code",
      "metadata": {
        "id": "PSJzWI_jWc9U",
        "colab_type": "code",
        "colab": {}
      },
      "source": [
        "url=\"https://en.wikipedia.org/wiki/List_of_postal_codes_of_Canada:_M\""
      ],
      "execution_count": null,
      "outputs": []
    },
    {
      "cell_type": "code",
      "metadata": {
        "id": "K5OV2ul7X4Up",
        "colab_type": "code",
        "colab": {}
      },
      "source": [
        "page = requests.get(url)"
      ],
      "execution_count": null,
      "outputs": []
    },
    {
      "cell_type": "code",
      "metadata": {
        "id": "EzPILu3Bcixj",
        "colab_type": "code",
        "colab": {}
      },
      "source": [
        "pageHTML = pd.read_html(page.content, header = 0)"
      ],
      "execution_count": null,
      "outputs": []
    },
    {
      "cell_type": "code",
      "metadata": {
        "id": "HHRqaJvxc5Il",
        "colab_type": "code",
        "colab": {
          "base_uri": "https://localhost:8080/",
          "height": 34
        },
        "outputId": "0d44a45b-12d1-4ca3-8617-11c462691565"
      },
      "source": [
        "len(pageHTML)"
      ],
      "execution_count": null,
      "outputs": [
        {
          "output_type": "execute_result",
          "data": {
            "text/plain": [
              "3"
            ]
          },
          "metadata": {
            "tags": []
          },
          "execution_count": 5
        }
      ]
    },
    {
      "cell_type": "code",
      "metadata": {
        "id": "NvtjLf0MdHpa",
        "colab_type": "code",
        "colab": {
          "base_uri": "https://localhost:8080/",
          "height": 419
        },
        "outputId": "a3b346b8-1cb2-44c8-cf1a-1a3eb84cb0cf"
      },
      "source": [
        "pageHTML[0]"
      ],
      "execution_count": null,
      "outputs": [
        {
          "output_type": "execute_result",
          "data": {
            "text/html": [
              "<div>\n",
              "<style scoped>\n",
              "    .dataframe tbody tr th:only-of-type {\n",
              "        vertical-align: middle;\n",
              "    }\n",
              "\n",
              "    .dataframe tbody tr th {\n",
              "        vertical-align: top;\n",
              "    }\n",
              "\n",
              "    .dataframe thead th {\n",
              "        text-align: right;\n",
              "    }\n",
              "</style>\n",
              "<table border=\"1\" class=\"dataframe\">\n",
              "  <thead>\n",
              "    <tr style=\"text-align: right;\">\n",
              "      <th></th>\n",
              "      <th>Postal Code</th>\n",
              "      <th>Borough</th>\n",
              "      <th>Neighbourhood</th>\n",
              "    </tr>\n",
              "  </thead>\n",
              "  <tbody>\n",
              "    <tr>\n",
              "      <th>0</th>\n",
              "      <td>M1A</td>\n",
              "      <td>Not assigned</td>\n",
              "      <td>Not assigned</td>\n",
              "    </tr>\n",
              "    <tr>\n",
              "      <th>1</th>\n",
              "      <td>M2A</td>\n",
              "      <td>Not assigned</td>\n",
              "      <td>Not assigned</td>\n",
              "    </tr>\n",
              "    <tr>\n",
              "      <th>2</th>\n",
              "      <td>M3A</td>\n",
              "      <td>North York</td>\n",
              "      <td>Parkwoods</td>\n",
              "    </tr>\n",
              "    <tr>\n",
              "      <th>3</th>\n",
              "      <td>M4A</td>\n",
              "      <td>North York</td>\n",
              "      <td>Victoria Village</td>\n",
              "    </tr>\n",
              "    <tr>\n",
              "      <th>4</th>\n",
              "      <td>M5A</td>\n",
              "      <td>Downtown Toronto</td>\n",
              "      <td>Regent Park, Harbourfront</td>\n",
              "    </tr>\n",
              "    <tr>\n",
              "      <th>...</th>\n",
              "      <td>...</td>\n",
              "      <td>...</td>\n",
              "      <td>...</td>\n",
              "    </tr>\n",
              "    <tr>\n",
              "      <th>175</th>\n",
              "      <td>M5Z</td>\n",
              "      <td>Not assigned</td>\n",
              "      <td>Not assigned</td>\n",
              "    </tr>\n",
              "    <tr>\n",
              "      <th>176</th>\n",
              "      <td>M6Z</td>\n",
              "      <td>Not assigned</td>\n",
              "      <td>Not assigned</td>\n",
              "    </tr>\n",
              "    <tr>\n",
              "      <th>177</th>\n",
              "      <td>M7Z</td>\n",
              "      <td>Not assigned</td>\n",
              "      <td>Not assigned</td>\n",
              "    </tr>\n",
              "    <tr>\n",
              "      <th>178</th>\n",
              "      <td>M8Z</td>\n",
              "      <td>Etobicoke</td>\n",
              "      <td>Mimico NW, The Queensway West, South of Bloor,...</td>\n",
              "    </tr>\n",
              "    <tr>\n",
              "      <th>179</th>\n",
              "      <td>M9Z</td>\n",
              "      <td>Not assigned</td>\n",
              "      <td>Not assigned</td>\n",
              "    </tr>\n",
              "  </tbody>\n",
              "</table>\n",
              "<p>180 rows × 3 columns</p>\n",
              "</div>"
            ],
            "text/plain": [
              "    Postal Code  ...                                      Neighbourhood\n",
              "0           M1A  ...                                       Not assigned\n",
              "1           M2A  ...                                       Not assigned\n",
              "2           M3A  ...                                          Parkwoods\n",
              "3           M4A  ...                                   Victoria Village\n",
              "4           M5A  ...                          Regent Park, Harbourfront\n",
              "..          ...  ...                                                ...\n",
              "175         M5Z  ...                                       Not assigned\n",
              "176         M6Z  ...                                       Not assigned\n",
              "177         M7Z  ...                                       Not assigned\n",
              "178         M8Z  ...  Mimico NW, The Queensway West, South of Bloor,...\n",
              "179         M9Z  ...                                       Not assigned\n",
              "\n",
              "[180 rows x 3 columns]"
            ]
          },
          "metadata": {
            "tags": []
          },
          "execution_count": 6
        }
      ]
    },
    {
      "cell_type": "code",
      "metadata": {
        "id": "hCp0p_qNdriY",
        "colab_type": "code",
        "colab": {
          "base_uri": "https://localhost:8080/",
          "height": 34
        },
        "outputId": "8805631c-dea3-4705-8bf8-fc25f0fb7922"
      },
      "source": [
        "type(pageHTML)"
      ],
      "execution_count": null,
      "outputs": [
        {
          "output_type": "execute_result",
          "data": {
            "text/plain": [
              "list"
            ]
          },
          "metadata": {
            "tags": []
          },
          "execution_count": 7
        }
      ]
    },
    {
      "cell_type": "code",
      "metadata": {
        "id": "Pz5csRNzeMLI",
        "colab_type": "code",
        "colab": {
          "base_uri": "https://localhost:8080/",
          "height": 34
        },
        "outputId": "7cecf1ae-de4e-49fc-f191-9600d594c4ab"
      },
      "source": [
        "type(pageHTML[0])"
      ],
      "execution_count": null,
      "outputs": [
        {
          "output_type": "execute_result",
          "data": {
            "text/plain": [
              "pandas.core.frame.DataFrame"
            ]
          },
          "metadata": {
            "tags": []
          },
          "execution_count": 8
        }
      ]
    },
    {
      "cell_type": "markdown",
      "metadata": {
        "id": "Xk54W0Zne2xx",
        "colab_type": "text"
      },
      "source": [
        "Need to remove boroughs where it is Not Assigned"
      ]
    },
    {
      "cell_type": "code",
      "metadata": {
        "id": "XMhY0xSIeV8D",
        "colab_type": "code",
        "colab": {}
      },
      "source": [
        "df = pageHTML[0]"
      ],
      "execution_count": null,
      "outputs": []
    },
    {
      "cell_type": "code",
      "metadata": {
        "id": "cpaRHsEBfp9h",
        "colab_type": "code",
        "colab": {
          "base_uri": "https://localhost:8080/",
          "height": 34
        },
        "outputId": "01b57d98-9c27-4446-d609-7c4905ac4b55"
      },
      "source": [
        "df.shape"
      ],
      "execution_count": null,
      "outputs": [
        {
          "output_type": "execute_result",
          "data": {
            "text/plain": [
              "(180, 3)"
            ]
          },
          "metadata": {
            "tags": []
          },
          "execution_count": 10
        }
      ]
    },
    {
      "cell_type": "code",
      "metadata": {
        "id": "rKRt2Om3fJV-",
        "colab_type": "code",
        "colab": {}
      },
      "source": [
        "df = df[df[\"Borough\"] != \"Not assigned\"]"
      ],
      "execution_count": null,
      "outputs": []
    },
    {
      "cell_type": "code",
      "metadata": {
        "id": "myPj3_b4fu2U",
        "colab_type": "code",
        "colab": {
          "base_uri": "https://localhost:8080/",
          "height": 34
        },
        "outputId": "6b1463c2-479c-457e-ba47-70bf28602cf0"
      },
      "source": [
        "df.shape"
      ],
      "execution_count": null,
      "outputs": [
        {
          "output_type": "execute_result",
          "data": {
            "text/plain": [
              "(103, 3)"
            ]
          },
          "metadata": {
            "tags": []
          },
          "execution_count": 12
        }
      ]
    },
    {
      "cell_type": "code",
      "metadata": {
        "id": "VxUQHh4RgQMB",
        "colab_type": "code",
        "colab": {}
      },
      "source": [
        "df.reset_index(drop=True, inplace = True)"
      ],
      "execution_count": null,
      "outputs": []
    },
    {
      "cell_type": "code",
      "metadata": {
        "id": "I5Aqh_dihmwP",
        "colab_type": "code",
        "colab": {
          "base_uri": "https://localhost:8080/",
          "height": 34
        },
        "outputId": "e81f5a5a-b640-4cb4-b3e4-831c4ea7d6b9"
      },
      "source": [
        "df.columns"
      ],
      "execution_count": null,
      "outputs": [
        {
          "output_type": "execute_result",
          "data": {
            "text/plain": [
              "Index(['Postal Code', 'Borough', 'Neighbourhood'], dtype='object')"
            ]
          },
          "metadata": {
            "tags": []
          },
          "execution_count": 14
        }
      ]
    },
    {
      "cell_type": "code",
      "metadata": {
        "id": "r329htPfiCrz",
        "colab_type": "code",
        "colab": {
          "base_uri": "https://localhost:8080/",
          "height": 34
        },
        "outputId": "e3525835-f6f5-4ffb-8d2c-4d37453efc88"
      },
      "source": [
        "df.index"
      ],
      "execution_count": null,
      "outputs": [
        {
          "output_type": "execute_result",
          "data": {
            "text/plain": [
              "RangeIndex(start=0, stop=103, step=1)"
            ]
          },
          "metadata": {
            "tags": []
          },
          "execution_count": 15
        }
      ]
    },
    {
      "cell_type": "code",
      "metadata": {
        "id": "yBWBXcteiC7q",
        "colab_type": "code",
        "colab": {}
      },
      "source": [
        "df.index.name"
      ],
      "execution_count": null,
      "outputs": []
    },
    {
      "cell_type": "code",
      "metadata": {
        "id": "WRrwHWhwgESm",
        "colab_type": "code",
        "colab": {
          "base_uri": "https://localhost:8080/",
          "height": 204
        },
        "outputId": "ccf14a4b-6158-482e-87aa-f7f8c05d465b"
      },
      "source": [
        "df.head()"
      ],
      "execution_count": null,
      "outputs": [
        {
          "output_type": "execute_result",
          "data": {
            "text/html": [
              "<div>\n",
              "<style scoped>\n",
              "    .dataframe tbody tr th:only-of-type {\n",
              "        vertical-align: middle;\n",
              "    }\n",
              "\n",
              "    .dataframe tbody tr th {\n",
              "        vertical-align: top;\n",
              "    }\n",
              "\n",
              "    .dataframe thead th {\n",
              "        text-align: right;\n",
              "    }\n",
              "</style>\n",
              "<table border=\"1\" class=\"dataframe\">\n",
              "  <thead>\n",
              "    <tr style=\"text-align: right;\">\n",
              "      <th></th>\n",
              "      <th>Postal Code</th>\n",
              "      <th>Borough</th>\n",
              "      <th>Neighbourhood</th>\n",
              "    </tr>\n",
              "  </thead>\n",
              "  <tbody>\n",
              "    <tr>\n",
              "      <th>0</th>\n",
              "      <td>M3A</td>\n",
              "      <td>North York</td>\n",
              "      <td>Parkwoods</td>\n",
              "    </tr>\n",
              "    <tr>\n",
              "      <th>1</th>\n",
              "      <td>M4A</td>\n",
              "      <td>North York</td>\n",
              "      <td>Victoria Village</td>\n",
              "    </tr>\n",
              "    <tr>\n",
              "      <th>2</th>\n",
              "      <td>M5A</td>\n",
              "      <td>Downtown Toronto</td>\n",
              "      <td>Regent Park, Harbourfront</td>\n",
              "    </tr>\n",
              "    <tr>\n",
              "      <th>3</th>\n",
              "      <td>M6A</td>\n",
              "      <td>North York</td>\n",
              "      <td>Lawrence Manor, Lawrence Heights</td>\n",
              "    </tr>\n",
              "    <tr>\n",
              "      <th>4</th>\n",
              "      <td>M7A</td>\n",
              "      <td>Downtown Toronto</td>\n",
              "      <td>Queen's Park, Ontario Provincial Government</td>\n",
              "    </tr>\n",
              "  </tbody>\n",
              "</table>\n",
              "</div>"
            ],
            "text/plain": [
              "  Postal Code           Borough                                Neighbourhood\n",
              "0         M3A        North York                                    Parkwoods\n",
              "1         M4A        North York                             Victoria Village\n",
              "2         M5A  Downtown Toronto                    Regent Park, Harbourfront\n",
              "3         M6A        North York             Lawrence Manor, Lawrence Heights\n",
              "4         M7A  Downtown Toronto  Queen's Park, Ontario Provincial Government"
            ]
          },
          "metadata": {
            "tags": []
          },
          "execution_count": 17
        }
      ]
    },
    {
      "cell_type": "markdown",
      "metadata": {
        "id": "YTmI6RnOCTn1",
        "colab_type": "text"
      },
      "source": [
        "## Week 3 part 2"
      ]
    },
    {
      "cell_type": "markdown",
      "metadata": {
        "id": "ti5X3lRXCeSw",
        "colab_type": "text"
      },
      "source": [
        "Using the csv file to load the latitude and longitude values"
      ]
    },
    {
      "cell_type": "code",
      "metadata": {
        "id": "0S3JUfK6CX3X",
        "colab_type": "code",
        "colab": {}
      },
      "source": [
        "geourl=\"https://cocl.us/Geospatial_data\""
      ],
      "execution_count": null,
      "outputs": []
    },
    {
      "cell_type": "code",
      "metadata": {
        "id": "Q0q4LIUMEsov",
        "colab_type": "code",
        "colab": {}
      },
      "source": [
        "dfgeo = pd.read_csv(geourl)"
      ],
      "execution_count": null,
      "outputs": []
    },
    {
      "cell_type": "code",
      "metadata": {
        "id": "8ftuwOhHE01v",
        "colab_type": "code",
        "colab": {
          "base_uri": "https://localhost:8080/",
          "height": 204
        },
        "outputId": "e309c394-e8f7-4099-d880-8912efcc0dcd"
      },
      "source": [
        "dfgeo.head()"
      ],
      "execution_count": null,
      "outputs": [
        {
          "output_type": "execute_result",
          "data": {
            "text/html": [
              "<div>\n",
              "<style scoped>\n",
              "    .dataframe tbody tr th:only-of-type {\n",
              "        vertical-align: middle;\n",
              "    }\n",
              "\n",
              "    .dataframe tbody tr th {\n",
              "        vertical-align: top;\n",
              "    }\n",
              "\n",
              "    .dataframe thead th {\n",
              "        text-align: right;\n",
              "    }\n",
              "</style>\n",
              "<table border=\"1\" class=\"dataframe\">\n",
              "  <thead>\n",
              "    <tr style=\"text-align: right;\">\n",
              "      <th></th>\n",
              "      <th>Postal Code</th>\n",
              "      <th>Latitude</th>\n",
              "      <th>Longitude</th>\n",
              "    </tr>\n",
              "  </thead>\n",
              "  <tbody>\n",
              "    <tr>\n",
              "      <th>0</th>\n",
              "      <td>M1B</td>\n",
              "      <td>43.806686</td>\n",
              "      <td>-79.194353</td>\n",
              "    </tr>\n",
              "    <tr>\n",
              "      <th>1</th>\n",
              "      <td>M1C</td>\n",
              "      <td>43.784535</td>\n",
              "      <td>-79.160497</td>\n",
              "    </tr>\n",
              "    <tr>\n",
              "      <th>2</th>\n",
              "      <td>M1E</td>\n",
              "      <td>43.763573</td>\n",
              "      <td>-79.188711</td>\n",
              "    </tr>\n",
              "    <tr>\n",
              "      <th>3</th>\n",
              "      <td>M1G</td>\n",
              "      <td>43.770992</td>\n",
              "      <td>-79.216917</td>\n",
              "    </tr>\n",
              "    <tr>\n",
              "      <th>4</th>\n",
              "      <td>M1H</td>\n",
              "      <td>43.773136</td>\n",
              "      <td>-79.239476</td>\n",
              "    </tr>\n",
              "  </tbody>\n",
              "</table>\n",
              "</div>"
            ],
            "text/plain": [
              "  Postal Code   Latitude  Longitude\n",
              "0         M1B  43.806686 -79.194353\n",
              "1         M1C  43.784535 -79.160497\n",
              "2         M1E  43.763573 -79.188711\n",
              "3         M1G  43.770992 -79.216917\n",
              "4         M1H  43.773136 -79.239476"
            ]
          },
          "metadata": {
            "tags": []
          },
          "execution_count": 20
        }
      ]
    },
    {
      "cell_type": "markdown",
      "metadata": {
        "id": "iTbUxtDDG350",
        "colab_type": "text"
      },
      "source": [
        "Set the index for this dataframe"
      ]
    },
    {
      "cell_type": "code",
      "metadata": {
        "id": "Y_o7W62KG-sU",
        "colab_type": "code",
        "colab": {}
      },
      "source": [
        "dfgeo.set_index(\"Postal Code\", drop=True, inplace=True)"
      ],
      "execution_count": null,
      "outputs": []
    },
    {
      "cell_type": "code",
      "metadata": {
        "id": "BpViMMe5HOmM",
        "colab_type": "code",
        "colab": {
          "base_uri": "https://localhost:8080/",
          "height": 235
        },
        "outputId": "a3b47410-8b26-41d9-b902-7ec936549788"
      },
      "source": [
        "dfgeo.head()"
      ],
      "execution_count": null,
      "outputs": [
        {
          "output_type": "execute_result",
          "data": {
            "text/html": [
              "<div>\n",
              "<style scoped>\n",
              "    .dataframe tbody tr th:only-of-type {\n",
              "        vertical-align: middle;\n",
              "    }\n",
              "\n",
              "    .dataframe tbody tr th {\n",
              "        vertical-align: top;\n",
              "    }\n",
              "\n",
              "    .dataframe thead th {\n",
              "        text-align: right;\n",
              "    }\n",
              "</style>\n",
              "<table border=\"1\" class=\"dataframe\">\n",
              "  <thead>\n",
              "    <tr style=\"text-align: right;\">\n",
              "      <th></th>\n",
              "      <th>Latitude</th>\n",
              "      <th>Longitude</th>\n",
              "    </tr>\n",
              "    <tr>\n",
              "      <th>Postal Code</th>\n",
              "      <th></th>\n",
              "      <th></th>\n",
              "    </tr>\n",
              "  </thead>\n",
              "  <tbody>\n",
              "    <tr>\n",
              "      <th>M1B</th>\n",
              "      <td>43.806686</td>\n",
              "      <td>-79.194353</td>\n",
              "    </tr>\n",
              "    <tr>\n",
              "      <th>M1C</th>\n",
              "      <td>43.784535</td>\n",
              "      <td>-79.160497</td>\n",
              "    </tr>\n",
              "    <tr>\n",
              "      <th>M1E</th>\n",
              "      <td>43.763573</td>\n",
              "      <td>-79.188711</td>\n",
              "    </tr>\n",
              "    <tr>\n",
              "      <th>M1G</th>\n",
              "      <td>43.770992</td>\n",
              "      <td>-79.216917</td>\n",
              "    </tr>\n",
              "    <tr>\n",
              "      <th>M1H</th>\n",
              "      <td>43.773136</td>\n",
              "      <td>-79.239476</td>\n",
              "    </tr>\n",
              "  </tbody>\n",
              "</table>\n",
              "</div>"
            ],
            "text/plain": [
              "              Latitude  Longitude\n",
              "Postal Code                      \n",
              "M1B          43.806686 -79.194353\n",
              "M1C          43.784535 -79.160497\n",
              "M1E          43.763573 -79.188711\n",
              "M1G          43.770992 -79.216917\n",
              "M1H          43.773136 -79.239476"
            ]
          },
          "metadata": {
            "tags": []
          },
          "execution_count": 22
        }
      ]
    },
    {
      "cell_type": "markdown",
      "metadata": {
        "id": "lSxlNMEJE4XS",
        "colab_type": "text"
      },
      "source": [
        "Joing this dataframe to the one in part 1"
      ]
    },
    {
      "cell_type": "code",
      "metadata": {
        "id": "QRuJq6WDE-Or",
        "colab_type": "code",
        "colab": {}
      },
      "source": [
        "dfall = df.join(dfgeo, on=\"Postal Code\")"
      ],
      "execution_count": null,
      "outputs": []
    },
    {
      "cell_type": "code",
      "metadata": {
        "id": "GrN_a01UHpel",
        "colab_type": "code",
        "colab": {
          "base_uri": "https://localhost:8080/",
          "height": 204
        },
        "outputId": "98cf86e2-8780-4840-82fc-17ff2522d0c7"
      },
      "source": [
        "dfall.head()"
      ],
      "execution_count": null,
      "outputs": [
        {
          "output_type": "execute_result",
          "data": {
            "text/html": [
              "<div>\n",
              "<style scoped>\n",
              "    .dataframe tbody tr th:only-of-type {\n",
              "        vertical-align: middle;\n",
              "    }\n",
              "\n",
              "    .dataframe tbody tr th {\n",
              "        vertical-align: top;\n",
              "    }\n",
              "\n",
              "    .dataframe thead th {\n",
              "        text-align: right;\n",
              "    }\n",
              "</style>\n",
              "<table border=\"1\" class=\"dataframe\">\n",
              "  <thead>\n",
              "    <tr style=\"text-align: right;\">\n",
              "      <th></th>\n",
              "      <th>Postal Code</th>\n",
              "      <th>Borough</th>\n",
              "      <th>Neighbourhood</th>\n",
              "      <th>Latitude</th>\n",
              "      <th>Longitude</th>\n",
              "    </tr>\n",
              "  </thead>\n",
              "  <tbody>\n",
              "    <tr>\n",
              "      <th>0</th>\n",
              "      <td>M3A</td>\n",
              "      <td>North York</td>\n",
              "      <td>Parkwoods</td>\n",
              "      <td>43.753259</td>\n",
              "      <td>-79.329656</td>\n",
              "    </tr>\n",
              "    <tr>\n",
              "      <th>1</th>\n",
              "      <td>M4A</td>\n",
              "      <td>North York</td>\n",
              "      <td>Victoria Village</td>\n",
              "      <td>43.725882</td>\n",
              "      <td>-79.315572</td>\n",
              "    </tr>\n",
              "    <tr>\n",
              "      <th>2</th>\n",
              "      <td>M5A</td>\n",
              "      <td>Downtown Toronto</td>\n",
              "      <td>Regent Park, Harbourfront</td>\n",
              "      <td>43.654260</td>\n",
              "      <td>-79.360636</td>\n",
              "    </tr>\n",
              "    <tr>\n",
              "      <th>3</th>\n",
              "      <td>M6A</td>\n",
              "      <td>North York</td>\n",
              "      <td>Lawrence Manor, Lawrence Heights</td>\n",
              "      <td>43.718518</td>\n",
              "      <td>-79.464763</td>\n",
              "    </tr>\n",
              "    <tr>\n",
              "      <th>4</th>\n",
              "      <td>M7A</td>\n",
              "      <td>Downtown Toronto</td>\n",
              "      <td>Queen's Park, Ontario Provincial Government</td>\n",
              "      <td>43.662301</td>\n",
              "      <td>-79.389494</td>\n",
              "    </tr>\n",
              "  </tbody>\n",
              "</table>\n",
              "</div>"
            ],
            "text/plain": [
              "  Postal Code           Borough  ...   Latitude  Longitude\n",
              "0         M3A        North York  ...  43.753259 -79.329656\n",
              "1         M4A        North York  ...  43.725882 -79.315572\n",
              "2         M5A  Downtown Toronto  ...  43.654260 -79.360636\n",
              "3         M6A        North York  ...  43.718518 -79.464763\n",
              "4         M7A  Downtown Toronto  ...  43.662301 -79.389494\n",
              "\n",
              "[5 rows x 5 columns]"
            ]
          },
          "metadata": {
            "tags": []
          },
          "execution_count": 24
        }
      ]
    },
    {
      "cell_type": "code",
      "metadata": {
        "id": "m_rwlepEHwuE",
        "colab_type": "code",
        "colab": {
          "base_uri": "https://localhost:8080/",
          "height": 34
        },
        "outputId": "b36fedcc-eed0-465b-d223-edc321b48ec8"
      },
      "source": [
        "dfall.shape"
      ],
      "execution_count": null,
      "outputs": [
        {
          "output_type": "execute_result",
          "data": {
            "text/plain": [
              "(103, 5)"
            ]
          },
          "metadata": {
            "tags": []
          },
          "execution_count": 25
        }
      ]
    },
    {
      "cell_type": "markdown",
      "metadata": {
        "id": "6zgGUumsKhz7",
        "colab_type": "text"
      },
      "source": [
        "## Week 3 part 3"
      ]
    },
    {
      "cell_type": "markdown",
      "metadata": {
        "id": "MM8JTl0eLeW4",
        "colab_type": "text"
      },
      "source": [
        "Lets create a map with only certain boroughs"
      ]
    },
    {
      "cell_type": "code",
      "metadata": {
        "id": "mtFYQj8CKlXB",
        "colab_type": "code",
        "colab": {}
      },
      "source": [
        "import folium"
      ],
      "execution_count": null,
      "outputs": []
    },
    {
      "cell_type": "code",
      "metadata": {
        "id": "LcoTHKYgLhHJ",
        "colab_type": "code",
        "colab": {
          "base_uri": "https://localhost:8080/",
          "height": 204
        },
        "outputId": "d318f5c6-988a-499d-89f6-f74af1bd4bcc"
      },
      "source": [
        "dfall[dfall[\"Borough\"].str.contains(\"Toronto\")].head()"
      ],
      "execution_count": null,
      "outputs": [
        {
          "output_type": "execute_result",
          "data": {
            "text/html": [
              "<div>\n",
              "<style scoped>\n",
              "    .dataframe tbody tr th:only-of-type {\n",
              "        vertical-align: middle;\n",
              "    }\n",
              "\n",
              "    .dataframe tbody tr th {\n",
              "        vertical-align: top;\n",
              "    }\n",
              "\n",
              "    .dataframe thead th {\n",
              "        text-align: right;\n",
              "    }\n",
              "</style>\n",
              "<table border=\"1\" class=\"dataframe\">\n",
              "  <thead>\n",
              "    <tr style=\"text-align: right;\">\n",
              "      <th></th>\n",
              "      <th>Postal Code</th>\n",
              "      <th>Borough</th>\n",
              "      <th>Neighbourhood</th>\n",
              "      <th>Latitude</th>\n",
              "      <th>Longitude</th>\n",
              "    </tr>\n",
              "  </thead>\n",
              "  <tbody>\n",
              "    <tr>\n",
              "      <th>2</th>\n",
              "      <td>M5A</td>\n",
              "      <td>Downtown Toronto</td>\n",
              "      <td>Regent Park, Harbourfront</td>\n",
              "      <td>43.654260</td>\n",
              "      <td>-79.360636</td>\n",
              "    </tr>\n",
              "    <tr>\n",
              "      <th>4</th>\n",
              "      <td>M7A</td>\n",
              "      <td>Downtown Toronto</td>\n",
              "      <td>Queen's Park, Ontario Provincial Government</td>\n",
              "      <td>43.662301</td>\n",
              "      <td>-79.389494</td>\n",
              "    </tr>\n",
              "    <tr>\n",
              "      <th>9</th>\n",
              "      <td>M5B</td>\n",
              "      <td>Downtown Toronto</td>\n",
              "      <td>Garden District, Ryerson</td>\n",
              "      <td>43.657162</td>\n",
              "      <td>-79.378937</td>\n",
              "    </tr>\n",
              "    <tr>\n",
              "      <th>15</th>\n",
              "      <td>M5C</td>\n",
              "      <td>Downtown Toronto</td>\n",
              "      <td>St. James Town</td>\n",
              "      <td>43.651494</td>\n",
              "      <td>-79.375418</td>\n",
              "    </tr>\n",
              "    <tr>\n",
              "      <th>19</th>\n",
              "      <td>M4E</td>\n",
              "      <td>East Toronto</td>\n",
              "      <td>The Beaches</td>\n",
              "      <td>43.676357</td>\n",
              "      <td>-79.293031</td>\n",
              "    </tr>\n",
              "  </tbody>\n",
              "</table>\n",
              "</div>"
            ],
            "text/plain": [
              "   Postal Code           Borough  ...   Latitude  Longitude\n",
              "2          M5A  Downtown Toronto  ...  43.654260 -79.360636\n",
              "4          M7A  Downtown Toronto  ...  43.662301 -79.389494\n",
              "9          M5B  Downtown Toronto  ...  43.657162 -79.378937\n",
              "15         M5C  Downtown Toronto  ...  43.651494 -79.375418\n",
              "19         M4E      East Toronto  ...  43.676357 -79.293031\n",
              "\n",
              "[5 rows x 5 columns]"
            ]
          },
          "metadata": {
            "tags": []
          },
          "execution_count": 29
        }
      ]
    },
    {
      "cell_type": "code",
      "metadata": {
        "id": "XvgJ_AiiMlUH",
        "colab_type": "code",
        "colab": {}
      },
      "source": [
        "mapToronto = folium.Map(location=[43.65, -79.36], zoom_start=12, width=850, height=700)"
      ],
      "execution_count": null,
      "outputs": []
    },
    {
      "cell_type": "markdown",
      "metadata": {
        "id": "BiW_GZJbOFyf",
        "colab_type": "text"
      },
      "source": [
        "Loop through the dataframe and add markers"
      ]
    },
    {
      "cell_type": "code",
      "metadata": {
        "id": "bEPwWFkhOU7L",
        "colab_type": "code",
        "colab": {}
      },
      "source": [
        "dfTor = dfall[dfall[\"Borough\"].str.contains(\"Toronto\")]"
      ],
      "execution_count": null,
      "outputs": []
    },
    {
      "cell_type": "code",
      "metadata": {
        "id": "EI9ZGf0wOcmH",
        "colab_type": "code",
        "colab": {
          "base_uri": "https://localhost:8080/",
          "height": 204
        },
        "outputId": "52f306b6-8122-4c93-8908-f30b1f1ecaea"
      },
      "source": [
        "dfTor.head()"
      ],
      "execution_count": null,
      "outputs": [
        {
          "output_type": "execute_result",
          "data": {
            "text/html": [
              "<div>\n",
              "<style scoped>\n",
              "    .dataframe tbody tr th:only-of-type {\n",
              "        vertical-align: middle;\n",
              "    }\n",
              "\n",
              "    .dataframe tbody tr th {\n",
              "        vertical-align: top;\n",
              "    }\n",
              "\n",
              "    .dataframe thead th {\n",
              "        text-align: right;\n",
              "    }\n",
              "</style>\n",
              "<table border=\"1\" class=\"dataframe\">\n",
              "  <thead>\n",
              "    <tr style=\"text-align: right;\">\n",
              "      <th></th>\n",
              "      <th>Postal Code</th>\n",
              "      <th>Borough</th>\n",
              "      <th>Neighbourhood</th>\n",
              "      <th>Latitude</th>\n",
              "      <th>Longitude</th>\n",
              "    </tr>\n",
              "  </thead>\n",
              "  <tbody>\n",
              "    <tr>\n",
              "      <th>2</th>\n",
              "      <td>M5A</td>\n",
              "      <td>Downtown Toronto</td>\n",
              "      <td>Regent Park, Harbourfront</td>\n",
              "      <td>43.654260</td>\n",
              "      <td>-79.360636</td>\n",
              "    </tr>\n",
              "    <tr>\n",
              "      <th>4</th>\n",
              "      <td>M7A</td>\n",
              "      <td>Downtown Toronto</td>\n",
              "      <td>Queen's Park, Ontario Provincial Government</td>\n",
              "      <td>43.662301</td>\n",
              "      <td>-79.389494</td>\n",
              "    </tr>\n",
              "    <tr>\n",
              "      <th>9</th>\n",
              "      <td>M5B</td>\n",
              "      <td>Downtown Toronto</td>\n",
              "      <td>Garden District, Ryerson</td>\n",
              "      <td>43.657162</td>\n",
              "      <td>-79.378937</td>\n",
              "    </tr>\n",
              "    <tr>\n",
              "      <th>15</th>\n",
              "      <td>M5C</td>\n",
              "      <td>Downtown Toronto</td>\n",
              "      <td>St. James Town</td>\n",
              "      <td>43.651494</td>\n",
              "      <td>-79.375418</td>\n",
              "    </tr>\n",
              "    <tr>\n",
              "      <th>19</th>\n",
              "      <td>M4E</td>\n",
              "      <td>East Toronto</td>\n",
              "      <td>The Beaches</td>\n",
              "      <td>43.676357</td>\n",
              "      <td>-79.293031</td>\n",
              "    </tr>\n",
              "  </tbody>\n",
              "</table>\n",
              "</div>"
            ],
            "text/plain": [
              "   Postal Code           Borough  ...   Latitude  Longitude\n",
              "2          M5A  Downtown Toronto  ...  43.654260 -79.360636\n",
              "4          M7A  Downtown Toronto  ...  43.662301 -79.389494\n",
              "9          M5B  Downtown Toronto  ...  43.657162 -79.378937\n",
              "15         M5C  Downtown Toronto  ...  43.651494 -79.375418\n",
              "19         M4E      East Toronto  ...  43.676357 -79.293031\n",
              "\n",
              "[5 rows x 5 columns]"
            ]
          },
          "metadata": {
            "tags": []
          },
          "execution_count": 49
        }
      ]
    },
    {
      "cell_type": "code",
      "metadata": {
        "id": "iQbHCzpVOqRW",
        "colab_type": "code",
        "colab": {}
      },
      "source": [
        "for lat, long, borough, postcode in zip(dfTor[\"Latitude\"], dfTor[\"Longitude\"], dfTor[\"Borough\"], dfTor[\"Postal Code\"]):\n",
        "  # print(borough, postcode)\n",
        "  popupLabel = folium.Popup(f\"{postcode}\", parse_html=True)\n",
        "  folium.CircleMarker(\n",
        "      [lat, long],\n",
        "      radius=2,\n",
        "      popup=popupLabel,\n",
        "      color=\"green\"\n",
        "  ).add_to(mapToronto)\n"
      ],
      "execution_count": null,
      "outputs": []
    },
    {
      "cell_type": "code",
      "metadata": {
        "id": "79dJKOzuM6PH",
        "colab_type": "code",
        "colab": {
          "base_uri": "https://localhost:8080/",
          "height": 1000
        },
        "outputId": "43e2c913-c5d4-47eb-e3e3-ffa44a282be0"
      },
      "source": [
        "mapToronto"
      ],
      "execution_count": null,
      "outputs": [
        {
          "output_type": "execute_result",
          "data": {
            "text/html": [
              "<div style=\"width:100%;\"><div style=\"position:relative;width:100%;height:0;padding-bottom:60%;\"><span style=\"color:#565656\">Make this Notebook Trusted to load map: File -> Trust Notebook</span><iframe src=\"about:blank\" style=\"position:absolute;width:100%;height:100%;left:0;top:0;border:none !important;\" data-html=PCFET0NUWVBFIGh0bWw+CjxoZWFkPiAgICAKICAgIDxtZXRhIGh0dHAtZXF1aXY9ImNvbnRlbnQtdHlwZSIgY29udGVudD0idGV4dC9odG1sOyBjaGFyc2V0PVVURi04IiAvPgogICAgPHNjcmlwdD5MX1BSRUZFUl9DQU5WQVM9ZmFsc2U7IExfTk9fVE9VQ0g9ZmFsc2U7IExfRElTQUJMRV8zRD1mYWxzZTs8L3NjcmlwdD4KICAgIDxzY3JpcHQgc3JjPSJodHRwczovL2Nkbi5qc2RlbGl2ci5uZXQvbnBtL2xlYWZsZXRAMS40LjAvZGlzdC9sZWFmbGV0LmpzIj48L3NjcmlwdD4KICAgIDxzY3JpcHQgc3JjPSJodHRwczovL2NvZGUuanF1ZXJ5LmNvbS9qcXVlcnktMS4xMi40Lm1pbi5qcyI+PC9zY3JpcHQ+CiAgICA8c2NyaXB0IHNyYz0iaHR0cHM6Ly9tYXhjZG4uYm9vdHN0cmFwY2RuLmNvbS9ib290c3RyYXAvMy4yLjAvanMvYm9vdHN0cmFwLm1pbi5qcyI+PC9zY3JpcHQ+CiAgICA8c2NyaXB0IHNyYz0iaHR0cHM6Ly9jZG5qcy5jbG91ZGZsYXJlLmNvbS9hamF4L2xpYnMvTGVhZmxldC5hd2Vzb21lLW1hcmtlcnMvMi4wLjIvbGVhZmxldC5hd2Vzb21lLW1hcmtlcnMuanMiPjwvc2NyaXB0PgogICAgPGxpbmsgcmVsPSJzdHlsZXNoZWV0IiBocmVmPSJodHRwczovL2Nkbi5qc2RlbGl2ci5uZXQvbnBtL2xlYWZsZXRAMS40LjAvZGlzdC9sZWFmbGV0LmNzcyIvPgogICAgPGxpbmsgcmVsPSJzdHlsZXNoZWV0IiBocmVmPSJodHRwczovL21heGNkbi5ib290c3RyYXBjZG4uY29tL2Jvb3RzdHJhcC8zLjIuMC9jc3MvYm9vdHN0cmFwLm1pbi5jc3MiLz4KICAgIDxsaW5rIHJlbD0ic3R5bGVzaGVldCIgaHJlZj0iaHR0cHM6Ly9tYXhjZG4uYm9vdHN0cmFwY2RuLmNvbS9ib290c3RyYXAvMy4yLjAvY3NzL2Jvb3RzdHJhcC10aGVtZS5taW4uY3NzIi8+CiAgICA8bGluayByZWw9InN0eWxlc2hlZXQiIGhyZWY9Imh0dHBzOi8vbWF4Y2RuLmJvb3RzdHJhcGNkbi5jb20vZm9udC1hd2Vzb21lLzQuNi4zL2Nzcy9mb250LWF3ZXNvbWUubWluLmNzcyIvPgogICAgPGxpbmsgcmVsPSJzdHlsZXNoZWV0IiBocmVmPSJodHRwczovL2NkbmpzLmNsb3VkZmxhcmUuY29tL2FqYXgvbGlicy9MZWFmbGV0LmF3ZXNvbWUtbWFya2Vycy8yLjAuMi9sZWFmbGV0LmF3ZXNvbWUtbWFya2Vycy5jc3MiLz4KICAgIDxsaW5rIHJlbD0ic3R5bGVzaGVldCIgaHJlZj0iaHR0cHM6Ly9yYXdjZG4uZ2l0aGFjay5jb20vcHl0aG9uLXZpc3VhbGl6YXRpb24vZm9saXVtL21hc3Rlci9mb2xpdW0vdGVtcGxhdGVzL2xlYWZsZXQuYXdlc29tZS5yb3RhdGUuY3NzIi8+CiAgICA8c3R5bGU+aHRtbCwgYm9keSB7d2lkdGg6IDEwMCU7aGVpZ2h0OiAxMDAlO21hcmdpbjogMDtwYWRkaW5nOiAwO308L3N0eWxlPgogICAgPHN0eWxlPiNtYXAge3Bvc2l0aW9uOmFic29sdXRlO3RvcDowO2JvdHRvbTowO3JpZ2h0OjA7bGVmdDowO308L3N0eWxlPgogICAgCiAgICA8bWV0YSBuYW1lPSJ2aWV3cG9ydCIgY29udGVudD0id2lkdGg9ZGV2aWNlLXdpZHRoLAogICAgICAgIGluaXRpYWwtc2NhbGU9MS4wLCBtYXhpbXVtLXNjYWxlPTEuMCwgdXNlci1zY2FsYWJsZT1ubyIgLz4KICAgIDxzdHlsZT4jbWFwX2IwM2VmN2JiYWVhMjQ3ZTA4MDcyZDIyOTc0MmViZWJjIHsKICAgICAgICBwb3NpdGlvbjogcmVsYXRpdmU7CiAgICAgICAgd2lkdGg6IDg1MC4wcHg7CiAgICAgICAgaGVpZ2h0OiA3MDAuMHB4OwogICAgICAgIGxlZnQ6IDAuMCU7CiAgICAgICAgdG9wOiAwLjAlOwogICAgICAgIH0KICAgIDwvc3R5bGU+CjwvaGVhZD4KPGJvZHk+ICAgIAogICAgCiAgICA8ZGl2IGNsYXNzPSJmb2xpdW0tbWFwIiBpZD0ibWFwX2IwM2VmN2JiYWVhMjQ3ZTA4MDcyZDIyOTc0MmViZWJjIiA+PC9kaXY+CjwvYm9keT4KPHNjcmlwdD4gICAgCiAgICAKICAgIAogICAgICAgIHZhciBib3VuZHMgPSBudWxsOwogICAgCgogICAgdmFyIG1hcF9iMDNlZjdiYmFlYTI0N2UwODA3MmQyMjk3NDJlYmViYyA9IEwubWFwKAogICAgICAgICdtYXBfYjAzZWY3YmJhZWEyNDdlMDgwNzJkMjI5NzQyZWJlYmMnLCB7CiAgICAgICAgY2VudGVyOiBbNDMuNjUsIC03OS4zNl0sCiAgICAgICAgem9vbTogMTIsCiAgICAgICAgbWF4Qm91bmRzOiBib3VuZHMsCiAgICAgICAgbGF5ZXJzOiBbXSwKICAgICAgICB3b3JsZENvcHlKdW1wOiBmYWxzZSwKICAgICAgICBjcnM6IEwuQ1JTLkVQU0czODU3LAogICAgICAgIHpvb21Db250cm9sOiB0cnVlLAogICAgICAgIH0pOwoKCiAgICAKICAgIHZhciB0aWxlX2xheWVyXzkxZjM0MWI4MmFlODRmYzRiYzU5MDc0NGM5ZTVhNjBhID0gTC50aWxlTGF5ZXIoCiAgICAgICAgJ2h0dHBzOi8ve3N9LnRpbGUub3BlbnN0cmVldG1hcC5vcmcve3p9L3t4fS97eX0ucG5nJywKICAgICAgICB7CiAgICAgICAgImF0dHJpYnV0aW9uIjogbnVsbCwKICAgICAgICAiZGV0ZWN0UmV0aW5hIjogZmFsc2UsCiAgICAgICAgIm1heE5hdGl2ZVpvb20iOiAxOCwKICAgICAgICAibWF4Wm9vbSI6IDE4LAogICAgICAgICJtaW5ab29tIjogMCwKICAgICAgICAibm9XcmFwIjogZmFsc2UsCiAgICAgICAgIm9wYWNpdHkiOiAxLAogICAgICAgICJzdWJkb21haW5zIjogImFiYyIsCiAgICAgICAgInRtcyI6IGZhbHNlCn0pLmFkZFRvKG1hcF9iMDNlZjdiYmFlYTI0N2UwODA3MmQyMjk3NDJlYmViYyk7CiAgICAKICAgICAgICAgICAgdmFyIGNpcmNsZV9tYXJrZXJfYmFjNjcyNTdlMjY5NGM1NGE4NmYyNGU3OGFjNWNmNGYgPSBMLmNpcmNsZU1hcmtlcigKICAgICAgICAgICAgICAgIFs0My42NTQyNTk5LCAtNzkuMzYwNjM1OV0sCiAgICAgICAgICAgICAgICB7CiAgImJ1YmJsaW5nTW91c2VFdmVudHMiOiB0cnVlLAogICJjb2xvciI6ICJncmVlbiIsCiAgImRhc2hBcnJheSI6IG51bGwsCiAgImRhc2hPZmZzZXQiOiBudWxsLAogICJmaWxsIjogZmFsc2UsCiAgImZpbGxDb2xvciI6ICJncmVlbiIsCiAgImZpbGxPcGFjaXR5IjogMC4yLAogICJmaWxsUnVsZSI6ICJldmVub2RkIiwKICAibGluZUNhcCI6ICJyb3VuZCIsCiAgImxpbmVKb2luIjogInJvdW5kIiwKICAib3BhY2l0eSI6IDEuMCwKICAicmFkaXVzIjogMiwKICAic3Ryb2tlIjogdHJ1ZSwKICAid2VpZ2h0IjogMwp9CiAgICAgICAgICAgICAgICApCiAgICAgICAgICAgICAgICAuYWRkVG8obWFwX2IwM2VmN2JiYWVhMjQ3ZTA4MDcyZDIyOTc0MmViZWJjKTsKICAgICAgICAgICAgCiAgICAKICAgICAgICAgICAgdmFyIHBvcHVwXzIxNzE4MzE1MDdjMjQzZmU4Y2MzMzhlMTE0OTJlYjcwID0gTC5wb3B1cCh7bWF4V2lkdGg6ICcxMDAlJwogICAgICAgICAgICAKICAgICAgICAgICAgfSk7CgogICAgICAgICAgICAKICAgICAgICAgICAgICAgIHZhciBodG1sXzQ5NmRmNTc0N2NkMzRjOGQ4ZWZjNzlmNWVmZTA4MzkxID0gJChgPGRpdiBpZD0iaHRtbF80OTZkZjU3NDdjZDM0YzhkOGVmYzc5ZjVlZmUwODM5MSIgc3R5bGU9IndpZHRoOiAxMDAuMCU7IGhlaWdodDogMTAwLjAlOyI+TTVBPC9kaXY+YClbMF07CiAgICAgICAgICAgICAgICBwb3B1cF8yMTcxODMxNTA3YzI0M2ZlOGNjMzM4ZTExNDkyZWI3MC5zZXRDb250ZW50KGh0bWxfNDk2ZGY1NzQ3Y2QzNGM4ZDhlZmM3OWY1ZWZlMDgzOTEpOwogICAgICAgICAgICAKCiAgICAgICAgICAgIGNpcmNsZV9tYXJrZXJfYmFjNjcyNTdlMjY5NGM1NGE4NmYyNGU3OGFjNWNmNGYuYmluZFBvcHVwKHBvcHVwXzIxNzE4MzE1MDdjMjQzZmU4Y2MzMzhlMTE0OTJlYjcwKQogICAgICAgICAgICA7CgogICAgICAgICAgICAKICAgICAgICAKICAgIAogICAgICAgICAgICB2YXIgY2lyY2xlX21hcmtlcl8wY2ZhMDExY2ZkYWI0MWIxOWEzN2NiNTg4NGYzMzkxMiA9IEwuY2lyY2xlTWFya2VyKAogICAgICAgICAgICAgICAgWzQzLjY2MjMwMTUsIC03OS4zODk0OTM4XSwKICAgICAgICAgICAgICAgIHsKICAiYnViYmxpbmdNb3VzZUV2ZW50cyI6IHRydWUsCiAgImNvbG9yIjogImdyZWVuIiwKICAiZGFzaEFycmF5IjogbnVsbCwKICAiZGFzaE9mZnNldCI6IG51bGwsCiAgImZpbGwiOiBmYWxzZSwKICAiZmlsbENvbG9yIjogImdyZWVuIiwKICAiZmlsbE9wYWNpdHkiOiAwLjIsCiAgImZpbGxSdWxlIjogImV2ZW5vZGQiLAogICJsaW5lQ2FwIjogInJvdW5kIiwKICAibGluZUpvaW4iOiAicm91bmQiLAogICJvcGFjaXR5IjogMS4wLAogICJyYWRpdXMiOiAyLAogICJzdHJva2UiOiB0cnVlLAogICJ3ZWlnaHQiOiAzCn0KICAgICAgICAgICAgICAgICkKICAgICAgICAgICAgICAgIC5hZGRUbyhtYXBfYjAzZWY3YmJhZWEyNDdlMDgwNzJkMjI5NzQyZWJlYmMpOwogICAgICAgICAgICAKICAgIAogICAgICAgICAgICB2YXIgcG9wdXBfNjI5ZGJjYzU4YjRkNGE1MGIyMzI0MTVlMTE0YzA4OTggPSBMLnBvcHVwKHttYXhXaWR0aDogJzEwMCUnCiAgICAgICAgICAgIAogICAgICAgICAgICB9KTsKCiAgICAgICAgICAgIAogICAgICAgICAgICAgICAgdmFyIGh0bWxfNjJiZDQyZmUwNmQ3NDg4OWE3MTM4ZGQ4ZmNiYzExYmIgPSAkKGA8ZGl2IGlkPSJodG1sXzYyYmQ0MmZlMDZkNzQ4ODlhNzEzOGRkOGZjYmMxMWJiIiBzdHlsZT0id2lkdGg6IDEwMC4wJTsgaGVpZ2h0OiAxMDAuMCU7Ij5NN0E8L2Rpdj5gKVswXTsKICAgICAgICAgICAgICAgIHBvcHVwXzYyOWRiY2M1OGI0ZDRhNTBiMjMyNDE1ZTExNGMwODk4LnNldENvbnRlbnQoaHRtbF82MmJkNDJmZTA2ZDc0ODg5YTcxMzhkZDhmY2JjMTFiYik7CiAgICAgICAgICAgIAoKICAgICAgICAgICAgY2lyY2xlX21hcmtlcl8wY2ZhMDExY2ZkYWI0MWIxOWEzN2NiNTg4NGYzMzkxMi5iaW5kUG9wdXAocG9wdXBfNjI5ZGJjYzU4YjRkNGE1MGIyMzI0MTVlMTE0YzA4OTgpCiAgICAgICAgICAgIDsKCiAgICAgICAgICAgIAogICAgICAgIAogICAgCiAgICAgICAgICAgIHZhciBjaXJjbGVfbWFya2VyXzMzMjhhMDM1ZWY4YTQ4NDRiZTBlYWQ0NWFhZTQyMWFlID0gTC5jaXJjbGVNYXJrZXIoCiAgICAgICAgICAgICAgICBbNDMuNjU3MTYxOCwgLTc5LjM3ODkzNzA5OTk5OTk5XSwKICAgICAgICAgICAgICAgIHsKICAiYnViYmxpbmdNb3VzZUV2ZW50cyI6IHRydWUsCiAgImNvbG9yIjogImdyZWVuIiwKICAiZGFzaEFycmF5IjogbnVsbCwKICAiZGFzaE9mZnNldCI6IG51bGwsCiAgImZpbGwiOiBmYWxzZSwKICAiZmlsbENvbG9yIjogImdyZWVuIiwKICAiZmlsbE9wYWNpdHkiOiAwLjIsCiAgImZpbGxSdWxlIjogImV2ZW5vZGQiLAogICJsaW5lQ2FwIjogInJvdW5kIiwKICAibGluZUpvaW4iOiAicm91bmQiLAogICJvcGFjaXR5IjogMS4wLAogICJyYWRpdXMiOiAyLAogICJzdHJva2UiOiB0cnVlLAogICJ3ZWlnaHQiOiAzCn0KICAgICAgICAgICAgICAgICkKICAgICAgICAgICAgICAgIC5hZGRUbyhtYXBfYjAzZWY3YmJhZWEyNDdlMDgwNzJkMjI5NzQyZWJlYmMpOwogICAgICAgICAgICAKICAgIAogICAgICAgICAgICB2YXIgcG9wdXBfZmQ1YThkMDRkYTE5NDhmY2FmYmYwNjc4ODAwMzM1ZDEgPSBMLnBvcHVwKHttYXhXaWR0aDogJzEwMCUnCiAgICAgICAgICAgIAogICAgICAgICAgICB9KTsKCiAgICAgICAgICAgIAogICAgICAgICAgICAgICAgdmFyIGh0bWxfOWEwYWU3MjUxZmI2NDljNDkzNzBlYTkzZjY5MTRmNGMgPSAkKGA8ZGl2IGlkPSJodG1sXzlhMGFlNzI1MWZiNjQ5YzQ5MzcwZWE5M2Y2OTE0ZjRjIiBzdHlsZT0id2lkdGg6IDEwMC4wJTsgaGVpZ2h0OiAxMDAuMCU7Ij5NNUI8L2Rpdj5gKVswXTsKICAgICAgICAgICAgICAgIHBvcHVwX2ZkNWE4ZDA0ZGExOTQ4ZmNhZmJmMDY3ODgwMDMzNWQxLnNldENvbnRlbnQoaHRtbF85YTBhZTcyNTFmYjY0OWM0OTM3MGVhOTNmNjkxNGY0Yyk7CiAgICAgICAgICAgIAoKICAgICAgICAgICAgY2lyY2xlX21hcmtlcl8zMzI4YTAzNWVmOGE0ODQ0YmUwZWFkNDVhYWU0MjFhZS5iaW5kUG9wdXAocG9wdXBfZmQ1YThkMDRkYTE5NDhmY2FmYmYwNjc4ODAwMzM1ZDEpCiAgICAgICAgICAgIDsKCiAgICAgICAgICAgIAogICAgICAgIAogICAgCiAgICAgICAgICAgIHZhciBjaXJjbGVfbWFya2VyX2Y3NTVlMjgxODQ1ZjRmNjc5ODNkNTdmYjQyOTY4OWJiID0gTC5jaXJjbGVNYXJrZXIoCiAgICAgICAgICAgICAgICBbNDMuNjUxNDkzOSwgLTc5LjM3NTQxNzldLAogICAgICAgICAgICAgICAgewogICJidWJibGluZ01vdXNlRXZlbnRzIjogdHJ1ZSwKICAiY29sb3IiOiAiZ3JlZW4iLAogICJkYXNoQXJyYXkiOiBudWxsLAogICJkYXNoT2Zmc2V0IjogbnVsbCwKICAiZmlsbCI6IGZhbHNlLAogICJmaWxsQ29sb3IiOiAiZ3JlZW4iLAogICJmaWxsT3BhY2l0eSI6IDAuMiwKICAiZmlsbFJ1bGUiOiAiZXZlbm9kZCIsCiAgImxpbmVDYXAiOiAicm91bmQiLAogICJsaW5lSm9pbiI6ICJyb3VuZCIsCiAgIm9wYWNpdHkiOiAxLjAsCiAgInJhZGl1cyI6IDIsCiAgInN0cm9rZSI6IHRydWUsCiAgIndlaWdodCI6IDMKfQogICAgICAgICAgICAgICAgKQogICAgICAgICAgICAgICAgLmFkZFRvKG1hcF9iMDNlZjdiYmFlYTI0N2UwODA3MmQyMjk3NDJlYmViYyk7CiAgICAgICAgICAgIAogICAgCiAgICAgICAgICAgIHZhciBwb3B1cF9jM2VmY2YwODJlYjc0OGMxODkxNTM0MDIwNWZmNWQ1ZiA9IEwucG9wdXAoe21heFdpZHRoOiAnMTAwJScKICAgICAgICAgICAgCiAgICAgICAgICAgIH0pOwoKICAgICAgICAgICAgCiAgICAgICAgICAgICAgICB2YXIgaHRtbF8yZjQ1MzhjZmQ5NGE0NTljODJiYzNkNmQ4ZTEyZjEzYyA9ICQoYDxkaXYgaWQ9Imh0bWxfMmY0NTM4Y2ZkOTRhNDU5YzgyYmMzZDZkOGUxMmYxM2MiIHN0eWxlPSJ3aWR0aDogMTAwLjAlOyBoZWlnaHQ6IDEwMC4wJTsiPk01QzwvZGl2PmApWzBdOwogICAgICAgICAgICAgICAgcG9wdXBfYzNlZmNmMDgyZWI3NDhjMTg5MTUzNDAyMDVmZjVkNWYuc2V0Q29udGVudChodG1sXzJmNDUzOGNmZDk0YTQ1OWM4MmJjM2Q2ZDhlMTJmMTNjKTsKICAgICAgICAgICAgCgogICAgICAgICAgICBjaXJjbGVfbWFya2VyX2Y3NTVlMjgxODQ1ZjRmNjc5ODNkNTdmYjQyOTY4OWJiLmJpbmRQb3B1cChwb3B1cF9jM2VmY2YwODJlYjc0OGMxODkxNTM0MDIwNWZmNWQ1ZikKICAgICAgICAgICAgOwoKICAgICAgICAgICAgCiAgICAgICAgCiAgICAKICAgICAgICAgICAgdmFyIGNpcmNsZV9tYXJrZXJfMzU1NTdkNWYyZTNhNDM2NmFjYWMwNDZiNTZlOWE4OGEgPSBMLmNpcmNsZU1hcmtlcigKICAgICAgICAgICAgICAgIFs0My42NzYzNTczOTk5OTk5OSwgLTc5LjI5MzAzMTJdLAogICAgICAgICAgICAgICAgewogICJidWJibGluZ01vdXNlRXZlbnRzIjogdHJ1ZSwKICAiY29sb3IiOiAiZ3JlZW4iLAogICJkYXNoQXJyYXkiOiBudWxsLAogICJkYXNoT2Zmc2V0IjogbnVsbCwKICAiZmlsbCI6IGZhbHNlLAogICJmaWxsQ29sb3IiOiAiZ3JlZW4iLAogICJmaWxsT3BhY2l0eSI6IDAuMiwKICAiZmlsbFJ1bGUiOiAiZXZlbm9kZCIsCiAgImxpbmVDYXAiOiAicm91bmQiLAogICJsaW5lSm9pbiI6ICJyb3VuZCIsCiAgIm9wYWNpdHkiOiAxLjAsCiAgInJhZGl1cyI6IDIsCiAgInN0cm9rZSI6IHRydWUsCiAgIndlaWdodCI6IDMKfQogICAgICAgICAgICAgICAgKQogICAgICAgICAgICAgICAgLmFkZFRvKG1hcF9iMDNlZjdiYmFlYTI0N2UwODA3MmQyMjk3NDJlYmViYyk7CiAgICAgICAgICAgIAogICAgCiAgICAgICAgICAgIHZhciBwb3B1cF80MDc5NzQ0MDRhMWE0N2MyOGEwMGZjZDNiN2Q2YThiYiA9IEwucG9wdXAoe21heFdpZHRoOiAnMTAwJScKICAgICAgICAgICAgCiAgICAgICAgICAgIH0pOwoKICAgICAgICAgICAgCiAgICAgICAgICAgICAgICB2YXIgaHRtbF81MmZiZDA2ZDJmZmQ0NWZiOTAwOTY1MTUwZGU2NDVjZCA9ICQoYDxkaXYgaWQ9Imh0bWxfNTJmYmQwNmQyZmZkNDVmYjkwMDk2NTE1MGRlNjQ1Y2QiIHN0eWxlPSJ3aWR0aDogMTAwLjAlOyBoZWlnaHQ6IDEwMC4wJTsiPk00RTwvZGl2PmApWzBdOwogICAgICAgICAgICAgICAgcG9wdXBfNDA3OTc0NDA0YTFhNDdjMjhhMDBmY2QzYjdkNmE4YmIuc2V0Q29udGVudChodG1sXzUyZmJkMDZkMmZmZDQ1ZmI5MDA5NjUxNTBkZTY0NWNkKTsKICAgICAgICAgICAgCgogICAgICAgICAgICBjaXJjbGVfbWFya2VyXzM1NTU3ZDVmMmUzYTQzNjZhY2FjMDQ2YjU2ZTlhODhhLmJpbmRQb3B1cChwb3B1cF80MDc5NzQ0MDRhMWE0N2MyOGEwMGZjZDNiN2Q2YThiYikKICAgICAgICAgICAgOwoKICAgICAgICAgICAgCiAgICAgICAgCiAgICAKICAgICAgICAgICAgdmFyIGNpcmNsZV9tYXJrZXJfMTdiNWM5ZmJlMzA2NDZmODg2ODUzZWZiNzcyOTI0NTQgPSBMLmNpcmNsZU1hcmtlcigKICAgICAgICAgICAgICAgIFs0My42NDQ3NzA3OTk5OTk5OTYsIC03OS4zNzMzMDY0XSwKICAgICAgICAgICAgICAgIHsKICAiYnViYmxpbmdNb3VzZUV2ZW50cyI6IHRydWUsCiAgImNvbG9yIjogImdyZWVuIiwKICAiZGFzaEFycmF5IjogbnVsbCwKICAiZGFzaE9mZnNldCI6IG51bGwsCiAgImZpbGwiOiBmYWxzZSwKICAiZmlsbENvbG9yIjogImdyZWVuIiwKICAiZmlsbE9wYWNpdHkiOiAwLjIsCiAgImZpbGxSdWxlIjogImV2ZW5vZGQiLAogICJsaW5lQ2FwIjogInJvdW5kIiwKICAibGluZUpvaW4iOiAicm91bmQiLAogICJvcGFjaXR5IjogMS4wLAogICJyYWRpdXMiOiAyLAogICJzdHJva2UiOiB0cnVlLAogICJ3ZWlnaHQiOiAzCn0KICAgICAgICAgICAgICAgICkKICAgICAgICAgICAgICAgIC5hZGRUbyhtYXBfYjAzZWY3YmJhZWEyNDdlMDgwNzJkMjI5NzQyZWJlYmMpOwogICAgICAgICAgICAKICAgIAogICAgICAgICAgICB2YXIgcG9wdXBfMDBmMjVmOGZiYmM1NDBlMzgwZjBiM2Y0MGE1OTUwMGQgPSBMLnBvcHVwKHttYXhXaWR0aDogJzEwMCUnCiAgICAgICAgICAgIAogICAgICAgICAgICB9KTsKCiAgICAgICAgICAgIAogICAgICAgICAgICAgICAgdmFyIGh0bWxfNzU0MDQ0ZDk4YWYxNDBjNmJkMjYwMTMwZDljNmFlYjIgPSAkKGA8ZGl2IGlkPSJodG1sXzc1NDA0NGQ5OGFmMTQwYzZiZDI2MDEzMGQ5YzZhZWIyIiBzdHlsZT0id2lkdGg6IDEwMC4wJTsgaGVpZ2h0OiAxMDAuMCU7Ij5NNUU8L2Rpdj5gKVswXTsKICAgICAgICAgICAgICAgIHBvcHVwXzAwZjI1ZjhmYmJjNTQwZTM4MGYwYjNmNDBhNTk1MDBkLnNldENvbnRlbnQoaHRtbF83NTQwNDRkOThhZjE0MGM2YmQyNjAxMzBkOWM2YWViMik7CiAgICAgICAgICAgIAoKICAgICAgICAgICAgY2lyY2xlX21hcmtlcl8xN2I1YzlmYmUzMDY0NmY4ODY4NTNlZmI3NzI5MjQ1NC5iaW5kUG9wdXAocG9wdXBfMDBmMjVmOGZiYmM1NDBlMzgwZjBiM2Y0MGE1OTUwMGQpCiAgICAgICAgICAgIDsKCiAgICAgICAgICAgIAogICAgICAgIAogICAgCiAgICAgICAgICAgIHZhciBjaXJjbGVfbWFya2VyX2Y0ZjZmMjE4ZDM0YTRlMGE4MDkyYmRlODkxNDZiMTc0ID0gTC5jaXJjbGVNYXJrZXIoCiAgICAgICAgICAgICAgICBbNDMuNjU3OTUyNCwgLTc5LjM4NzM4MjZdLAogICAgICAgICAgICAgICAgewogICJidWJibGluZ01vdXNlRXZlbnRzIjogdHJ1ZSwKICAiY29sb3IiOiAiZ3JlZW4iLAogICJkYXNoQXJyYXkiOiBudWxsLAogICJkYXNoT2Zmc2V0IjogbnVsbCwKICAiZmlsbCI6IGZhbHNlLAogICJmaWxsQ29sb3IiOiAiZ3JlZW4iLAogICJmaWxsT3BhY2l0eSI6IDAuMiwKICAiZmlsbFJ1bGUiOiAiZXZlbm9kZCIsCiAgImxpbmVDYXAiOiAicm91bmQiLAogICJsaW5lSm9pbiI6ICJyb3VuZCIsCiAgIm9wYWNpdHkiOiAxLjAsCiAgInJhZGl1cyI6IDIsCiAgInN0cm9rZSI6IHRydWUsCiAgIndlaWdodCI6IDMKfQogICAgICAgICAgICAgICAgKQogICAgICAgICAgICAgICAgLmFkZFRvKG1hcF9iMDNlZjdiYmFlYTI0N2UwODA3MmQyMjk3NDJlYmViYyk7CiAgICAgICAgICAgIAogICAgCiAgICAgICAgICAgIHZhciBwb3B1cF81YzViYmY3YTczODM0NTFhODVhZDk3NmQ4YmEzZTNhNiA9IEwucG9wdXAoe21heFdpZHRoOiAnMTAwJScKICAgICAgICAgICAgCiAgICAgICAgICAgIH0pOwoKICAgICAgICAgICAgCiAgICAgICAgICAgICAgICB2YXIgaHRtbF9kNzhmMzc4NDcyMzM0MWIwYWI0OTg0Njg1ZmNlYjJlZiA9ICQoYDxkaXYgaWQ9Imh0bWxfZDc4ZjM3ODQ3MjMzNDFiMGFiNDk4NDY4NWZjZWIyZWYiIHN0eWxlPSJ3aWR0aDogMTAwLjAlOyBoZWlnaHQ6IDEwMC4wJTsiPk01RzwvZGl2PmApWzBdOwogICAgICAgICAgICAgICAgcG9wdXBfNWM1YmJmN2E3MzgzNDUxYTg1YWQ5NzZkOGJhM2UzYTYuc2V0Q29udGVudChodG1sX2Q3OGYzNzg0NzIzMzQxYjBhYjQ5ODQ2ODVmY2ViMmVmKTsKICAgICAgICAgICAgCgogICAgICAgICAgICBjaXJjbGVfbWFya2VyX2Y0ZjZmMjE4ZDM0YTRlMGE4MDkyYmRlODkxNDZiMTc0LmJpbmRQb3B1cChwb3B1cF81YzViYmY3YTczODM0NTFhODVhZDk3NmQ4YmEzZTNhNikKICAgICAgICAgICAgOwoKICAgICAgICAgICAgCiAgICAgICAgCiAgICAKICAgICAgICAgICAgdmFyIGNpcmNsZV9tYXJrZXJfN2I5ZGZmNGYyYmMxNDc3Yjk0YjQ2OGYxZGJmODFhNmYgPSBMLmNpcmNsZU1hcmtlcigKICAgICAgICAgICAgICAgIFs0My42Njk1NDIsIC03OS40MjI1NjM3XSwKICAgICAgICAgICAgICAgIHsKICAiYnViYmxpbmdNb3VzZUV2ZW50cyI6IHRydWUsCiAgImNvbG9yIjogImdyZWVuIiwKICAiZGFzaEFycmF5IjogbnVsbCwKICAiZGFzaE9mZnNldCI6IG51bGwsCiAgImZpbGwiOiBmYWxzZSwKICAiZmlsbENvbG9yIjogImdyZWVuIiwKICAiZmlsbE9wYWNpdHkiOiAwLjIsCiAgImZpbGxSdWxlIjogImV2ZW5vZGQiLAogICJsaW5lQ2FwIjogInJvdW5kIiwKICAibGluZUpvaW4iOiAicm91bmQiLAogICJvcGFjaXR5IjogMS4wLAogICJyYWRpdXMiOiAyLAogICJzdHJva2UiOiB0cnVlLAogICJ3ZWlnaHQiOiAzCn0KICAgICAgICAgICAgICAgICkKICAgICAgICAgICAgICAgIC5hZGRUbyhtYXBfYjAzZWY3YmJhZWEyNDdlMDgwNzJkMjI5NzQyZWJlYmMpOwogICAgICAgICAgICAKICAgIAogICAgICAgICAgICB2YXIgcG9wdXBfNDVmODdiYzY0ZTBhNDRhYjgwMTU5YzZhOGEzMzQxZmIgPSBMLnBvcHVwKHttYXhXaWR0aDogJzEwMCUnCiAgICAgICAgICAgIAogICAgICAgICAgICB9KTsKCiAgICAgICAgICAgIAogICAgICAgICAgICAgICAgdmFyIGh0bWxfZWQ3YzgyMWE1ZjJlNGExZmIyMDFkZTJmMTNlZThkOTUgPSAkKGA8ZGl2IGlkPSJodG1sX2VkN2M4MjFhNWYyZTRhMWZiMjAxZGUyZjEzZWU4ZDk1IiBzdHlsZT0id2lkdGg6IDEwMC4wJTsgaGVpZ2h0OiAxMDAuMCU7Ij5NNkc8L2Rpdj5gKVswXTsKICAgICAgICAgICAgICAgIHBvcHVwXzQ1Zjg3YmM2NGUwYTQ0YWI4MDE1OWM2YThhMzM0MWZiLnNldENvbnRlbnQoaHRtbF9lZDdjODIxYTVmMmU0YTFmYjIwMWRlMmYxM2VlOGQ5NSk7CiAgICAgICAgICAgIAoKICAgICAgICAgICAgY2lyY2xlX21hcmtlcl83YjlkZmY0ZjJiYzE0NzdiOTRiNDY4ZjFkYmY4MWE2Zi5iaW5kUG9wdXAocG9wdXBfNDVmODdiYzY0ZTBhNDRhYjgwMTU5YzZhOGEzMzQxZmIpCiAgICAgICAgICAgIDsKCiAgICAgICAgICAgIAogICAgICAgIAogICAgCiAgICAgICAgICAgIHZhciBjaXJjbGVfbWFya2VyX2I4MTg1OWQ1MTJkZTQ2MmFiYjFlODQ2NmI3Y2MwZWI3ID0gTC5jaXJjbGVNYXJrZXIoCiAgICAgICAgICAgICAgICBbNDMuNjUwNTcxMjAwMDAwMDEsIC03OS4zODQ1Njc1XSwKICAgICAgICAgICAgICAgIHsKICAiYnViYmxpbmdNb3VzZUV2ZW50cyI6IHRydWUsCiAgImNvbG9yIjogImdyZWVuIiwKICAiZGFzaEFycmF5IjogbnVsbCwKICAiZGFzaE9mZnNldCI6IG51bGwsCiAgImZpbGwiOiBmYWxzZSwKICAiZmlsbENvbG9yIjogImdyZWVuIiwKICAiZmlsbE9wYWNpdHkiOiAwLjIsCiAgImZpbGxSdWxlIjogImV2ZW5vZGQiLAogICJsaW5lQ2FwIjogInJvdW5kIiwKICAibGluZUpvaW4iOiAicm91bmQiLAogICJvcGFjaXR5IjogMS4wLAogICJyYWRpdXMiOiAyLAogICJzdHJva2UiOiB0cnVlLAogICJ3ZWlnaHQiOiAzCn0KICAgICAgICAgICAgICAgICkKICAgICAgICAgICAgICAgIC5hZGRUbyhtYXBfYjAzZWY3YmJhZWEyNDdlMDgwNzJkMjI5NzQyZWJlYmMpOwogICAgICAgICAgICAKICAgIAogICAgICAgICAgICB2YXIgcG9wdXBfY2ZjNGJmYzVkNjQ3NDg0ZWJiMzY1MzM3ZGJmNmUxNmIgPSBMLnBvcHVwKHttYXhXaWR0aDogJzEwMCUnCiAgICAgICAgICAgIAogICAgICAgICAgICB9KTsKCiAgICAgICAgICAgIAogICAgICAgICAgICAgICAgdmFyIGh0bWxfZTYyODQwODAyYjA1NGRjMDllMTdjZTk1MDBkY2RlZTkgPSAkKGA8ZGl2IGlkPSJodG1sX2U2Mjg0MDgwMmIwNTRkYzA5ZTE3Y2U5NTAwZGNkZWU5IiBzdHlsZT0id2lkdGg6IDEwMC4wJTsgaGVpZ2h0OiAxMDAuMCU7Ij5NNUg8L2Rpdj5gKVswXTsKICAgICAgICAgICAgICAgIHBvcHVwX2NmYzRiZmM1ZDY0NzQ4NGViYjM2NTMzN2RiZjZlMTZiLnNldENvbnRlbnQoaHRtbF9lNjI4NDA4MDJiMDU0ZGMwOWUxN2NlOTUwMGRjZGVlOSk7CiAgICAgICAgICAgIAoKICAgICAgICAgICAgY2lyY2xlX21hcmtlcl9iODE4NTlkNTEyZGU0NjJhYmIxZTg0NjZiN2NjMGViNy5iaW5kUG9wdXAocG9wdXBfY2ZjNGJmYzVkNjQ3NDg0ZWJiMzY1MzM3ZGJmNmUxNmIpCiAgICAgICAgICAgIDsKCiAgICAgICAgICAgIAogICAgICAgIAogICAgCiAgICAgICAgICAgIHZhciBjaXJjbGVfbWFya2VyXzk5YTU2MjhkNTg2MTQ1MTY5OWE0Y2FjYTcyODBjYzU5ID0gTC5jaXJjbGVNYXJrZXIoCiAgICAgICAgICAgICAgICBbNDMuNjY5MDA1MTAwMDAwMDEsIC03OS40NDIyNTkzXSwKICAgICAgICAgICAgICAgIHsKICAiYnViYmxpbmdNb3VzZUV2ZW50cyI6IHRydWUsCiAgImNvbG9yIjogImdyZWVuIiwKICAiZGFzaEFycmF5IjogbnVsbCwKICAiZGFzaE9mZnNldCI6IG51bGwsCiAgImZpbGwiOiBmYWxzZSwKICAiZmlsbENvbG9yIjogImdyZWVuIiwKICAiZmlsbE9wYWNpdHkiOiAwLjIsCiAgImZpbGxSdWxlIjogImV2ZW5vZGQiLAogICJsaW5lQ2FwIjogInJvdW5kIiwKICAibGluZUpvaW4iOiAicm91bmQiLAogICJvcGFjaXR5IjogMS4wLAogICJyYWRpdXMiOiAyLAogICJzdHJva2UiOiB0cnVlLAogICJ3ZWlnaHQiOiAzCn0KICAgICAgICAgICAgICAgICkKICAgICAgICAgICAgICAgIC5hZGRUbyhtYXBfYjAzZWY3YmJhZWEyNDdlMDgwNzJkMjI5NzQyZWJlYmMpOwogICAgICAgICAgICAKICAgIAogICAgICAgICAgICB2YXIgcG9wdXBfYTgxODVkNDRmMmI1NGU2YzgxYzc0YWI4N2Y1ODViYzYgPSBMLnBvcHVwKHttYXhXaWR0aDogJzEwMCUnCiAgICAgICAgICAgIAogICAgICAgICAgICB9KTsKCiAgICAgICAgICAgIAogICAgICAgICAgICAgICAgdmFyIGh0bWxfNjRjMDg3ZDY4ZWE1NDY1M2E5ZGE3ZDczMjZkNGVmYjkgPSAkKGA8ZGl2IGlkPSJodG1sXzY0YzA4N2Q2OGVhNTQ2NTNhOWRhN2Q3MzI2ZDRlZmI5IiBzdHlsZT0id2lkdGg6IDEwMC4wJTsgaGVpZ2h0OiAxMDAuMCU7Ij5NNkg8L2Rpdj5gKVswXTsKICAgICAgICAgICAgICAgIHBvcHVwX2E4MTg1ZDQ0ZjJiNTRlNmM4MWM3NGFiODdmNTg1YmM2LnNldENvbnRlbnQoaHRtbF82NGMwODdkNjhlYTU0NjUzYTlkYTdkNzMyNmQ0ZWZiOSk7CiAgICAgICAgICAgIAoKICAgICAgICAgICAgY2lyY2xlX21hcmtlcl85OWE1NjI4ZDU4NjE0NTE2OTlhNGNhY2E3MjgwY2M1OS5iaW5kUG9wdXAocG9wdXBfYTgxODVkNDRmMmI1NGU2YzgxYzc0YWI4N2Y1ODViYzYpCiAgICAgICAgICAgIDsKCiAgICAgICAgICAgIAogICAgICAgIAogICAgCiAgICAgICAgICAgIHZhciBjaXJjbGVfbWFya2VyXzY4ZmNjN2YwNzBjOTQzZWZhZjQ2YWVhNzk1YjJmNzM4ID0gTC5jaXJjbGVNYXJrZXIoCiAgICAgICAgICAgICAgICBbNDMuNjQwODE1NywgLTc5LjM4MTc1MjI5OTk5OTk5XSwKICAgICAgICAgICAgICAgIHsKICAiYnViYmxpbmdNb3VzZUV2ZW50cyI6IHRydWUsCiAgImNvbG9yIjogImdyZWVuIiwKICAiZGFzaEFycmF5IjogbnVsbCwKICAiZGFzaE9mZnNldCI6IG51bGwsCiAgImZpbGwiOiBmYWxzZSwKICAiZmlsbENvbG9yIjogImdyZWVuIiwKICAiZmlsbE9wYWNpdHkiOiAwLjIsCiAgImZpbGxSdWxlIjogImV2ZW5vZGQiLAogICJsaW5lQ2FwIjogInJvdW5kIiwKICAibGluZUpvaW4iOiAicm91bmQiLAogICJvcGFjaXR5IjogMS4wLAogICJyYWRpdXMiOiAyLAogICJzdHJva2UiOiB0cnVlLAogICJ3ZWlnaHQiOiAzCn0KICAgICAgICAgICAgICAgICkKICAgICAgICAgICAgICAgIC5hZGRUbyhtYXBfYjAzZWY3YmJhZWEyNDdlMDgwNzJkMjI5NzQyZWJlYmMpOwogICAgICAgICAgICAKICAgIAogICAgICAgICAgICB2YXIgcG9wdXBfMzQxYTI0YTQwNzM2NDU5NGEwOTA2ZjQ5YWJkOTM2Y2QgPSBMLnBvcHVwKHttYXhXaWR0aDogJzEwMCUnCiAgICAgICAgICAgIAogICAgICAgICAgICB9KTsKCiAgICAgICAgICAgIAogICAgICAgICAgICAgICAgdmFyIGh0bWxfNzg5MzEyNWE4OGU5NDljNGFkY2E1ODFiNjdjZWNhZTEgPSAkKGA8ZGl2IGlkPSJodG1sXzc4OTMxMjVhODhlOTQ5YzRhZGNhNTgxYjY3Y2VjYWUxIiBzdHlsZT0id2lkdGg6IDEwMC4wJTsgaGVpZ2h0OiAxMDAuMCU7Ij5NNUo8L2Rpdj5gKVswXTsKICAgICAgICAgICAgICAgIHBvcHVwXzM0MWEyNGE0MDczNjQ1OTRhMDkwNmY0OWFiZDkzNmNkLnNldENvbnRlbnQoaHRtbF83ODkzMTI1YTg4ZTk0OWM0YWRjYTU4MWI2N2NlY2FlMSk7CiAgICAgICAgICAgIAoKICAgICAgICAgICAgY2lyY2xlX21hcmtlcl82OGZjYzdmMDcwYzk0M2VmYWY0NmFlYTc5NWIyZjczOC5iaW5kUG9wdXAocG9wdXBfMzQxYTI0YTQwNzM2NDU5NGEwOTA2ZjQ5YWJkOTM2Y2QpCiAgICAgICAgICAgIDsKCiAgICAgICAgICAgIAogICAgICAgIAogICAgCiAgICAgICAgICAgIHZhciBjaXJjbGVfbWFya2VyXzg0MmE4ZmViMjBjYzQ2M2ZiNDBmYjIzMGE0YjU4YTliID0gTC5jaXJjbGVNYXJrZXIoCiAgICAgICAgICAgICAgICBbNDMuNjQ3OTI2NzAwMDAwMDA2LCAtNzkuNDE5NzQ5N10sCiAgICAgICAgICAgICAgICB7CiAgImJ1YmJsaW5nTW91c2VFdmVudHMiOiB0cnVlLAogICJjb2xvciI6ICJncmVlbiIsCiAgImRhc2hBcnJheSI6IG51bGwsCiAgImRhc2hPZmZzZXQiOiBudWxsLAogICJmaWxsIjogZmFsc2UsCiAgImZpbGxDb2xvciI6ICJncmVlbiIsCiAgImZpbGxPcGFjaXR5IjogMC4yLAogICJmaWxsUnVsZSI6ICJldmVub2RkIiwKICAibGluZUNhcCI6ICJyb3VuZCIsCiAgImxpbmVKb2luIjogInJvdW5kIiwKICAib3BhY2l0eSI6IDEuMCwKICAicmFkaXVzIjogMiwKICAic3Ryb2tlIjogdHJ1ZSwKICAid2VpZ2h0IjogMwp9CiAgICAgICAgICAgICAgICApCiAgICAgICAgICAgICAgICAuYWRkVG8obWFwX2IwM2VmN2JiYWVhMjQ3ZTA4MDcyZDIyOTc0MmViZWJjKTsKICAgICAgICAgICAgCiAgICAKICAgICAgICAgICAgdmFyIHBvcHVwXzkzZTg2ZjBlMjM5ZDQxYzY4ZTU0ZDk4YzhiZTM0MDEyID0gTC5wb3B1cCh7bWF4V2lkdGg6ICcxMDAlJwogICAgICAgICAgICAKICAgICAgICAgICAgfSk7CgogICAgICAgICAgICAKICAgICAgICAgICAgICAgIHZhciBodG1sXzgyYjBmZjRjZTg4NDRlZDNiOWRiOWQ2NmI4OGM5ZmYzID0gJChgPGRpdiBpZD0iaHRtbF84MmIwZmY0Y2U4ODQ0ZWQzYjlkYjlkNjZiODhjOWZmMyIgc3R5bGU9IndpZHRoOiAxMDAuMCU7IGhlaWdodDogMTAwLjAlOyI+TTZKPC9kaXY+YClbMF07CiAgICAgICAgICAgICAgICBwb3B1cF85M2U4NmYwZTIzOWQ0MWM2OGU1NGQ5OGM4YmUzNDAxMi5zZXRDb250ZW50KGh0bWxfODJiMGZmNGNlODg0NGVkM2I5ZGI5ZDY2Yjg4YzlmZjMpOwogICAgICAgICAgICAKCiAgICAgICAgICAgIGNpcmNsZV9tYXJrZXJfODQyYThmZWIyMGNjNDYzZmI0MGZiMjMwYTRiNThhOWIuYmluZFBvcHVwKHBvcHVwXzkzZTg2ZjBlMjM5ZDQxYzY4ZTU0ZDk4YzhiZTM0MDEyKQogICAgICAgICAgICA7CgogICAgICAgICAgICAKICAgICAgICAKICAgIAogICAgICAgICAgICB2YXIgY2lyY2xlX21hcmtlcl84ZTAxNzkyNjE3ZmU0MjdjOGMwY2U3OTFkZjhiMmNmZCA9IEwuY2lyY2xlTWFya2VyKAogICAgICAgICAgICAgICAgWzQzLjY3OTU1NzEsIC03OS4zNTIxODhdLAogICAgICAgICAgICAgICAgewogICJidWJibGluZ01vdXNlRXZlbnRzIjogdHJ1ZSwKICAiY29sb3IiOiAiZ3JlZW4iLAogICJkYXNoQXJyYXkiOiBudWxsLAogICJkYXNoT2Zmc2V0IjogbnVsbCwKICAiZmlsbCI6IGZhbHNlLAogICJmaWxsQ29sb3IiOiAiZ3JlZW4iLAogICJmaWxsT3BhY2l0eSI6IDAuMiwKICAiZmlsbFJ1bGUiOiAiZXZlbm9kZCIsCiAgImxpbmVDYXAiOiAicm91bmQiLAogICJsaW5lSm9pbiI6ICJyb3VuZCIsCiAgIm9wYWNpdHkiOiAxLjAsCiAgInJhZGl1cyI6IDIsCiAgInN0cm9rZSI6IHRydWUsCiAgIndlaWdodCI6IDMKfQogICAgICAgICAgICAgICAgKQogICAgICAgICAgICAgICAgLmFkZFRvKG1hcF9iMDNlZjdiYmFlYTI0N2UwODA3MmQyMjk3NDJlYmViYyk7CiAgICAgICAgICAgIAogICAgCiAgICAgICAgICAgIHZhciBwb3B1cF8xNzBjMTczMzNmOTA0NTYyYjRiMDZlNzc1YmFiYzY3YSA9IEwucG9wdXAoe21heFdpZHRoOiAnMTAwJScKICAgICAgICAgICAgCiAgICAgICAgICAgIH0pOwoKICAgICAgICAgICAgCiAgICAgICAgICAgICAgICB2YXIgaHRtbF8yZjViZmIzNGUxYzE0N2I2YWQ4MWRkODNkNjg2MjU3OCA9ICQoYDxkaXYgaWQ9Imh0bWxfMmY1YmZiMzRlMWMxNDdiNmFkODFkZDgzZDY4NjI1NzgiIHN0eWxlPSJ3aWR0aDogMTAwLjAlOyBoZWlnaHQ6IDEwMC4wJTsiPk00SzwvZGl2PmApWzBdOwogICAgICAgICAgICAgICAgcG9wdXBfMTcwYzE3MzMzZjkwNDU2MmI0YjA2ZTc3NWJhYmM2N2Euc2V0Q29udGVudChodG1sXzJmNWJmYjM0ZTFjMTQ3YjZhZDgxZGQ4M2Q2ODYyNTc4KTsKICAgICAgICAgICAgCgogICAgICAgICAgICBjaXJjbGVfbWFya2VyXzhlMDE3OTI2MTdmZTQyN2M4YzBjZTc5MWRmOGIyY2ZkLmJpbmRQb3B1cChwb3B1cF8xNzBjMTczMzNmOTA0NTYyYjRiMDZlNzc1YmFiYzY3YSkKICAgICAgICAgICAgOwoKICAgICAgICAgICAgCiAgICAgICAgCiAgICAKICAgICAgICAgICAgdmFyIGNpcmNsZV9tYXJrZXJfMDk3M2YzYzgxNDFjNGUyMmI4ZWYzMGRiODQ5MTlmN2MgPSBMLmNpcmNsZU1hcmtlcigKICAgICAgICAgICAgICAgIFs0My42NDcxNzY4LCAtNzkuMzgxNTc2NDAwMDAwMDFdLAogICAgICAgICAgICAgICAgewogICJidWJibGluZ01vdXNlRXZlbnRzIjogdHJ1ZSwKICAiY29sb3IiOiAiZ3JlZW4iLAogICJkYXNoQXJyYXkiOiBudWxsLAogICJkYXNoT2Zmc2V0IjogbnVsbCwKICAiZmlsbCI6IGZhbHNlLAogICJmaWxsQ29sb3IiOiAiZ3JlZW4iLAogICJmaWxsT3BhY2l0eSI6IDAuMiwKICAiZmlsbFJ1bGUiOiAiZXZlbm9kZCIsCiAgImxpbmVDYXAiOiAicm91bmQiLAogICJsaW5lSm9pbiI6ICJyb3VuZCIsCiAgIm9wYWNpdHkiOiAxLjAsCiAgInJhZGl1cyI6IDIsCiAgInN0cm9rZSI6IHRydWUsCiAgIndlaWdodCI6IDMKfQogICAgICAgICAgICAgICAgKQogICAgICAgICAgICAgICAgLmFkZFRvKG1hcF9iMDNlZjdiYmFlYTI0N2UwODA3MmQyMjk3NDJlYmViYyk7CiAgICAgICAgICAgIAogICAgCiAgICAgICAgICAgIHZhciBwb3B1cF85NzFkMjdkMzIyODc0YzFjYTg2NTk2N2Y5NDM2MjIxNiA9IEwucG9wdXAoe21heFdpZHRoOiAnMTAwJScKICAgICAgICAgICAgCiAgICAgICAgICAgIH0pOwoKICAgICAgICAgICAgCiAgICAgICAgICAgICAgICB2YXIgaHRtbF84NGZhMjIwMTI0MmM0YWFhOWU1OWI1YmFlZmIwMWU3YyA9ICQoYDxkaXYgaWQ9Imh0bWxfODRmYTIyMDEyNDJjNGFhYTllNTliNWJhZWZiMDFlN2MiIHN0eWxlPSJ3aWR0aDogMTAwLjAlOyBoZWlnaHQ6IDEwMC4wJTsiPk01SzwvZGl2PmApWzBdOwogICAgICAgICAgICAgICAgcG9wdXBfOTcxZDI3ZDMyMjg3NGMxY2E4NjU5NjdmOTQzNjIyMTYuc2V0Q29udGVudChodG1sXzg0ZmEyMjAxMjQyYzRhYWE5ZTU5YjViYWVmYjAxZTdjKTsKICAgICAgICAgICAgCgogICAgICAgICAgICBjaXJjbGVfbWFya2VyXzA5NzNmM2M4MTQxYzRlMjJiOGVmMzBkYjg0OTE5ZjdjLmJpbmRQb3B1cChwb3B1cF85NzFkMjdkMzIyODc0YzFjYTg2NTk2N2Y5NDM2MjIxNikKICAgICAgICAgICAgOwoKICAgICAgICAgICAgCiAgICAgICAgCiAgICAKICAgICAgICAgICAgdmFyIGNpcmNsZV9tYXJrZXJfZWNhZjA1YjI2ODRjNDE1NjkyZWFmMTdkMmQ5ODJhN2IgPSBMLmNpcmNsZU1hcmtlcigKICAgICAgICAgICAgICAgIFs0My42MzY4NDcyLCAtNzkuNDI4MTkxNDAwMDAwMDJdLAogICAgICAgICAgICAgICAgewogICJidWJibGluZ01vdXNlRXZlbnRzIjogdHJ1ZSwKICAiY29sb3IiOiAiZ3JlZW4iLAogICJkYXNoQXJyYXkiOiBudWxsLAogICJkYXNoT2Zmc2V0IjogbnVsbCwKICAiZmlsbCI6IGZhbHNlLAogICJmaWxsQ29sb3IiOiAiZ3JlZW4iLAogICJmaWxsT3BhY2l0eSI6IDAuMiwKICAiZmlsbFJ1bGUiOiAiZXZlbm9kZCIsCiAgImxpbmVDYXAiOiAicm91bmQiLAogICJsaW5lSm9pbiI6ICJyb3VuZCIsCiAgIm9wYWNpdHkiOiAxLjAsCiAgInJhZGl1cyI6IDIsCiAgInN0cm9rZSI6IHRydWUsCiAgIndlaWdodCI6IDMKfQogICAgICAgICAgICAgICAgKQogICAgICAgICAgICAgICAgLmFkZFRvKG1hcF9iMDNlZjdiYmFlYTI0N2UwODA3MmQyMjk3NDJlYmViYyk7CiAgICAgICAgICAgIAogICAgCiAgICAgICAgICAgIHZhciBwb3B1cF8wODYyYjEyNzZhOTc0MDc5ODIyMDUzMDBmYjdlNGJhZSA9IEwucG9wdXAoe21heFdpZHRoOiAnMTAwJScKICAgICAgICAgICAgCiAgICAgICAgICAgIH0pOwoKICAgICAgICAgICAgCiAgICAgICAgICAgICAgICB2YXIgaHRtbF83MGY3MzMzNzFkZTI0YmQ2OGRiMTY3YjM2NTQzOTNmMyA9ICQoYDxkaXYgaWQ9Imh0bWxfNzBmNzMzMzcxZGUyNGJkNjhkYjE2N2IzNjU0MzkzZjMiIHN0eWxlPSJ3aWR0aDogMTAwLjAlOyBoZWlnaHQ6IDEwMC4wJTsiPk02SzwvZGl2PmApWzBdOwogICAgICAgICAgICAgICAgcG9wdXBfMDg2MmIxMjc2YTk3NDA3OTgyMjA1MzAwZmI3ZTRiYWUuc2V0Q29udGVudChodG1sXzcwZjczMzM3MWRlMjRiZDY4ZGIxNjdiMzY1NDM5M2YzKTsKICAgICAgICAgICAgCgogICAgICAgICAgICBjaXJjbGVfbWFya2VyX2VjYWYwNWIyNjg0YzQxNTY5MmVhZjE3ZDJkOTgyYTdiLmJpbmRQb3B1cChwb3B1cF8wODYyYjEyNzZhOTc0MDc5ODIyMDUzMDBmYjdlNGJhZSkKICAgICAgICAgICAgOwoKICAgICAgICAgICAgCiAgICAgICAgCiAgICAKICAgICAgICAgICAgdmFyIGNpcmNsZV9tYXJrZXJfZTgxNDllNTZlOGQ5NDlkZmI0Nzg4YmVmM2ZjODIyZDQgPSBMLmNpcmNsZU1hcmtlcigKICAgICAgICAgICAgICAgIFs0My42Njg5OTg1LCAtNzkuMzE1NTcxNTk5OTk5OThdLAogICAgICAgICAgICAgICAgewogICJidWJibGluZ01vdXNlRXZlbnRzIjogdHJ1ZSwKICAiY29sb3IiOiAiZ3JlZW4iLAogICJkYXNoQXJyYXkiOiBudWxsLAogICJkYXNoT2Zmc2V0IjogbnVsbCwKICAiZmlsbCI6IGZhbHNlLAogICJmaWxsQ29sb3IiOiAiZ3JlZW4iLAogICJmaWxsT3BhY2l0eSI6IDAuMiwKICAiZmlsbFJ1bGUiOiAiZXZlbm9kZCIsCiAgImxpbmVDYXAiOiAicm91bmQiLAogICJsaW5lSm9pbiI6ICJyb3VuZCIsCiAgIm9wYWNpdHkiOiAxLjAsCiAgInJhZGl1cyI6IDIsCiAgInN0cm9rZSI6IHRydWUsCiAgIndlaWdodCI6IDMKfQogICAgICAgICAgICAgICAgKQogICAgICAgICAgICAgICAgLmFkZFRvKG1hcF9iMDNlZjdiYmFlYTI0N2UwODA3MmQyMjk3NDJlYmViYyk7CiAgICAgICAgICAgIAogICAgCiAgICAgICAgICAgIHZhciBwb3B1cF8zMzlhNWJjOTQwNjQ0Y2M2YjU2ZTJjZGUxZWU1MGFlMiA9IEwucG9wdXAoe21heFdpZHRoOiAnMTAwJScKICAgICAgICAgICAgCiAgICAgICAgICAgIH0pOwoKICAgICAgICAgICAgCiAgICAgICAgICAgICAgICB2YXIgaHRtbF9jOTI2YTc5ZTNhYzI0OTQzYjNmY2FjMzZjYTY5ZWViNyA9ICQoYDxkaXYgaWQ9Imh0bWxfYzkyNmE3OWUzYWMyNDk0M2IzZmNhYzM2Y2E2OWVlYjciIHN0eWxlPSJ3aWR0aDogMTAwLjAlOyBoZWlnaHQ6IDEwMC4wJTsiPk00TDwvZGl2PmApWzBdOwogICAgICAgICAgICAgICAgcG9wdXBfMzM5YTViYzk0MDY0NGNjNmI1NmUyY2RlMWVlNTBhZTIuc2V0Q29udGVudChodG1sX2M5MjZhNzllM2FjMjQ5NDNiM2ZjYWMzNmNhNjllZWI3KTsKICAgICAgICAgICAgCgogICAgICAgICAgICBjaXJjbGVfbWFya2VyX2U4MTQ5ZTU2ZThkOTQ5ZGZiNDc4OGJlZjNmYzgyMmQ0LmJpbmRQb3B1cChwb3B1cF8zMzlhNWJjOTQwNjQ0Y2M2YjU2ZTJjZGUxZWU1MGFlMikKICAgICAgICAgICAgOwoKICAgICAgICAgICAgCiAgICAgICAgCiAgICAKICAgICAgICAgICAgdmFyIGNpcmNsZV9tYXJrZXJfMWE3NTBjZGJjNjc5NDk5OGE2YjNlMjdhZWNjNmIzZGMgPSBMLmNpcmNsZU1hcmtlcigKICAgICAgICAgICAgICAgIFs0My42NDgxOTg1LCAtNzkuMzc5ODE2OTAwMDAwMDFdLAogICAgICAgICAgICAgICAgewogICJidWJibGluZ01vdXNlRXZlbnRzIjogdHJ1ZSwKICAiY29sb3IiOiAiZ3JlZW4iLAogICJkYXNoQXJyYXkiOiBudWxsLAogICJkYXNoT2Zmc2V0IjogbnVsbCwKICAiZmlsbCI6IGZhbHNlLAogICJmaWxsQ29sb3IiOiAiZ3JlZW4iLAogICJmaWxsT3BhY2l0eSI6IDAuMiwKICAiZmlsbFJ1bGUiOiAiZXZlbm9kZCIsCiAgImxpbmVDYXAiOiAicm91bmQiLAogICJsaW5lSm9pbiI6ICJyb3VuZCIsCiAgIm9wYWNpdHkiOiAxLjAsCiAgInJhZGl1cyI6IDIsCiAgInN0cm9rZSI6IHRydWUsCiAgIndlaWdodCI6IDMKfQogICAgICAgICAgICAgICAgKQogICAgICAgICAgICAgICAgLmFkZFRvKG1hcF9iMDNlZjdiYmFlYTI0N2UwODA3MmQyMjk3NDJlYmViYyk7CiAgICAgICAgICAgIAogICAgCiAgICAgICAgICAgIHZhciBwb3B1cF8wYTcwMWNjNDFlMTc0OGQxYTIzYjA3NDU2YzhkYzk1MCA9IEwucG9wdXAoe21heFdpZHRoOiAnMTAwJScKICAgICAgICAgICAgCiAgICAgICAgICAgIH0pOwoKICAgICAgICAgICAgCiAgICAgICAgICAgICAgICB2YXIgaHRtbF84MjlhMTU5ZWRjM2E0YjI5YTIxYjMyZmNiYWEwMTNlNyA9ICQoYDxkaXYgaWQ9Imh0bWxfODI5YTE1OWVkYzNhNGIyOWEyMWIzMmZjYmFhMDEzZTciIHN0eWxlPSJ3aWR0aDogMTAwLjAlOyBoZWlnaHQ6IDEwMC4wJTsiPk01TDwvZGl2PmApWzBdOwogICAgICAgICAgICAgICAgcG9wdXBfMGE3MDFjYzQxZTE3NDhkMWEyM2IwNzQ1NmM4ZGM5NTAuc2V0Q29udGVudChodG1sXzgyOWExNTllZGMzYTRiMjlhMjFiMzJmY2JhYTAxM2U3KTsKICAgICAgICAgICAgCgogICAgICAgICAgICBjaXJjbGVfbWFya2VyXzFhNzUwY2RiYzY3OTQ5OThhNmIzZTI3YWVjYzZiM2RjLmJpbmRQb3B1cChwb3B1cF8wYTcwMWNjNDFlMTc0OGQxYTIzYjA3NDU2YzhkYzk1MCkKICAgICAgICAgICAgOwoKICAgICAgICAgICAgCiAgICAgICAgCiAgICAKICAgICAgICAgICAgdmFyIGNpcmNsZV9tYXJrZXJfMjU5YWM1OTUyODRkNDk3NWE2NmI1YjliYzRhNGI0OTUgPSBMLmNpcmNsZU1hcmtlcigKICAgICAgICAgICAgICAgIFs0My42NTk1MjU1LCAtNzkuMzQwOTIzXSwKICAgICAgICAgICAgICAgIHsKICAiYnViYmxpbmdNb3VzZUV2ZW50cyI6IHRydWUsCiAgImNvbG9yIjogImdyZWVuIiwKICAiZGFzaEFycmF5IjogbnVsbCwKICAiZGFzaE9mZnNldCI6IG51bGwsCiAgImZpbGwiOiBmYWxzZSwKICAiZmlsbENvbG9yIjogImdyZWVuIiwKICAiZmlsbE9wYWNpdHkiOiAwLjIsCiAgImZpbGxSdWxlIjogImV2ZW5vZGQiLAogICJsaW5lQ2FwIjogInJvdW5kIiwKICAibGluZUpvaW4iOiAicm91bmQiLAogICJvcGFjaXR5IjogMS4wLAogICJyYWRpdXMiOiAyLAogICJzdHJva2UiOiB0cnVlLAogICJ3ZWlnaHQiOiAzCn0KICAgICAgICAgICAgICAgICkKICAgICAgICAgICAgICAgIC5hZGRUbyhtYXBfYjAzZWY3YmJhZWEyNDdlMDgwNzJkMjI5NzQyZWJlYmMpOwogICAgICAgICAgICAKICAgIAogICAgICAgICAgICB2YXIgcG9wdXBfODFjYmVkMTk3NGE1NDMzZjhiZjkyODcxM2ZmMWE3YjQgPSBMLnBvcHVwKHttYXhXaWR0aDogJzEwMCUnCiAgICAgICAgICAgIAogICAgICAgICAgICB9KTsKCiAgICAgICAgICAgIAogICAgICAgICAgICAgICAgdmFyIGh0bWxfNjllOGUyYzBlNWEzNDA1MGI4NmE1N2QxMmI5Nzc1OTAgPSAkKGA8ZGl2IGlkPSJodG1sXzY5ZThlMmMwZTVhMzQwNTBiODZhNTdkMTJiOTc3NTkwIiBzdHlsZT0id2lkdGg6IDEwMC4wJTsgaGVpZ2h0OiAxMDAuMCU7Ij5NNE08L2Rpdj5gKVswXTsKICAgICAgICAgICAgICAgIHBvcHVwXzgxY2JlZDE5NzRhNTQzM2Y4YmY5Mjg3MTNmZjFhN2I0LnNldENvbnRlbnQoaHRtbF82OWU4ZTJjMGU1YTM0MDUwYjg2YTU3ZDEyYjk3NzU5MCk7CiAgICAgICAgICAgIAoKICAgICAgICAgICAgY2lyY2xlX21hcmtlcl8yNTlhYzU5NTI4NGQ0OTc1YTY2YjViOWJjNGE0YjQ5NS5iaW5kUG9wdXAocG9wdXBfODFjYmVkMTk3NGE1NDMzZjhiZjkyODcxM2ZmMWE3YjQpCiAgICAgICAgICAgIDsKCiAgICAgICAgICAgIAogICAgICAgIAogICAgCiAgICAgICAgICAgIHZhciBjaXJjbGVfbWFya2VyXzlhZmE0ZDllMmEzYzQ5ZDQ4NjgzNGM0NDIzNmRiZWYwID0gTC5jaXJjbGVNYXJrZXIoCiAgICAgICAgICAgICAgICBbNDMuNzI4MDIwNSwgLTc5LjM4ODc5MDFdLAogICAgICAgICAgICAgICAgewogICJidWJibGluZ01vdXNlRXZlbnRzIjogdHJ1ZSwKICAiY29sb3IiOiAiZ3JlZW4iLAogICJkYXNoQXJyYXkiOiBudWxsLAogICJkYXNoT2Zmc2V0IjogbnVsbCwKICAiZmlsbCI6IGZhbHNlLAogICJmaWxsQ29sb3IiOiAiZ3JlZW4iLAogICJmaWxsT3BhY2l0eSI6IDAuMiwKICAiZmlsbFJ1bGUiOiAiZXZlbm9kZCIsCiAgImxpbmVDYXAiOiAicm91bmQiLAogICJsaW5lSm9pbiI6ICJyb3VuZCIsCiAgIm9wYWNpdHkiOiAxLjAsCiAgInJhZGl1cyI6IDIsCiAgInN0cm9rZSI6IHRydWUsCiAgIndlaWdodCI6IDMKfQogICAgICAgICAgICAgICAgKQogICAgICAgICAgICAgICAgLmFkZFRvKG1hcF9iMDNlZjdiYmFlYTI0N2UwODA3MmQyMjk3NDJlYmViYyk7CiAgICAgICAgICAgIAogICAgCiAgICAgICAgICAgIHZhciBwb3B1cF9jMDFjMTUyZmY2ZjY0NTVjYjVkODljMmZmYzc4YmI2OCA9IEwucG9wdXAoe21heFdpZHRoOiAnMTAwJScKICAgICAgICAgICAgCiAgICAgICAgICAgIH0pOwoKICAgICAgICAgICAgCiAgICAgICAgICAgICAgICB2YXIgaHRtbF9jZWEzZmY3ZTMxZjI0MWFjOTYzMmJjYzYxYmJjY2ViNyA9ICQoYDxkaXYgaWQ9Imh0bWxfY2VhM2ZmN2UzMWYyNDFhYzk2MzJiY2M2MWJiY2NlYjciIHN0eWxlPSJ3aWR0aDogMTAwLjAlOyBoZWlnaHQ6IDEwMC4wJTsiPk00TjwvZGl2PmApWzBdOwogICAgICAgICAgICAgICAgcG9wdXBfYzAxYzE1MmZmNmY2NDU1Y2I1ZDg5YzJmZmM3OGJiNjguc2V0Q29udGVudChodG1sX2NlYTNmZjdlMzFmMjQxYWM5NjMyYmNjNjFiYmNjZWI3KTsKICAgICAgICAgICAgCgogICAgICAgICAgICBjaXJjbGVfbWFya2VyXzlhZmE0ZDllMmEzYzQ5ZDQ4NjgzNGM0NDIzNmRiZWYwLmJpbmRQb3B1cChwb3B1cF9jMDFjMTUyZmY2ZjY0NTVjYjVkODljMmZmYzc4YmI2OCkKICAgICAgICAgICAgOwoKICAgICAgICAgICAgCiAgICAgICAgCiAgICAKICAgICAgICAgICAgdmFyIGNpcmNsZV9tYXJrZXJfOWJlNjA0YjVlNTVhNDVjZjk2MzYwNDcyMDJhOWYzMjggPSBMLmNpcmNsZU1hcmtlcigKICAgICAgICAgICAgICAgIFs0My43MTE2OTQ4LCAtNzkuNDE2OTM1NTk5OTk5OTldLAogICAgICAgICAgICAgICAgewogICJidWJibGluZ01vdXNlRXZlbnRzIjogdHJ1ZSwKICAiY29sb3IiOiAiZ3JlZW4iLAogICJkYXNoQXJyYXkiOiBudWxsLAogICJkYXNoT2Zmc2V0IjogbnVsbCwKICAiZmlsbCI6IGZhbHNlLAogICJmaWxsQ29sb3IiOiAiZ3JlZW4iLAogICJmaWxsT3BhY2l0eSI6IDAuMiwKICAiZmlsbFJ1bGUiOiAiZXZlbm9kZCIsCiAgImxpbmVDYXAiOiAicm91bmQiLAogICJsaW5lSm9pbiI6ICJyb3VuZCIsCiAgIm9wYWNpdHkiOiAxLjAsCiAgInJhZGl1cyI6IDIsCiAgInN0cm9rZSI6IHRydWUsCiAgIndlaWdodCI6IDMKfQogICAgICAgICAgICAgICAgKQogICAgICAgICAgICAgICAgLmFkZFRvKG1hcF9iMDNlZjdiYmFlYTI0N2UwODA3MmQyMjk3NDJlYmViYyk7CiAgICAgICAgICAgIAogICAgCiAgICAgICAgICAgIHZhciBwb3B1cF9lNGYwNGFhYmJjZTM0NzI1YjgzYzYzOGM5YTJlOGM3MCA9IEwucG9wdXAoe21heFdpZHRoOiAnMTAwJScKICAgICAgICAgICAgCiAgICAgICAgICAgIH0pOwoKICAgICAgICAgICAgCiAgICAgICAgICAgICAgICB2YXIgaHRtbF8wMjhlZDY1YjFiNTc0NzRlYTZmMWJmMDcwYWQyZGI3NyA9ICQoYDxkaXYgaWQ9Imh0bWxfMDI4ZWQ2NWIxYjU3NDc0ZWE2ZjFiZjA3MGFkMmRiNzciIHN0eWxlPSJ3aWR0aDogMTAwLjAlOyBoZWlnaHQ6IDEwMC4wJTsiPk01TjwvZGl2PmApWzBdOwogICAgICAgICAgICAgICAgcG9wdXBfZTRmMDRhYWJiY2UzNDcyNWI4M2M2MzhjOWEyZThjNzAuc2V0Q29udGVudChodG1sXzAyOGVkNjViMWI1NzQ3NGVhNmYxYmYwNzBhZDJkYjc3KTsKICAgICAgICAgICAgCgogICAgICAgICAgICBjaXJjbGVfbWFya2VyXzliZTYwNGI1ZTU1YTQ1Y2Y5NjM2MDQ3MjAyYTlmMzI4LmJpbmRQb3B1cChwb3B1cF9lNGYwNGFhYmJjZTM0NzI1YjgzYzYzOGM5YTJlOGM3MCkKICAgICAgICAgICAgOwoKICAgICAgICAgICAgCiAgICAgICAgCiAgICAKICAgICAgICAgICAgdmFyIGNpcmNsZV9tYXJrZXJfOTE5MTU1ZDkyYWY4NDgyOGFkMzViY2NhOGQ0ZGU3ZjYgPSBMLmNpcmNsZU1hcmtlcigKICAgICAgICAgICAgICAgIFs0My43MTI3NTExLCAtNzkuMzkwMTk3NV0sCiAgICAgICAgICAgICAgICB7CiAgImJ1YmJsaW5nTW91c2VFdmVudHMiOiB0cnVlLAogICJjb2xvciI6ICJncmVlbiIsCiAgImRhc2hBcnJheSI6IG51bGwsCiAgImRhc2hPZmZzZXQiOiBudWxsLAogICJmaWxsIjogZmFsc2UsCiAgImZpbGxDb2xvciI6ICJncmVlbiIsCiAgImZpbGxPcGFjaXR5IjogMC4yLAogICJmaWxsUnVsZSI6ICJldmVub2RkIiwKICAibGluZUNhcCI6ICJyb3VuZCIsCiAgImxpbmVKb2luIjogInJvdW5kIiwKICAib3BhY2l0eSI6IDEuMCwKICAicmFkaXVzIjogMiwKICAic3Ryb2tlIjogdHJ1ZSwKICAid2VpZ2h0IjogMwp9CiAgICAgICAgICAgICAgICApCiAgICAgICAgICAgICAgICAuYWRkVG8obWFwX2IwM2VmN2JiYWVhMjQ3ZTA4MDcyZDIyOTc0MmViZWJjKTsKICAgICAgICAgICAgCiAgICAKICAgICAgICAgICAgdmFyIHBvcHVwX2M1ODQ0ZThiZTA4NzRiYTlhY2M3YTM4NWQzYTcyMjEyID0gTC5wb3B1cCh7bWF4V2lkdGg6ICcxMDAlJwogICAgICAgICAgICAKICAgICAgICAgICAgfSk7CgogICAgICAgICAgICAKICAgICAgICAgICAgICAgIHZhciBodG1sX2ZlNjNiYzcyYzkyMDRkY2I4YzMxZDgyOWFmZWMxNjcwID0gJChgPGRpdiBpZD0iaHRtbF9mZTYzYmM3MmM5MjA0ZGNiOGMzMWQ4MjlhZmVjMTY3MCIgc3R5bGU9IndpZHRoOiAxMDAuMCU7IGhlaWdodDogMTAwLjAlOyI+TTRQPC9kaXY+YClbMF07CiAgICAgICAgICAgICAgICBwb3B1cF9jNTg0NGU4YmUwODc0YmE5YWNjN2EzODVkM2E3MjIxMi5zZXRDb250ZW50KGh0bWxfZmU2M2JjNzJjOTIwNGRjYjhjMzFkODI5YWZlYzE2NzApOwogICAgICAgICAgICAKCiAgICAgICAgICAgIGNpcmNsZV9tYXJrZXJfOTE5MTU1ZDkyYWY4NDgyOGFkMzViY2NhOGQ0ZGU3ZjYuYmluZFBvcHVwKHBvcHVwX2M1ODQ0ZThiZTA4NzRiYTlhY2M3YTM4NWQzYTcyMjEyKQogICAgICAgICAgICA7CgogICAgICAgICAgICAKICAgICAgICAKICAgIAogICAgICAgICAgICB2YXIgY2lyY2xlX21hcmtlcl9jNWIxYTU0NzJlNzY0NmZhOTFlODg3NTA0YjZjMTY2MCA9IEwuY2lyY2xlTWFya2VyKAogICAgICAgICAgICAgICAgWzQzLjY5Njk0NzYsIC03OS40MTEzMDcyMDAwMDAwMV0sCiAgICAgICAgICAgICAgICB7CiAgImJ1YmJsaW5nTW91c2VFdmVudHMiOiB0cnVlLAogICJjb2xvciI6ICJncmVlbiIsCiAgImRhc2hBcnJheSI6IG51bGwsCiAgImRhc2hPZmZzZXQiOiBudWxsLAogICJmaWxsIjogZmFsc2UsCiAgImZpbGxDb2xvciI6ICJncmVlbiIsCiAgImZpbGxPcGFjaXR5IjogMC4yLAogICJmaWxsUnVsZSI6ICJldmVub2RkIiwKICAibGluZUNhcCI6ICJyb3VuZCIsCiAgImxpbmVKb2luIjogInJvdW5kIiwKICAib3BhY2l0eSI6IDEuMCwKICAicmFkaXVzIjogMiwKICAic3Ryb2tlIjogdHJ1ZSwKICAid2VpZ2h0IjogMwp9CiAgICAgICAgICAgICAgICApCiAgICAgICAgICAgICAgICAuYWRkVG8obWFwX2IwM2VmN2JiYWVhMjQ3ZTA4MDcyZDIyOTc0MmViZWJjKTsKICAgICAgICAgICAgCiAgICAKICAgICAgICAgICAgdmFyIHBvcHVwXzc5MjRiZmY0MTYxODQ5MWU5MTFmYmM4OGEyN2Y5MjMwID0gTC5wb3B1cCh7bWF4V2lkdGg6ICcxMDAlJwogICAgICAgICAgICAKICAgICAgICAgICAgfSk7CgogICAgICAgICAgICAKICAgICAgICAgICAgICAgIHZhciBodG1sXzExZjk2Yzc4ZTQwZDQ3NTE4OWYyNmRlMjY5MWZlZDJlID0gJChgPGRpdiBpZD0iaHRtbF8xMWY5NmM3OGU0MGQ0NzUxODlmMjZkZTI2OTFmZWQyZSIgc3R5bGU9IndpZHRoOiAxMDAuMCU7IGhlaWdodDogMTAwLjAlOyI+TTVQPC9kaXY+YClbMF07CiAgICAgICAgICAgICAgICBwb3B1cF83OTI0YmZmNDE2MTg0OTFlOTExZmJjODhhMjdmOTIzMC5zZXRDb250ZW50KGh0bWxfMTFmOTZjNzhlNDBkNDc1MTg5ZjI2ZGUyNjkxZmVkMmUpOwogICAgICAgICAgICAKCiAgICAgICAgICAgIGNpcmNsZV9tYXJrZXJfYzViMWE1NDcyZTc2NDZmYTkxZTg4NzUwNGI2YzE2NjAuYmluZFBvcHVwKHBvcHVwXzc5MjRiZmY0MTYxODQ5MWU5MTFmYmM4OGEyN2Y5MjMwKQogICAgICAgICAgICA7CgogICAgICAgICAgICAKICAgICAgICAKICAgIAogICAgICAgICAgICB2YXIgY2lyY2xlX21hcmtlcl8zZjlkYzFlOGU2NTc0ZGJjOTE1ZjYyMWRkZmUxMGM5ZiA9IEwuY2lyY2xlTWFya2VyKAogICAgICAgICAgICAgICAgWzQzLjY2MTYwODMsIC03OS40NjQ3NjMyOTk5OTk5OV0sCiAgICAgICAgICAgICAgICB7CiAgImJ1YmJsaW5nTW91c2VFdmVudHMiOiB0cnVlLAogICJjb2xvciI6ICJncmVlbiIsCiAgImRhc2hBcnJheSI6IG51bGwsCiAgImRhc2hPZmZzZXQiOiBudWxsLAogICJmaWxsIjogZmFsc2UsCiAgImZpbGxDb2xvciI6ICJncmVlbiIsCiAgImZpbGxPcGFjaXR5IjogMC4yLAogICJmaWxsUnVsZSI6ICJldmVub2RkIiwKICAibGluZUNhcCI6ICJyb3VuZCIsCiAgImxpbmVKb2luIjogInJvdW5kIiwKICAib3BhY2l0eSI6IDEuMCwKICAicmFkaXVzIjogMiwKICAic3Ryb2tlIjogdHJ1ZSwKICAid2VpZ2h0IjogMwp9CiAgICAgICAgICAgICAgICApCiAgICAgICAgICAgICAgICAuYWRkVG8obWFwX2IwM2VmN2JiYWVhMjQ3ZTA4MDcyZDIyOTc0MmViZWJjKTsKICAgICAgICAgICAgCiAgICAKICAgICAgICAgICAgdmFyIHBvcHVwX2VjMjY3NDU5YTUyZjRkMDU5OWJlN2Y5OTNmYWIwMDBhID0gTC5wb3B1cCh7bWF4V2lkdGg6ICcxMDAlJwogICAgICAgICAgICAKICAgICAgICAgICAgfSk7CgogICAgICAgICAgICAKICAgICAgICAgICAgICAgIHZhciBodG1sXzI3ZDQ5YzViYTcwMzRhZjQ4MjAxMzAwNjc4YjYwYzY2ID0gJChgPGRpdiBpZD0iaHRtbF8yN2Q0OWM1YmE3MDM0YWY0ODIwMTMwMDY3OGI2MGM2NiIgc3R5bGU9IndpZHRoOiAxMDAuMCU7IGhlaWdodDogMTAwLjAlOyI+TTZQPC9kaXY+YClbMF07CiAgICAgICAgICAgICAgICBwb3B1cF9lYzI2NzQ1OWE1MmY0ZDA1OTliZTdmOTkzZmFiMDAwYS5zZXRDb250ZW50KGh0bWxfMjdkNDljNWJhNzAzNGFmNDgyMDEzMDA2NzhiNjBjNjYpOwogICAgICAgICAgICAKCiAgICAgICAgICAgIGNpcmNsZV9tYXJrZXJfM2Y5ZGMxZThlNjU3NGRiYzkxNWY2MjFkZGZlMTBjOWYuYmluZFBvcHVwKHBvcHVwX2VjMjY3NDU5YTUyZjRkMDU5OWJlN2Y5OTNmYWIwMDBhKQogICAgICAgICAgICA7CgogICAgICAgICAgICAKICAgICAgICAKICAgIAogICAgICAgICAgICB2YXIgY2lyY2xlX21hcmtlcl8yYzBmYTdjYWQ3ZjY0ODk5ODdmZDYwNGVmNTBkMTgwMyA9IEwuY2lyY2xlTWFya2VyKAogICAgICAgICAgICAgICAgWzQzLjcxNTM4MzQsIC03OS40MDU2Nzg0MDAwMDAwMV0sCiAgICAgICAgICAgICAgICB7CiAgImJ1YmJsaW5nTW91c2VFdmVudHMiOiB0cnVlLAogICJjb2xvciI6ICJncmVlbiIsCiAgImRhc2hBcnJheSI6IG51bGwsCiAgImRhc2hPZmZzZXQiOiBudWxsLAogICJmaWxsIjogZmFsc2UsCiAgImZpbGxDb2xvciI6ICJncmVlbiIsCiAgImZpbGxPcGFjaXR5IjogMC4yLAogICJmaWxsUnVsZSI6ICJldmVub2RkIiwKICAibGluZUNhcCI6ICJyb3VuZCIsCiAgImxpbmVKb2luIjogInJvdW5kIiwKICAib3BhY2l0eSI6IDEuMCwKICAicmFkaXVzIjogMiwKICAic3Ryb2tlIjogdHJ1ZSwKICAid2VpZ2h0IjogMwp9CiAgICAgICAgICAgICAgICApCiAgICAgICAgICAgICAgICAuYWRkVG8obWFwX2IwM2VmN2JiYWVhMjQ3ZTA4MDcyZDIyOTc0MmViZWJjKTsKICAgICAgICAgICAgCiAgICAKICAgICAgICAgICAgdmFyIHBvcHVwXzAxN2E2NzU2YWMzZTQ1NWFhNTU4NjJjNWUwY2I2MjZlID0gTC5wb3B1cCh7bWF4V2lkdGg6ICcxMDAlJwogICAgICAgICAgICAKICAgICAgICAgICAgfSk7CgogICAgICAgICAgICAKICAgICAgICAgICAgICAgIHZhciBodG1sXzQzZWZkMThjNWYwMTQ4ZWU4NmMxZTM5NGE2YjFhZDM5ID0gJChgPGRpdiBpZD0iaHRtbF80M2VmZDE4YzVmMDE0OGVlODZjMWUzOTRhNmIxYWQzOSIgc3R5bGU9IndpZHRoOiAxMDAuMCU7IGhlaWdodDogMTAwLjAlOyI+TTRSPC9kaXY+YClbMF07CiAgICAgICAgICAgICAgICBwb3B1cF8wMTdhNjc1NmFjM2U0NTVhYTU1ODYyYzVlMGNiNjI2ZS5zZXRDb250ZW50KGh0bWxfNDNlZmQxOGM1ZjAxNDhlZTg2YzFlMzk0YTZiMWFkMzkpOwogICAgICAgICAgICAKCiAgICAgICAgICAgIGNpcmNsZV9tYXJrZXJfMmMwZmE3Y2FkN2Y2NDg5OTg3ZmQ2MDRlZjUwZDE4MDMuYmluZFBvcHVwKHBvcHVwXzAxN2E2NzU2YWMzZTQ1NWFhNTU4NjJjNWUwY2I2MjZlKQogICAgICAgICAgICA7CgogICAgICAgICAgICAKICAgICAgICAKICAgIAogICAgICAgICAgICB2YXIgY2lyY2xlX21hcmtlcl84YWRhZWVmZTI5NjY0NjVmODkzZWZkMzdjZTA1NDlhYSA9IEwuY2lyY2xlTWFya2VyKAogICAgICAgICAgICAgICAgWzQzLjY3MjcwOTcsIC03OS40MDU2Nzg0MDAwMDAwMV0sCiAgICAgICAgICAgICAgICB7CiAgImJ1YmJsaW5nTW91c2VFdmVudHMiOiB0cnVlLAogICJjb2xvciI6ICJncmVlbiIsCiAgImRhc2hBcnJheSI6IG51bGwsCiAgImRhc2hPZmZzZXQiOiBudWxsLAogICJmaWxsIjogZmFsc2UsCiAgImZpbGxDb2xvciI6ICJncmVlbiIsCiAgImZpbGxPcGFjaXR5IjogMC4yLAogICJmaWxsUnVsZSI6ICJldmVub2RkIiwKICAibGluZUNhcCI6ICJyb3VuZCIsCiAgImxpbmVKb2luIjogInJvdW5kIiwKICAib3BhY2l0eSI6IDEuMCwKICAicmFkaXVzIjogMiwKICAic3Ryb2tlIjogdHJ1ZSwKICAid2VpZ2h0IjogMwp9CiAgICAgICAgICAgICAgICApCiAgICAgICAgICAgICAgICAuYWRkVG8obWFwX2IwM2VmN2JiYWVhMjQ3ZTA4MDcyZDIyOTc0MmViZWJjKTsKICAgICAgICAgICAgCiAgICAKICAgICAgICAgICAgdmFyIHBvcHVwXzk5NGYwYTRiOWYwODQzMTZhNTlmNmVkZDQ3YjQ0Y2JjID0gTC5wb3B1cCh7bWF4V2lkdGg6ICcxMDAlJwogICAgICAgICAgICAKICAgICAgICAgICAgfSk7CgogICAgICAgICAgICAKICAgICAgICAgICAgICAgIHZhciBodG1sXzI5NTJjYzhkODk5NDQ0MzhiOWNlZTliYjQzOGY1OTJkID0gJChgPGRpdiBpZD0iaHRtbF8yOTUyY2M4ZDg5OTQ0NDM4YjljZWU5YmI0MzhmNTkyZCIgc3R5bGU9IndpZHRoOiAxMDAuMCU7IGhlaWdodDogMTAwLjAlOyI+TTVSPC9kaXY+YClbMF07CiAgICAgICAgICAgICAgICBwb3B1cF85OTRmMGE0YjlmMDg0MzE2YTU5ZjZlZGQ0N2I0NGNiYy5zZXRDb250ZW50KGh0bWxfMjk1MmNjOGQ4OTk0NDQzOGI5Y2VlOWJiNDM4ZjU5MmQpOwogICAgICAgICAgICAKCiAgICAgICAgICAgIGNpcmNsZV9tYXJrZXJfOGFkYWVlZmUyOTY2NDY1Zjg5M2VmZDM3Y2UwNTQ5YWEuYmluZFBvcHVwKHBvcHVwXzk5NGYwYTRiOWYwODQzMTZhNTlmNmVkZDQ3YjQ0Y2JjKQogICAgICAgICAgICA7CgogICAgICAgICAgICAKICAgICAgICAKICAgIAogICAgICAgICAgICB2YXIgY2lyY2xlX21hcmtlcl81NmFhMjRiZjBlNjQ0YzA0OWUwNzc0ODU2NzQyOTBlNSA9IEwuY2lyY2xlTWFya2VyKAogICAgICAgICAgICAgICAgWzQzLjY0ODk1OTcsIC03OS40NTYzMjVdLAogICAgICAgICAgICAgICAgewogICJidWJibGluZ01vdXNlRXZlbnRzIjogdHJ1ZSwKICAiY29sb3IiOiAiZ3JlZW4iLAogICJkYXNoQXJyYXkiOiBudWxsLAogICJkYXNoT2Zmc2V0IjogbnVsbCwKICAiZmlsbCI6IGZhbHNlLAogICJmaWxsQ29sb3IiOiAiZ3JlZW4iLAogICJmaWxsT3BhY2l0eSI6IDAuMiwKICAiZmlsbFJ1bGUiOiAiZXZlbm9kZCIsCiAgImxpbmVDYXAiOiAicm91bmQiLAogICJsaW5lSm9pbiI6ICJyb3VuZCIsCiAgIm9wYWNpdHkiOiAxLjAsCiAgInJhZGl1cyI6IDIsCiAgInN0cm9rZSI6IHRydWUsCiAgIndlaWdodCI6IDMKfQogICAgICAgICAgICAgICAgKQogICAgICAgICAgICAgICAgLmFkZFRvKG1hcF9iMDNlZjdiYmFlYTI0N2UwODA3MmQyMjk3NDJlYmViYyk7CiAgICAgICAgICAgIAogICAgCiAgICAgICAgICAgIHZhciBwb3B1cF82NmMyNzBhYmVhZGQ0MjgxOTA3YjA2ODlkMGI3OWM4OSA9IEwucG9wdXAoe21heFdpZHRoOiAnMTAwJScKICAgICAgICAgICAgCiAgICAgICAgICAgIH0pOwoKICAgICAgICAgICAgCiAgICAgICAgICAgICAgICB2YXIgaHRtbF8yYTgzMmM1ODI4ZTE0YWY0YjRhODY3N2YwMGNmN2UyMyA9ICQoYDxkaXYgaWQ9Imh0bWxfMmE4MzJjNTgyOGUxNGFmNGI0YTg2NzdmMDBjZjdlMjMiIHN0eWxlPSJ3aWR0aDogMTAwLjAlOyBoZWlnaHQ6IDEwMC4wJTsiPk02UjwvZGl2PmApWzBdOwogICAgICAgICAgICAgICAgcG9wdXBfNjZjMjcwYWJlYWRkNDI4MTkwN2IwNjg5ZDBiNzljODkuc2V0Q29udGVudChodG1sXzJhODMyYzU4MjhlMTRhZjRiNGE4Njc3ZjAwY2Y3ZTIzKTsKICAgICAgICAgICAgCgogICAgICAgICAgICBjaXJjbGVfbWFya2VyXzU2YWEyNGJmMGU2NDRjMDQ5ZTA3NzQ4NTY3NDI5MGU1LmJpbmRQb3B1cChwb3B1cF82NmMyNzBhYmVhZGQ0MjgxOTA3YjA2ODlkMGI3OWM4OSkKICAgICAgICAgICAgOwoKICAgICAgICAgICAgCiAgICAgICAgCiAgICAKICAgICAgICAgICAgdmFyIGNpcmNsZV9tYXJrZXJfYmVmMjJhNDdjMzYzNDBmZWEwNjY1NDI2OWJjMDNjM2IgPSBMLmNpcmNsZU1hcmtlcigKICAgICAgICAgICAgICAgIFs0My43MDQzMjQ0LCAtNzkuMzg4NzkwMV0sCiAgICAgICAgICAgICAgICB7CiAgImJ1YmJsaW5nTW91c2VFdmVudHMiOiB0cnVlLAogICJjb2xvciI6ICJncmVlbiIsCiAgImRhc2hBcnJheSI6IG51bGwsCiAgImRhc2hPZmZzZXQiOiBudWxsLAogICJmaWxsIjogZmFsc2UsCiAgImZpbGxDb2xvciI6ICJncmVlbiIsCiAgImZpbGxPcGFjaXR5IjogMC4yLAogICJmaWxsUnVsZSI6ICJldmVub2RkIiwKICAibGluZUNhcCI6ICJyb3VuZCIsCiAgImxpbmVKb2luIjogInJvdW5kIiwKICAib3BhY2l0eSI6IDEuMCwKICAicmFkaXVzIjogMiwKICAic3Ryb2tlIjogdHJ1ZSwKICAid2VpZ2h0IjogMwp9CiAgICAgICAgICAgICAgICApCiAgICAgICAgICAgICAgICAuYWRkVG8obWFwX2IwM2VmN2JiYWVhMjQ3ZTA4MDcyZDIyOTc0MmViZWJjKTsKICAgICAgICAgICAgCiAgICAKICAgICAgICAgICAgdmFyIHBvcHVwXzM3YTA3Yjk2NTUzNDQzNzdiOTM2MzU4NjgwMmEyYWQ2ID0gTC5wb3B1cCh7bWF4V2lkdGg6ICcxMDAlJwogICAgICAgICAgICAKICAgICAgICAgICAgfSk7CgogICAgICAgICAgICAKICAgICAgICAgICAgICAgIHZhciBodG1sX2VjZGYwY2E4NzE4NzQ3MTk4NTFjNjc5ZjRlMGFlYmM3ID0gJChgPGRpdiBpZD0iaHRtbF9lY2RmMGNhODcxODc0NzE5ODUxYzY3OWY0ZTBhZWJjNyIgc3R5bGU9IndpZHRoOiAxMDAuMCU7IGhlaWdodDogMTAwLjAlOyI+TTRTPC9kaXY+YClbMF07CiAgICAgICAgICAgICAgICBwb3B1cF8zN2EwN2I5NjU1MzQ0Mzc3YjkzNjM1ODY4MDJhMmFkNi5zZXRDb250ZW50KGh0bWxfZWNkZjBjYTg3MTg3NDcxOTg1MWM2NzlmNGUwYWViYzcpOwogICAgICAgICAgICAKCiAgICAgICAgICAgIGNpcmNsZV9tYXJrZXJfYmVmMjJhNDdjMzYzNDBmZWEwNjY1NDI2OWJjMDNjM2IuYmluZFBvcHVwKHBvcHVwXzM3YTA3Yjk2NTUzNDQzNzdiOTM2MzU4NjgwMmEyYWQ2KQogICAgICAgICAgICA7CgogICAgICAgICAgICAKICAgICAgICAKICAgIAogICAgICAgICAgICB2YXIgY2lyY2xlX21hcmtlcl85NWViN2U3MjFjNjc0MzVjODI3YmEyNTJkYjI4MjViYSA9IEwuY2lyY2xlTWFya2VyKAogICAgICAgICAgICAgICAgWzQzLjY2MjY5NTYsIC03OS40MDAwNDkzXSwKICAgICAgICAgICAgICAgIHsKICAiYnViYmxpbmdNb3VzZUV2ZW50cyI6IHRydWUsCiAgImNvbG9yIjogImdyZWVuIiwKICAiZGFzaEFycmF5IjogbnVsbCwKICAiZGFzaE9mZnNldCI6IG51bGwsCiAgImZpbGwiOiBmYWxzZSwKICAiZmlsbENvbG9yIjogImdyZWVuIiwKICAiZmlsbE9wYWNpdHkiOiAwLjIsCiAgImZpbGxSdWxlIjogImV2ZW5vZGQiLAogICJsaW5lQ2FwIjogInJvdW5kIiwKICAibGluZUpvaW4iOiAicm91bmQiLAogICJvcGFjaXR5IjogMS4wLAogICJyYWRpdXMiOiAyLAogICJzdHJva2UiOiB0cnVlLAogICJ3ZWlnaHQiOiAzCn0KICAgICAgICAgICAgICAgICkKICAgICAgICAgICAgICAgIC5hZGRUbyhtYXBfYjAzZWY3YmJhZWEyNDdlMDgwNzJkMjI5NzQyZWJlYmMpOwogICAgICAgICAgICAKICAgIAogICAgICAgICAgICB2YXIgcG9wdXBfOTBkZDU2ZGNhMzQwNDA2ZmEwZjc1Yjc3NGRmNGFjMTkgPSBMLnBvcHVwKHttYXhXaWR0aDogJzEwMCUnCiAgICAgICAgICAgIAogICAgICAgICAgICB9KTsKCiAgICAgICAgICAgIAogICAgICAgICAgICAgICAgdmFyIGh0bWxfZDNlZDBkODA2M2NiNDJiNjg5ZWY5N2MxNjhhMDUxZDIgPSAkKGA8ZGl2IGlkPSJodG1sX2QzZWQwZDgwNjNjYjQyYjY4OWVmOTdjMTY4YTA1MWQyIiBzdHlsZT0id2lkdGg6IDEwMC4wJTsgaGVpZ2h0OiAxMDAuMCU7Ij5NNVM8L2Rpdj5gKVswXTsKICAgICAgICAgICAgICAgIHBvcHVwXzkwZGQ1NmRjYTM0MDQwNmZhMGY3NWI3NzRkZjRhYzE5LnNldENvbnRlbnQoaHRtbF9kM2VkMGQ4MDYzY2I0MmI2ODllZjk3YzE2OGEwNTFkMik7CiAgICAgICAgICAgIAoKICAgICAgICAgICAgY2lyY2xlX21hcmtlcl85NWViN2U3MjFjNjc0MzVjODI3YmEyNTJkYjI4MjViYS5iaW5kUG9wdXAocG9wdXBfOTBkZDU2ZGNhMzQwNDA2ZmEwZjc1Yjc3NGRmNGFjMTkpCiAgICAgICAgICAgIDsKCiAgICAgICAgICAgIAogICAgICAgIAogICAgCiAgICAgICAgICAgIHZhciBjaXJjbGVfbWFya2VyXzM5NTZjZWIzYzM3YjRlMjlhMDA3YTU3MmQ0N2E3N2I1ID0gTC5jaXJjbGVNYXJrZXIoCiAgICAgICAgICAgICAgICBbNDMuNjUxNTcwNiwgLTc5LjQ4NDQ0OTldLAogICAgICAgICAgICAgICAgewogICJidWJibGluZ01vdXNlRXZlbnRzIjogdHJ1ZSwKICAiY29sb3IiOiAiZ3JlZW4iLAogICJkYXNoQXJyYXkiOiBudWxsLAogICJkYXNoT2Zmc2V0IjogbnVsbCwKICAiZmlsbCI6IGZhbHNlLAogICJmaWxsQ29sb3IiOiAiZ3JlZW4iLAogICJmaWxsT3BhY2l0eSI6IDAuMiwKICAiZmlsbFJ1bGUiOiAiZXZlbm9kZCIsCiAgImxpbmVDYXAiOiAicm91bmQiLAogICJsaW5lSm9pbiI6ICJyb3VuZCIsCiAgIm9wYWNpdHkiOiAxLjAsCiAgInJhZGl1cyI6IDIsCiAgInN0cm9rZSI6IHRydWUsCiAgIndlaWdodCI6IDMKfQogICAgICAgICAgICAgICAgKQogICAgICAgICAgICAgICAgLmFkZFRvKG1hcF9iMDNlZjdiYmFlYTI0N2UwODA3MmQyMjk3NDJlYmViYyk7CiAgICAgICAgICAgIAogICAgCiAgICAgICAgICAgIHZhciBwb3B1cF82YWNmZmJkMjYzMjU0NTcyYWE0YzIzNWRjZTdmNjAxMSA9IEwucG9wdXAoe21heFdpZHRoOiAnMTAwJScKICAgICAgICAgICAgCiAgICAgICAgICAgIH0pOwoKICAgICAgICAgICAgCiAgICAgICAgICAgICAgICB2YXIgaHRtbF8wYmRlYWY5MzllNDY0NzM1ODJkOWNkYWY0NjgxM2E4OSA9ICQoYDxkaXYgaWQ9Imh0bWxfMGJkZWFmOTM5ZTQ2NDczNTgyZDljZGFmNDY4MTNhODkiIHN0eWxlPSJ3aWR0aDogMTAwLjAlOyBoZWlnaHQ6IDEwMC4wJTsiPk02UzwvZGl2PmApWzBdOwogICAgICAgICAgICAgICAgcG9wdXBfNmFjZmZiZDI2MzI1NDU3MmFhNGMyMzVkY2U3ZjYwMTEuc2V0Q29udGVudChodG1sXzBiZGVhZjkzOWU0NjQ3MzU4MmQ5Y2RhZjQ2ODEzYTg5KTsKICAgICAgICAgICAgCgogICAgICAgICAgICBjaXJjbGVfbWFya2VyXzM5NTZjZWIzYzM3YjRlMjlhMDA3YTU3MmQ0N2E3N2I1LmJpbmRQb3B1cChwb3B1cF82YWNmZmJkMjYzMjU0NTcyYWE0YzIzNWRjZTdmNjAxMSkKICAgICAgICAgICAgOwoKICAgICAgICAgICAgCiAgICAgICAgCiAgICAKICAgICAgICAgICAgdmFyIGNpcmNsZV9tYXJrZXJfNmIyZGFiZmI0MjQ2NDllMDg1YjE2ZTIzOTVlMWNlMjUgPSBMLmNpcmNsZU1hcmtlcigKICAgICAgICAgICAgICAgIFs0My42ODk1NzQzLCAtNzkuMzgzMTU5OTAwMDAwMDFdLAogICAgICAgICAgICAgICAgewogICJidWJibGluZ01vdXNlRXZlbnRzIjogdHJ1ZSwKICAiY29sb3IiOiAiZ3JlZW4iLAogICJkYXNoQXJyYXkiOiBudWxsLAogICJkYXNoT2Zmc2V0IjogbnVsbCwKICAiZmlsbCI6IGZhbHNlLAogICJmaWxsQ29sb3IiOiAiZ3JlZW4iLAogICJmaWxsT3BhY2l0eSI6IDAuMiwKICAiZmlsbFJ1bGUiOiAiZXZlbm9kZCIsCiAgImxpbmVDYXAiOiAicm91bmQiLAogICJsaW5lSm9pbiI6ICJyb3VuZCIsCiAgIm9wYWNpdHkiOiAxLjAsCiAgInJhZGl1cyI6IDIsCiAgInN0cm9rZSI6IHRydWUsCiAgIndlaWdodCI6IDMKfQogICAgICAgICAgICAgICAgKQogICAgICAgICAgICAgICAgLmFkZFRvKG1hcF9iMDNlZjdiYmFlYTI0N2UwODA3MmQyMjk3NDJlYmViYyk7CiAgICAgICAgICAgIAogICAgCiAgICAgICAgICAgIHZhciBwb3B1cF8xYzE1YzVmMjI1Y2Y0NzQ5ODk4ZmFkMmZjYWZmMzlmYyA9IEwucG9wdXAoe21heFdpZHRoOiAnMTAwJScKICAgICAgICAgICAgCiAgICAgICAgICAgIH0pOwoKICAgICAgICAgICAgCiAgICAgICAgICAgICAgICB2YXIgaHRtbF8wYTI1ZWE2Y2QyZTM0MzUwODFiMjMwMzIxYTJkYWZmOSA9ICQoYDxkaXYgaWQ9Imh0bWxfMGEyNWVhNmNkMmUzNDM1MDgxYjIzMDMyMWEyZGFmZjkiIHN0eWxlPSJ3aWR0aDogMTAwLjAlOyBoZWlnaHQ6IDEwMC4wJTsiPk00VDwvZGl2PmApWzBdOwogICAgICAgICAgICAgICAgcG9wdXBfMWMxNWM1ZjIyNWNmNDc0OTg5OGZhZDJmY2FmZjM5ZmMuc2V0Q29udGVudChodG1sXzBhMjVlYTZjZDJlMzQzNTA4MWIyMzAzMjFhMmRhZmY5KTsKICAgICAgICAgICAgCgogICAgICAgICAgICBjaXJjbGVfbWFya2VyXzZiMmRhYmZiNDI0NjQ5ZTA4NWIxNmUyMzk1ZTFjZTI1LmJpbmRQb3B1cChwb3B1cF8xYzE1YzVmMjI1Y2Y0NzQ5ODk4ZmFkMmZjYWZmMzlmYykKICAgICAgICAgICAgOwoKICAgICAgICAgICAgCiAgICAgICAgCiAgICAKICAgICAgICAgICAgdmFyIGNpcmNsZV9tYXJrZXJfMDAyYTdlOTIwMGY2NDJhZDk3ZWIyNDFhMWYyZWYzNjggPSBMLmNpcmNsZU1hcmtlcigKICAgICAgICAgICAgICAgIFs0My42NTMyMDU3LCAtNzkuNDAwMDQ5M10sCiAgICAgICAgICAgICAgICB7CiAgImJ1YmJsaW5nTW91c2VFdmVudHMiOiB0cnVlLAogICJjb2xvciI6ICJncmVlbiIsCiAgImRhc2hBcnJheSI6IG51bGwsCiAgImRhc2hPZmZzZXQiOiBudWxsLAogICJmaWxsIjogZmFsc2UsCiAgImZpbGxDb2xvciI6ICJncmVlbiIsCiAgImZpbGxPcGFjaXR5IjogMC4yLAogICJmaWxsUnVsZSI6ICJldmVub2RkIiwKICAibGluZUNhcCI6ICJyb3VuZCIsCiAgImxpbmVKb2luIjogInJvdW5kIiwKICAib3BhY2l0eSI6IDEuMCwKICAicmFkaXVzIjogMiwKICAic3Ryb2tlIjogdHJ1ZSwKICAid2VpZ2h0IjogMwp9CiAgICAgICAgICAgICAgICApCiAgICAgICAgICAgICAgICAuYWRkVG8obWFwX2IwM2VmN2JiYWVhMjQ3ZTA4MDcyZDIyOTc0MmViZWJjKTsKICAgICAgICAgICAgCiAgICAKICAgICAgICAgICAgdmFyIHBvcHVwX2ZmMGY3YzJiZDFiMjRlYzlhMGM0YTZlZWEwNjQ4OTBlID0gTC5wb3B1cCh7bWF4V2lkdGg6ICcxMDAlJwogICAgICAgICAgICAKICAgICAgICAgICAgfSk7CgogICAgICAgICAgICAKICAgICAgICAgICAgICAgIHZhciBodG1sXzQ0NzQ5M2ExN2QyNDRmMzI5ZGJkMzYyYjVhYjhhODNmID0gJChgPGRpdiBpZD0iaHRtbF80NDc0OTNhMTdkMjQ0ZjMyOWRiZDM2MmI1YWI4YTgzZiIgc3R5bGU9IndpZHRoOiAxMDAuMCU7IGhlaWdodDogMTAwLjAlOyI+TTVUPC9kaXY+YClbMF07CiAgICAgICAgICAgICAgICBwb3B1cF9mZjBmN2MyYmQxYjI0ZWM5YTBjNGE2ZWVhMDY0ODkwZS5zZXRDb250ZW50KGh0bWxfNDQ3NDkzYTE3ZDI0NGYzMjlkYmQzNjJiNWFiOGE4M2YpOwogICAgICAgICAgICAKCiAgICAgICAgICAgIGNpcmNsZV9tYXJrZXJfMDAyYTdlOTIwMGY2NDJhZDk3ZWIyNDFhMWYyZWYzNjguYmluZFBvcHVwKHBvcHVwX2ZmMGY3YzJiZDFiMjRlYzlhMGM0YTZlZWEwNjQ4OTBlKQogICAgICAgICAgICA7CgogICAgICAgICAgICAKICAgICAgICAKICAgIAogICAgICAgICAgICB2YXIgY2lyY2xlX21hcmtlcl9jMTgxNjRkNzYwNmI0MGI4ODM0ZTQ3ZWY3ZmEyYzM4MSA9IEwuY2lyY2xlTWFya2VyKAogICAgICAgICAgICAgICAgWzQzLjY4NjQxMjI5OTk5OTk5LCAtNzkuNDAwMDQ5M10sCiAgICAgICAgICAgICAgICB7CiAgImJ1YmJsaW5nTW91c2VFdmVudHMiOiB0cnVlLAogICJjb2xvciI6ICJncmVlbiIsCiAgImRhc2hBcnJheSI6IG51bGwsCiAgImRhc2hPZmZzZXQiOiBudWxsLAogICJmaWxsIjogZmFsc2UsCiAgImZpbGxDb2xvciI6ICJncmVlbiIsCiAgImZpbGxPcGFjaXR5IjogMC4yLAogICJmaWxsUnVsZSI6ICJldmVub2RkIiwKICAibGluZUNhcCI6ICJyb3VuZCIsCiAgImxpbmVKb2luIjogInJvdW5kIiwKICAib3BhY2l0eSI6IDEuMCwKICAicmFkaXVzIjogMiwKICAic3Ryb2tlIjogdHJ1ZSwKICAid2VpZ2h0IjogMwp9CiAgICAgICAgICAgICAgICApCiAgICAgICAgICAgICAgICAuYWRkVG8obWFwX2IwM2VmN2JiYWVhMjQ3ZTA4MDcyZDIyOTc0MmViZWJjKTsKICAgICAgICAgICAgCiAgICAKICAgICAgICAgICAgdmFyIHBvcHVwXzRhYjExYzYzYzkyYTRkZTZhNGRjNWI5ZWYwNjI3Y2VmID0gTC5wb3B1cCh7bWF4V2lkdGg6ICcxMDAlJwogICAgICAgICAgICAKICAgICAgICAgICAgfSk7CgogICAgICAgICAgICAKICAgICAgICAgICAgICAgIHZhciBodG1sX2QwZGQ4YjI0NTVjYTRjZjVhOTY0OWQzYTFjMWU0MDM0ID0gJChgPGRpdiBpZD0iaHRtbF9kMGRkOGIyNDU1Y2E0Y2Y1YTk2NDlkM2ExYzFlNDAzNCIgc3R5bGU9IndpZHRoOiAxMDAuMCU7IGhlaWdodDogMTAwLjAlOyI+TTRWPC9kaXY+YClbMF07CiAgICAgICAgICAgICAgICBwb3B1cF80YWIxMWM2M2M5MmE0ZGU2YTRkYzViOWVmMDYyN2NlZi5zZXRDb250ZW50KGh0bWxfZDBkZDhiMjQ1NWNhNGNmNWE5NjQ5ZDNhMWMxZTQwMzQpOwogICAgICAgICAgICAKCiAgICAgICAgICAgIGNpcmNsZV9tYXJrZXJfYzE4MTY0ZDc2MDZiNDBiODgzNGU0N2VmN2ZhMmMzODEuYmluZFBvcHVwKHBvcHVwXzRhYjExYzYzYzkyYTRkZTZhNGRjNWI5ZWYwNjI3Y2VmKQogICAgICAgICAgICA7CgogICAgICAgICAgICAKICAgICAgICAKICAgIAogICAgICAgICAgICB2YXIgY2lyY2xlX21hcmtlcl82ZTZmZjAwODhjYzc0NGE1ODk4ZjU2NGE2NmFhZGY4MSA9IEwuY2lyY2xlTWFya2VyKAogICAgICAgICAgICAgICAgWzQzLjYyODk0NjcsIC03OS4zOTQ0MTk5XSwKICAgICAgICAgICAgICAgIHsKICAiYnViYmxpbmdNb3VzZUV2ZW50cyI6IHRydWUsCiAgImNvbG9yIjogImdyZWVuIiwKICAiZGFzaEFycmF5IjogbnVsbCwKICAiZGFzaE9mZnNldCI6IG51bGwsCiAgImZpbGwiOiBmYWxzZSwKICAiZmlsbENvbG9yIjogImdyZWVuIiwKICAiZmlsbE9wYWNpdHkiOiAwLjIsCiAgImZpbGxSdWxlIjogImV2ZW5vZGQiLAogICJsaW5lQ2FwIjogInJvdW5kIiwKICAibGluZUpvaW4iOiAicm91bmQiLAogICJvcGFjaXR5IjogMS4wLAogICJyYWRpdXMiOiAyLAogICJzdHJva2UiOiB0cnVlLAogICJ3ZWlnaHQiOiAzCn0KICAgICAgICAgICAgICAgICkKICAgICAgICAgICAgICAgIC5hZGRUbyhtYXBfYjAzZWY3YmJhZWEyNDdlMDgwNzJkMjI5NzQyZWJlYmMpOwogICAgICAgICAgICAKICAgIAogICAgICAgICAgICB2YXIgcG9wdXBfYTlhYzZlOWM3MWY0NDJiNWIwMjQzYTc1Yjg5NzgyYTkgPSBMLnBvcHVwKHttYXhXaWR0aDogJzEwMCUnCiAgICAgICAgICAgIAogICAgICAgICAgICB9KTsKCiAgICAgICAgICAgIAogICAgICAgICAgICAgICAgdmFyIGh0bWxfNThhMzY1OWQ3NjM0NGExNzgwODdkNzFjM2NiNTRmOGIgPSAkKGA8ZGl2IGlkPSJodG1sXzU4YTM2NTlkNzYzNDRhMTc4MDg3ZDcxYzNjYjU0ZjhiIiBzdHlsZT0id2lkdGg6IDEwMC4wJTsgaGVpZ2h0OiAxMDAuMCU7Ij5NNVY8L2Rpdj5gKVswXTsKICAgICAgICAgICAgICAgIHBvcHVwX2E5YWM2ZTljNzFmNDQyYjViMDI0M2E3NWI4OTc4MmE5LnNldENvbnRlbnQoaHRtbF81OGEzNjU5ZDc2MzQ0YTE3ODA4N2Q3MWMzY2I1NGY4Yik7CiAgICAgICAgICAgIAoKICAgICAgICAgICAgY2lyY2xlX21hcmtlcl82ZTZmZjAwODhjYzc0NGE1ODk4ZjU2NGE2NmFhZGY4MS5iaW5kUG9wdXAocG9wdXBfYTlhYzZlOWM3MWY0NDJiNWIwMjQzYTc1Yjg5NzgyYTkpCiAgICAgICAgICAgIDsKCiAgICAgICAgICAgIAogICAgICAgIAogICAgCiAgICAgICAgICAgIHZhciBjaXJjbGVfbWFya2VyX2E0ZTExNzMxYTUyNjRjYTZhMWU3MmQwZTExMjI2NGZlID0gTC5jaXJjbGVNYXJrZXIoCiAgICAgICAgICAgICAgICBbNDMuNjc5NTYyNiwgLTc5LjM3NzUyOTQwMDAwMDAxXSwKICAgICAgICAgICAgICAgIHsKICAiYnViYmxpbmdNb3VzZUV2ZW50cyI6IHRydWUsCiAgImNvbG9yIjogImdyZWVuIiwKICAiZGFzaEFycmF5IjogbnVsbCwKICAiZGFzaE9mZnNldCI6IG51bGwsCiAgImZpbGwiOiBmYWxzZSwKICAiZmlsbENvbG9yIjogImdyZWVuIiwKICAiZmlsbE9wYWNpdHkiOiAwLjIsCiAgImZpbGxSdWxlIjogImV2ZW5vZGQiLAogICJsaW5lQ2FwIjogInJvdW5kIiwKICAibGluZUpvaW4iOiAicm91bmQiLAogICJvcGFjaXR5IjogMS4wLAogICJyYWRpdXMiOiAyLAogICJzdHJva2UiOiB0cnVlLAogICJ3ZWlnaHQiOiAzCn0KICAgICAgICAgICAgICAgICkKICAgICAgICAgICAgICAgIC5hZGRUbyhtYXBfYjAzZWY3YmJhZWEyNDdlMDgwNzJkMjI5NzQyZWJlYmMpOwogICAgICAgICAgICAKICAgIAogICAgICAgICAgICB2YXIgcG9wdXBfOGI2ZDJhYzZiZTI0NGI0Nzg1ZjAyZjVlOWE5NmM0MDkgPSBMLnBvcHVwKHttYXhXaWR0aDogJzEwMCUnCiAgICAgICAgICAgIAogICAgICAgICAgICB9KTsKCiAgICAgICAgICAgIAogICAgICAgICAgICAgICAgdmFyIGh0bWxfMWJjOTk2OTNmOTE0NGYwNjk0MmJiN2RjYjdlNjE1MjcgPSAkKGA8ZGl2IGlkPSJodG1sXzFiYzk5NjkzZjkxNDRmMDY5NDJiYjdkY2I3ZTYxNTI3IiBzdHlsZT0id2lkdGg6IDEwMC4wJTsgaGVpZ2h0OiAxMDAuMCU7Ij5NNFc8L2Rpdj5gKVswXTsKICAgICAgICAgICAgICAgIHBvcHVwXzhiNmQyYWM2YmUyNDRiNDc4NWYwMmY1ZTlhOTZjNDA5LnNldENvbnRlbnQoaHRtbF8xYmM5OTY5M2Y5MTQ0ZjA2OTQyYmI3ZGNiN2U2MTUyNyk7CiAgICAgICAgICAgIAoKICAgICAgICAgICAgY2lyY2xlX21hcmtlcl9hNGUxMTczMWE1MjY0Y2E2YTFlNzJkMGUxMTIyNjRmZS5iaW5kUG9wdXAocG9wdXBfOGI2ZDJhYzZiZTI0NGI0Nzg1ZjAyZjVlOWE5NmM0MDkpCiAgICAgICAgICAgIDsKCiAgICAgICAgICAgIAogICAgICAgIAogICAgCiAgICAgICAgICAgIHZhciBjaXJjbGVfbWFya2VyX2Y1YjJmOTBmMTc0OTQwZjA4ZWE5MmIwOGQyNjFiZDllID0gTC5jaXJjbGVNYXJrZXIoCiAgICAgICAgICAgICAgICBbNDMuNjQ2NDM1MiwgLTc5LjM3NDg0NTk5OTk5OTk5XSwKICAgICAgICAgICAgICAgIHsKICAiYnViYmxpbmdNb3VzZUV2ZW50cyI6IHRydWUsCiAgImNvbG9yIjogImdyZWVuIiwKICAiZGFzaEFycmF5IjogbnVsbCwKICAiZGFzaE9mZnNldCI6IG51bGwsCiAgImZpbGwiOiBmYWxzZSwKICAiZmlsbENvbG9yIjogImdyZWVuIiwKICAiZmlsbE9wYWNpdHkiOiAwLjIsCiAgImZpbGxSdWxlIjogImV2ZW5vZGQiLAogICJsaW5lQ2FwIjogInJvdW5kIiwKICAibGluZUpvaW4iOiAicm91bmQiLAogICJvcGFjaXR5IjogMS4wLAogICJyYWRpdXMiOiAyLAogICJzdHJva2UiOiB0cnVlLAogICJ3ZWlnaHQiOiAzCn0KICAgICAgICAgICAgICAgICkKICAgICAgICAgICAgICAgIC5hZGRUbyhtYXBfYjAzZWY3YmJhZWEyNDdlMDgwNzJkMjI5NzQyZWJlYmMpOwogICAgICAgICAgICAKICAgIAogICAgICAgICAgICB2YXIgcG9wdXBfNGY3MTAwMDhlMzc1NDliYWE4YzFiOTRmZjk2NmJhODIgPSBMLnBvcHVwKHttYXhXaWR0aDogJzEwMCUnCiAgICAgICAgICAgIAogICAgICAgICAgICB9KTsKCiAgICAgICAgICAgIAogICAgICAgICAgICAgICAgdmFyIGh0bWxfNGIwZTc2OTI2NTIwNDI3NTg3OWQxNzBiNGY1MTVkYzAgPSAkKGA8ZGl2IGlkPSJodG1sXzRiMGU3NjkyNjUyMDQyNzU4NzlkMTcwYjRmNTE1ZGMwIiBzdHlsZT0id2lkdGg6IDEwMC4wJTsgaGVpZ2h0OiAxMDAuMCU7Ij5NNVc8L2Rpdj5gKVswXTsKICAgICAgICAgICAgICAgIHBvcHVwXzRmNzEwMDA4ZTM3NTQ5YmFhOGMxYjk0ZmY5NjZiYTgyLnNldENvbnRlbnQoaHRtbF80YjBlNzY5MjY1MjA0Mjc1ODc5ZDE3MGI0ZjUxNWRjMCk7CiAgICAgICAgICAgIAoKICAgICAgICAgICAgY2lyY2xlX21hcmtlcl9mNWIyZjkwZjE3NDk0MGYwOGVhOTJiMDhkMjYxYmQ5ZS5iaW5kUG9wdXAocG9wdXBfNGY3MTAwMDhlMzc1NDliYWE4YzFiOTRmZjk2NmJhODIpCiAgICAgICAgICAgIDsKCiAgICAgICAgICAgIAogICAgICAgIAogICAgCiAgICAgICAgICAgIHZhciBjaXJjbGVfbWFya2VyXzFjNzE3MTMwYTc4NzQ0OTJiOTJmMjAxN2VmN2VmNzA4ID0gTC5jaXJjbGVNYXJrZXIoCiAgICAgICAgICAgICAgICBbNDMuNjY3OTY3LCAtNzkuMzY3Njc1M10sCiAgICAgICAgICAgICAgICB7CiAgImJ1YmJsaW5nTW91c2VFdmVudHMiOiB0cnVlLAogICJjb2xvciI6ICJncmVlbiIsCiAgImRhc2hBcnJheSI6IG51bGwsCiAgImRhc2hPZmZzZXQiOiBudWxsLAogICJmaWxsIjogZmFsc2UsCiAgImZpbGxDb2xvciI6ICJncmVlbiIsCiAgImZpbGxPcGFjaXR5IjogMC4yLAogICJmaWxsUnVsZSI6ICJldmVub2RkIiwKICAibGluZUNhcCI6ICJyb3VuZCIsCiAgImxpbmVKb2luIjogInJvdW5kIiwKICAib3BhY2l0eSI6IDEuMCwKICAicmFkaXVzIjogMiwKICAic3Ryb2tlIjogdHJ1ZSwKICAid2VpZ2h0IjogMwp9CiAgICAgICAgICAgICAgICApCiAgICAgICAgICAgICAgICAuYWRkVG8obWFwX2IwM2VmN2JiYWVhMjQ3ZTA4MDcyZDIyOTc0MmViZWJjKTsKICAgICAgICAgICAgCiAgICAKICAgICAgICAgICAgdmFyIHBvcHVwXzVjZjBmYzQwOWIwOTRmMThiOWUwNDVmMTBiZTlmY2IzID0gTC5wb3B1cCh7bWF4V2lkdGg6ICcxMDAlJwogICAgICAgICAgICAKICAgICAgICAgICAgfSk7CgogICAgICAgICAgICAKICAgICAgICAgICAgICAgIHZhciBodG1sXzVjNWU0ZmVjMTg3MTRkYjBhY2RkZGFlMWUwOTY5YzcxID0gJChgPGRpdiBpZD0iaHRtbF81YzVlNGZlYzE4NzE0ZGIwYWNkZGRhZTFlMDk2OWM3MSIgc3R5bGU9IndpZHRoOiAxMDAuMCU7IGhlaWdodDogMTAwLjAlOyI+TTRYPC9kaXY+YClbMF07CiAgICAgICAgICAgICAgICBwb3B1cF81Y2YwZmM0MDliMDk0ZjE4YjllMDQ1ZjEwYmU5ZmNiMy5zZXRDb250ZW50KGh0bWxfNWM1ZTRmZWMxODcxNGRiMGFjZGRkYWUxZTA5NjljNzEpOwogICAgICAgICAgICAKCiAgICAgICAgICAgIGNpcmNsZV9tYXJrZXJfMWM3MTcxMzBhNzg3NDQ5MmI5MmYyMDE3ZWY3ZWY3MDguYmluZFBvcHVwKHBvcHVwXzVjZjBmYzQwOWIwOTRmMThiOWUwNDVmMTBiZTlmY2IzKQogICAgICAgICAgICA7CgogICAgICAgICAgICAKICAgICAgICAKICAgIAogICAgICAgICAgICB2YXIgY2lyY2xlX21hcmtlcl9kYzg0NjNlOTgxNTM0ZDcwYmQyNjQwMTJkZGZmYjJiNCA9IEwuY2lyY2xlTWFya2VyKAogICAgICAgICAgICAgICAgWzQzLjY0ODQyOTIsIC03OS4zODIyODAyXSwKICAgICAgICAgICAgICAgIHsKICAiYnViYmxpbmdNb3VzZUV2ZW50cyI6IHRydWUsCiAgImNvbG9yIjogImdyZWVuIiwKICAiZGFzaEFycmF5IjogbnVsbCwKICAiZGFzaE9mZnNldCI6IG51bGwsCiAgImZpbGwiOiBmYWxzZSwKICAiZmlsbENvbG9yIjogImdyZWVuIiwKICAiZmlsbE9wYWNpdHkiOiAwLjIsCiAgImZpbGxSdWxlIjogImV2ZW5vZGQiLAogICJsaW5lQ2FwIjogInJvdW5kIiwKICAibGluZUpvaW4iOiAicm91bmQiLAogICJvcGFjaXR5IjogMS4wLAogICJyYWRpdXMiOiAyLAogICJzdHJva2UiOiB0cnVlLAogICJ3ZWlnaHQiOiAzCn0KICAgICAgICAgICAgICAgICkKICAgICAgICAgICAgICAgIC5hZGRUbyhtYXBfYjAzZWY3YmJhZWEyNDdlMDgwNzJkMjI5NzQyZWJlYmMpOwogICAgICAgICAgICAKICAgIAogICAgICAgICAgICB2YXIgcG9wdXBfNzk0N2IwMDQ0ZDdjNGU4ZThmNTA0YzNhZjEzOGU2NjMgPSBMLnBvcHVwKHttYXhXaWR0aDogJzEwMCUnCiAgICAgICAgICAgIAogICAgICAgICAgICB9KTsKCiAgICAgICAgICAgIAogICAgICAgICAgICAgICAgdmFyIGh0bWxfNzAzMjFiODcwMGZlNGEyZjgxMzlkOTEwM2Y1MDIzMjIgPSAkKGA8ZGl2IGlkPSJodG1sXzcwMzIxYjg3MDBmZTRhMmY4MTM5ZDkxMDNmNTAyMzIyIiBzdHlsZT0id2lkdGg6IDEwMC4wJTsgaGVpZ2h0OiAxMDAuMCU7Ij5NNVg8L2Rpdj5gKVswXTsKICAgICAgICAgICAgICAgIHBvcHVwXzc5NDdiMDA0NGQ3YzRlOGU4ZjUwNGMzYWYxMzhlNjYzLnNldENvbnRlbnQoaHRtbF83MDMyMWI4NzAwZmU0YTJmODEzOWQ5MTAzZjUwMjMyMik7CiAgICAgICAgICAgIAoKICAgICAgICAgICAgY2lyY2xlX21hcmtlcl9kYzg0NjNlOTgxNTM0ZDcwYmQyNjQwMTJkZGZmYjJiNC5iaW5kUG9wdXAocG9wdXBfNzk0N2IwMDQ0ZDdjNGU4ZThmNTA0YzNhZjEzOGU2NjMpCiAgICAgICAgICAgIDsKCiAgICAgICAgICAgIAogICAgICAgIAogICAgCiAgICAgICAgICAgIHZhciBjaXJjbGVfbWFya2VyXzI4NGVlNTI1OGNmMjRiZGJiMzExYjEzNjEzOTFjYjc2ID0gTC5jaXJjbGVNYXJrZXIoCiAgICAgICAgICAgICAgICBbNDMuNjY1ODU5OSwgLTc5LjM4MzE1OTkwMDAwMDAxXSwKICAgICAgICAgICAgICAgIHsKICAiYnViYmxpbmdNb3VzZUV2ZW50cyI6IHRydWUsCiAgImNvbG9yIjogImdyZWVuIiwKICAiZGFzaEFycmF5IjogbnVsbCwKICAiZGFzaE9mZnNldCI6IG51bGwsCiAgImZpbGwiOiBmYWxzZSwKICAiZmlsbENvbG9yIjogImdyZWVuIiwKICAiZmlsbE9wYWNpdHkiOiAwLjIsCiAgImZpbGxSdWxlIjogImV2ZW5vZGQiLAogICJsaW5lQ2FwIjogInJvdW5kIiwKICAibGluZUpvaW4iOiAicm91bmQiLAogICJvcGFjaXR5IjogMS4wLAogICJyYWRpdXMiOiAyLAogICJzdHJva2UiOiB0cnVlLAogICJ3ZWlnaHQiOiAzCn0KICAgICAgICAgICAgICAgICkKICAgICAgICAgICAgICAgIC5hZGRUbyhtYXBfYjAzZWY3YmJhZWEyNDdlMDgwNzJkMjI5NzQyZWJlYmMpOwogICAgICAgICAgICAKICAgIAogICAgICAgICAgICB2YXIgcG9wdXBfZmQ2NTE4ZWIwNjlkNDBmZGIwMzJiMGMwMGMyY2NiMmYgPSBMLnBvcHVwKHttYXhXaWR0aDogJzEwMCUnCiAgICAgICAgICAgIAogICAgICAgICAgICB9KTsKCiAgICAgICAgICAgIAogICAgICAgICAgICAgICAgdmFyIGh0bWxfOTUwY2IwODNiZjQ3NGUzZTk0NzQyMWM1ZDZiMzg5OGYgPSAkKGA8ZGl2IGlkPSJodG1sXzk1MGNiMDgzYmY0NzRlM2U5NDc0MjFjNWQ2YjM4OThmIiBzdHlsZT0id2lkdGg6IDEwMC4wJTsgaGVpZ2h0OiAxMDAuMCU7Ij5NNFk8L2Rpdj5gKVswXTsKICAgICAgICAgICAgICAgIHBvcHVwX2ZkNjUxOGViMDY5ZDQwZmRiMDMyYjBjMDBjMmNjYjJmLnNldENvbnRlbnQoaHRtbF85NTBjYjA4M2JmNDc0ZTNlOTQ3NDIxYzVkNmIzODk4Zik7CiAgICAgICAgICAgIAoKICAgICAgICAgICAgY2lyY2xlX21hcmtlcl8yODRlZTUyNThjZjI0YmRiYjMxMWIxMzYxMzkxY2I3Ni5iaW5kUG9wdXAocG9wdXBfZmQ2NTE4ZWIwNjlkNDBmZGIwMzJiMGMwMGMyY2NiMmYpCiAgICAgICAgICAgIDsKCiAgICAgICAgICAgIAogICAgICAgIAogICAgCiAgICAgICAgICAgIHZhciBjaXJjbGVfbWFya2VyX2JiYzM5MzI1Y2EwNzQ2OTlhYmExMTQ3Nzc3MDM0MjY3ID0gTC5jaXJjbGVNYXJrZXIoCiAgICAgICAgICAgICAgICBbNDMuNjYyNzQzOSwgLTc5LjMyMTU1OF0sCiAgICAgICAgICAgICAgICB7CiAgImJ1YmJsaW5nTW91c2VFdmVudHMiOiB0cnVlLAogICJjb2xvciI6ICJncmVlbiIsCiAgImRhc2hBcnJheSI6IG51bGwsCiAgImRhc2hPZmZzZXQiOiBudWxsLAogICJmaWxsIjogZmFsc2UsCiAgImZpbGxDb2xvciI6ICJncmVlbiIsCiAgImZpbGxPcGFjaXR5IjogMC4yLAogICJmaWxsUnVsZSI6ICJldmVub2RkIiwKICAibGluZUNhcCI6ICJyb3VuZCIsCiAgImxpbmVKb2luIjogInJvdW5kIiwKICAib3BhY2l0eSI6IDEuMCwKICAicmFkaXVzIjogMiwKICAic3Ryb2tlIjogdHJ1ZSwKICAid2VpZ2h0IjogMwp9CiAgICAgICAgICAgICAgICApCiAgICAgICAgICAgICAgICAuYWRkVG8obWFwX2IwM2VmN2JiYWVhMjQ3ZTA4MDcyZDIyOTc0MmViZWJjKTsKICAgICAgICAgICAgCiAgICAKICAgICAgICAgICAgdmFyIHBvcHVwXzA5YWIzNDcyYTFmMTQ0MzZiNzU5M2MzNDg0MTM3ZGEwID0gTC5wb3B1cCh7bWF4V2lkdGg6ICcxMDAlJwogICAgICAgICAgICAKICAgICAgICAgICAgfSk7CgogICAgICAgICAgICAKICAgICAgICAgICAgICAgIHZhciBodG1sX2MxM2E3Mjk3OTk4NzQ2ZmY5MzRhOGYwM2UwNmNkNzgyID0gJChgPGRpdiBpZD0iaHRtbF9jMTNhNzI5Nzk5ODc0NmZmOTM0YThmMDNlMDZjZDc4MiIgc3R5bGU9IndpZHRoOiAxMDAuMCU7IGhlaWdodDogMTAwLjAlOyI+TTdZPC9kaXY+YClbMF07CiAgICAgICAgICAgICAgICBwb3B1cF8wOWFiMzQ3MmExZjE0NDM2Yjc1OTNjMzQ4NDEzN2RhMC5zZXRDb250ZW50KGh0bWxfYzEzYTcyOTc5OTg3NDZmZjkzNGE4ZjAzZTA2Y2Q3ODIpOwogICAgICAgICAgICAKCiAgICAgICAgICAgIGNpcmNsZV9tYXJrZXJfYmJjMzkzMjVjYTA3NDY5OWFiYTExNDc3NzcwMzQyNjcuYmluZFBvcHVwKHBvcHVwXzA5YWIzNDcyYTFmMTQ0MzZiNzU5M2MzNDg0MTM3ZGEwKQogICAgICAgICAgICA7CgogICAgICAgICAgICAKICAgICAgICAKICAgIAogICAgICAgICAgICB2YXIgY2lyY2xlX21hcmtlcl85MmVkODgwOTI0MTE0N2Y2Yjc4ZGQzYjBiOGJhYzRhMCA9IEwuY2lyY2xlTWFya2VyKAogICAgICAgICAgICAgICAgWzQzLjY1NDI1OTksIC03OS4zNjA2MzU5XSwKICAgICAgICAgICAgICAgIHsKICAiYnViYmxpbmdNb3VzZUV2ZW50cyI6IHRydWUsCiAgImNvbG9yIjogImdyZWVuIiwKICAiZGFzaEFycmF5IjogbnVsbCwKICAiZGFzaE9mZnNldCI6IG51bGwsCiAgImZpbGwiOiBmYWxzZSwKICAiZmlsbENvbG9yIjogImdyZWVuIiwKICAiZmlsbE9wYWNpdHkiOiAwLjIsCiAgImZpbGxSdWxlIjogImV2ZW5vZGQiLAogICJsaW5lQ2FwIjogInJvdW5kIiwKICAibGluZUpvaW4iOiAicm91bmQiLAogICJvcGFjaXR5IjogMS4wLAogICJyYWRpdXMiOiAyLAogICJzdHJva2UiOiB0cnVlLAogICJ3ZWlnaHQiOiAzCn0KICAgICAgICAgICAgICAgICkKICAgICAgICAgICAgICAgIC5hZGRUbyhtYXBfYjAzZWY3YmJhZWEyNDdlMDgwNzJkMjI5NzQyZWJlYmMpOwogICAgICAgICAgICAKICAgIAogICAgICAgICAgICB2YXIgcG9wdXBfOTRkMDk0NjQxNzQ2NGYxNTllOTkyMTM2ZTRhNzNlNjMgPSBMLnBvcHVwKHttYXhXaWR0aDogJzEwMCUnCiAgICAgICAgICAgIAogICAgICAgICAgICB9KTsKCiAgICAgICAgICAgIAogICAgICAgICAgICAgICAgdmFyIGh0bWxfZjllMTZkMDMxYTA0NGI3MmJlMjYwYzFlOGNmMzVlM2YgPSAkKGA8ZGl2IGlkPSJodG1sX2Y5ZTE2ZDAzMWEwNDRiNzJiZTI2MGMxZThjZjM1ZTNmIiBzdHlsZT0id2lkdGg6IDEwMC4wJTsgaGVpZ2h0OiAxMDAuMCU7Ij5NNUE8L2Rpdj5gKVswXTsKICAgICAgICAgICAgICAgIHBvcHVwXzk0ZDA5NDY0MTc0NjRmMTU5ZTk5MjEzNmU0YTczZTYzLnNldENvbnRlbnQoaHRtbF9mOWUxNmQwMzFhMDQ0YjcyYmUyNjBjMWU4Y2YzNWUzZik7CiAgICAgICAgICAgIAoKICAgICAgICAgICAgY2lyY2xlX21hcmtlcl85MmVkODgwOTI0MTE0N2Y2Yjc4ZGQzYjBiOGJhYzRhMC5iaW5kUG9wdXAocG9wdXBfOTRkMDk0NjQxNzQ2NGYxNTllOTkyMTM2ZTRhNzNlNjMpCiAgICAgICAgICAgIDsKCiAgICAgICAgICAgIAogICAgICAgIAogICAgCiAgICAgICAgICAgIHZhciBjaXJjbGVfbWFya2VyXzRhZjA2YzJmODljMDQ1YjE5OGE4ODI3N2Y5NDY0ZDYyID0gTC5jaXJjbGVNYXJrZXIoCiAgICAgICAgICAgICAgICBbNDMuNjYyMzAxNSwgLTc5LjM4OTQ5MzhdLAogICAgICAgICAgICAgICAgewogICJidWJibGluZ01vdXNlRXZlbnRzIjogdHJ1ZSwKICAiY29sb3IiOiAiZ3JlZW4iLAogICJkYXNoQXJyYXkiOiBudWxsLAogICJkYXNoT2Zmc2V0IjogbnVsbCwKICAiZmlsbCI6IGZhbHNlLAogICJmaWxsQ29sb3IiOiAiZ3JlZW4iLAogICJmaWxsT3BhY2l0eSI6IDAuMiwKICAiZmlsbFJ1bGUiOiAiZXZlbm9kZCIsCiAgImxpbmVDYXAiOiAicm91bmQiLAogICJsaW5lSm9pbiI6ICJyb3VuZCIsCiAgIm9wYWNpdHkiOiAxLjAsCiAgInJhZGl1cyI6IDIsCiAgInN0cm9rZSI6IHRydWUsCiAgIndlaWdodCI6IDMKfQogICAgICAgICAgICAgICAgKQogICAgICAgICAgICAgICAgLmFkZFRvKG1hcF9iMDNlZjdiYmFlYTI0N2UwODA3MmQyMjk3NDJlYmViYyk7CiAgICAgICAgICAgIAogICAgCiAgICAgICAgICAgIHZhciBwb3B1cF85OWYwNWMzNzA0ZWI0OWE3OGRhNjYzYmJjNzljZjljYiA9IEwucG9wdXAoe21heFdpZHRoOiAnMTAwJScKICAgICAgICAgICAgCiAgICAgICAgICAgIH0pOwoKICAgICAgICAgICAgCiAgICAgICAgICAgICAgICB2YXIgaHRtbF9kY2YwODVjNDc5ZWM0YTQyOTQwYWUwNjBhYTgwNjZmNyA9ICQoYDxkaXYgaWQ9Imh0bWxfZGNmMDg1YzQ3OWVjNGE0Mjk0MGFlMDYwYWE4MDY2ZjciIHN0eWxlPSJ3aWR0aDogMTAwLjAlOyBoZWlnaHQ6IDEwMC4wJTsiPk03QTwvZGl2PmApWzBdOwogICAgICAgICAgICAgICAgcG9wdXBfOTlmMDVjMzcwNGViNDlhNzhkYTY2M2JiYzc5Y2Y5Y2Iuc2V0Q29udGVudChodG1sX2RjZjA4NWM0NzllYzRhNDI5NDBhZTA2MGFhODA2NmY3KTsKICAgICAgICAgICAgCgogICAgICAgICAgICBjaXJjbGVfbWFya2VyXzRhZjA2YzJmODljMDQ1YjE5OGE4ODI3N2Y5NDY0ZDYyLmJpbmRQb3B1cChwb3B1cF85OWYwNWMzNzA0ZWI0OWE3OGRhNjYzYmJjNzljZjljYikKICAgICAgICAgICAgOwoKICAgICAgICAgICAgCiAgICAgICAgCiAgICAKICAgICAgICAgICAgdmFyIGNpcmNsZV9tYXJrZXJfMmY3MzRlNDE0YmQyNDU0YmI4YWM2NzA0YTg5ZjJjMWYgPSBMLmNpcmNsZU1hcmtlcigKICAgICAgICAgICAgICAgIFs0My42NTcxNjE4LCAtNzkuMzc4OTM3MDk5OTk5OTldLAogICAgICAgICAgICAgICAgewogICJidWJibGluZ01vdXNlRXZlbnRzIjogdHJ1ZSwKICAiY29sb3IiOiAiZ3JlZW4iLAogICJkYXNoQXJyYXkiOiBudWxsLAogICJkYXNoT2Zmc2V0IjogbnVsbCwKICAiZmlsbCI6IGZhbHNlLAogICJmaWxsQ29sb3IiOiAiZ3JlZW4iLAogICJmaWxsT3BhY2l0eSI6IDAuMiwKICAiZmlsbFJ1bGUiOiAiZXZlbm9kZCIsCiAgImxpbmVDYXAiOiAicm91bmQiLAogICJsaW5lSm9pbiI6ICJyb3VuZCIsCiAgIm9wYWNpdHkiOiAxLjAsCiAgInJhZGl1cyI6IDIsCiAgInN0cm9rZSI6IHRydWUsCiAgIndlaWdodCI6IDMKfQogICAgICAgICAgICAgICAgKQogICAgICAgICAgICAgICAgLmFkZFRvKG1hcF9iMDNlZjdiYmFlYTI0N2UwODA3MmQyMjk3NDJlYmViYyk7CiAgICAgICAgICAgIAogICAgCiAgICAgICAgICAgIHZhciBwb3B1cF84YTRlN2VmZTYxMDU0YjU4YjdmYTlmN2RhMmRjMWZjZSA9IEwucG9wdXAoe21heFdpZHRoOiAnMTAwJScKICAgICAgICAgICAgCiAgICAgICAgICAgIH0pOwoKICAgICAgICAgICAgCiAgICAgICAgICAgICAgICB2YXIgaHRtbF8xNzFkNDY5MmRjZTk0ZmViOTBkM2Q5MTFjZTg4MTE4YyA9ICQoYDxkaXYgaWQ9Imh0bWxfMTcxZDQ2OTJkY2U5NGZlYjkwZDNkOTExY2U4ODExOGMiIHN0eWxlPSJ3aWR0aDogMTAwLjAlOyBoZWlnaHQ6IDEwMC4wJTsiPk01QjwvZGl2PmApWzBdOwogICAgICAgICAgICAgICAgcG9wdXBfOGE0ZTdlZmU2MTA1NGI1OGI3ZmE5ZjdkYTJkYzFmY2Uuc2V0Q29udGVudChodG1sXzE3MWQ0NjkyZGNlOTRmZWI5MGQzZDkxMWNlODgxMThjKTsKICAgICAgICAgICAgCgogICAgICAgICAgICBjaXJjbGVfbWFya2VyXzJmNzM0ZTQxNGJkMjQ1NGJiOGFjNjcwNGE4OWYyYzFmLmJpbmRQb3B1cChwb3B1cF84YTRlN2VmZTYxMDU0YjU4YjdmYTlmN2RhMmRjMWZjZSkKICAgICAgICAgICAgOwoKICAgICAgICAgICAgCiAgICAgICAgCiAgICAKICAgICAgICAgICAgdmFyIGNpcmNsZV9tYXJrZXJfODFlYWE3MmJmMzc0NDFiODhmMDExZWJjMDZlNGQ3MzYgPSBMLmNpcmNsZU1hcmtlcigKICAgICAgICAgICAgICAgIFs0My42NTE0OTM5LCAtNzkuMzc1NDE3OV0sCiAgICAgICAgICAgICAgICB7CiAgImJ1YmJsaW5nTW91c2VFdmVudHMiOiB0cnVlLAogICJjb2xvciI6ICJncmVlbiIsCiAgImRhc2hBcnJheSI6IG51bGwsCiAgImRhc2hPZmZzZXQiOiBudWxsLAogICJmaWxsIjogZmFsc2UsCiAgImZpbGxDb2xvciI6ICJncmVlbiIsCiAgImZpbGxPcGFjaXR5IjogMC4yLAogICJmaWxsUnVsZSI6ICJldmVub2RkIiwKICAibGluZUNhcCI6ICJyb3VuZCIsCiAgImxpbmVKb2luIjogInJvdW5kIiwKICAib3BhY2l0eSI6IDEuMCwKICAicmFkaXVzIjogMiwKICAic3Ryb2tlIjogdHJ1ZSwKICAid2VpZ2h0IjogMwp9CiAgICAgICAgICAgICAgICApCiAgICAgICAgICAgICAgICAuYWRkVG8obWFwX2IwM2VmN2JiYWVhMjQ3ZTA4MDcyZDIyOTc0MmViZWJjKTsKICAgICAgICAgICAgCiAgICAKICAgICAgICAgICAgdmFyIHBvcHVwXzU1NDAwZmQzY2Q2NTQwNmRiZjczNTE4NTJmYTlhOTVkID0gTC5wb3B1cCh7bWF4V2lkdGg6ICcxMDAlJwogICAgICAgICAgICAKICAgICAgICAgICAgfSk7CgogICAgICAgICAgICAKICAgICAgICAgICAgICAgIHZhciBodG1sXzdjZDc1YzAyZGNkNDRkOWZiNGE4ZDg5ZWFjZTEwODE0ID0gJChgPGRpdiBpZD0iaHRtbF83Y2Q3NWMwMmRjZDQ0ZDlmYjRhOGQ4OWVhY2UxMDgxNCIgc3R5bGU9IndpZHRoOiAxMDAuMCU7IGhlaWdodDogMTAwLjAlOyI+TTVDPC9kaXY+YClbMF07CiAgICAgICAgICAgICAgICBwb3B1cF81NTQwMGZkM2NkNjU0MDZkYmY3MzUxODUyZmE5YTk1ZC5zZXRDb250ZW50KGh0bWxfN2NkNzVjMDJkY2Q0NGQ5ZmI0YThkODllYWNlMTA4MTQpOwogICAgICAgICAgICAKCiAgICAgICAgICAgIGNpcmNsZV9tYXJrZXJfODFlYWE3MmJmMzc0NDFiODhmMDExZWJjMDZlNGQ3MzYuYmluZFBvcHVwKHBvcHVwXzU1NDAwZmQzY2Q2NTQwNmRiZjczNTE4NTJmYTlhOTVkKQogICAgICAgICAgICA7CgogICAgICAgICAgICAKICAgICAgICAKICAgIAogICAgICAgICAgICB2YXIgY2lyY2xlX21hcmtlcl83MWE5M2MwM2Y4YWM0YmM0OWExZGVjODdhN2FkYmE4YiA9IEwuY2lyY2xlTWFya2VyKAogICAgICAgICAgICAgICAgWzQzLjY3NjM1NzM5OTk5OTk5LCAtNzkuMjkzMDMxMl0sCiAgICAgICAgICAgICAgICB7CiAgImJ1YmJsaW5nTW91c2VFdmVudHMiOiB0cnVlLAogICJjb2xvciI6ICJncmVlbiIsCiAgImRhc2hBcnJheSI6IG51bGwsCiAgImRhc2hPZmZzZXQiOiBudWxsLAogICJmaWxsIjogZmFsc2UsCiAgImZpbGxDb2xvciI6ICJncmVlbiIsCiAgImZpbGxPcGFjaXR5IjogMC4yLAogICJmaWxsUnVsZSI6ICJldmVub2RkIiwKICAibGluZUNhcCI6ICJyb3VuZCIsCiAgImxpbmVKb2luIjogInJvdW5kIiwKICAib3BhY2l0eSI6IDEuMCwKICAicmFkaXVzIjogMiwKICAic3Ryb2tlIjogdHJ1ZSwKICAid2VpZ2h0IjogMwp9CiAgICAgICAgICAgICAgICApCiAgICAgICAgICAgICAgICAuYWRkVG8obWFwX2IwM2VmN2JiYWVhMjQ3ZTA4MDcyZDIyOTc0MmViZWJjKTsKICAgICAgICAgICAgCiAgICAKICAgICAgICAgICAgdmFyIHBvcHVwX2E5ZDlhNjFiNmExMTQzNjhiM2MwZmJjNGFkNzBjNDUzID0gTC5wb3B1cCh7bWF4V2lkdGg6ICcxMDAlJwogICAgICAgICAgICAKICAgICAgICAgICAgfSk7CgogICAgICAgICAgICAKICAgICAgICAgICAgICAgIHZhciBodG1sXzQ1YTA2ODY2MDZjNDQ3ZTBiZmZkN2YwYWUwMGQ0NGYyID0gJChgPGRpdiBpZD0iaHRtbF80NWEwNjg2NjA2YzQ0N2UwYmZmZDdmMGFlMDBkNDRmMiIgc3R5bGU9IndpZHRoOiAxMDAuMCU7IGhlaWdodDogMTAwLjAlOyI+TTRFPC9kaXY+YClbMF07CiAgICAgICAgICAgICAgICBwb3B1cF9hOWQ5YTYxYjZhMTE0MzY4YjNjMGZiYzRhZDcwYzQ1My5zZXRDb250ZW50KGh0bWxfNDVhMDY4NjYwNmM0NDdlMGJmZmQ3ZjBhZTAwZDQ0ZjIpOwogICAgICAgICAgICAKCiAgICAgICAgICAgIGNpcmNsZV9tYXJrZXJfNzFhOTNjMDNmOGFjNGJjNDlhMWRlYzg3YTdhZGJhOGIuYmluZFBvcHVwKHBvcHVwX2E5ZDlhNjFiNmExMTQzNjhiM2MwZmJjNGFkNzBjNDUzKQogICAgICAgICAgICA7CgogICAgICAgICAgICAKICAgICAgICAKICAgIAogICAgICAgICAgICB2YXIgY2lyY2xlX21hcmtlcl9kNjUzNTU1OGM5ODc0NTgzOGZlNTIyNGVhZmFjZTQ0MiA9IEwuY2lyY2xlTWFya2VyKAogICAgICAgICAgICAgICAgWzQzLjY0NDc3MDc5OTk5OTk5NiwgLTc5LjM3MzMwNjRdLAogICAgICAgICAgICAgICAgewogICJidWJibGluZ01vdXNlRXZlbnRzIjogdHJ1ZSwKICAiY29sb3IiOiAiZ3JlZW4iLAogICJkYXNoQXJyYXkiOiBudWxsLAogICJkYXNoT2Zmc2V0IjogbnVsbCwKICAiZmlsbCI6IGZhbHNlLAogICJmaWxsQ29sb3IiOiAiZ3JlZW4iLAogICJmaWxsT3BhY2l0eSI6IDAuMiwKICAiZmlsbFJ1bGUiOiAiZXZlbm9kZCIsCiAgImxpbmVDYXAiOiAicm91bmQiLAogICJsaW5lSm9pbiI6ICJyb3VuZCIsCiAgIm9wYWNpdHkiOiAxLjAsCiAgInJhZGl1cyI6IDIsCiAgInN0cm9rZSI6IHRydWUsCiAgIndlaWdodCI6IDMKfQogICAgICAgICAgICAgICAgKQogICAgICAgICAgICAgICAgLmFkZFRvKG1hcF9iMDNlZjdiYmFlYTI0N2UwODA3MmQyMjk3NDJlYmViYyk7CiAgICAgICAgICAgIAogICAgCiAgICAgICAgICAgIHZhciBwb3B1cF8wNjNkZTY4NWJiNWQ0MGU0ODAyYjJiMjk1YzYwOGFmOSA9IEwucG9wdXAoe21heFdpZHRoOiAnMTAwJScKICAgICAgICAgICAgCiAgICAgICAgICAgIH0pOwoKICAgICAgICAgICAgCiAgICAgICAgICAgICAgICB2YXIgaHRtbF9hMGU5OGU4MDI4ZTM0MmE5OTQxNzY5YzYwMDNmY2YxMiA9ICQoYDxkaXYgaWQ9Imh0bWxfYTBlOThlODAyOGUzNDJhOTk0MTc2OWM2MDAzZmNmMTIiIHN0eWxlPSJ3aWR0aDogMTAwLjAlOyBoZWlnaHQ6IDEwMC4wJTsiPk01RTwvZGl2PmApWzBdOwogICAgICAgICAgICAgICAgcG9wdXBfMDYzZGU2ODViYjVkNDBlNDgwMmIyYjI5NWM2MDhhZjkuc2V0Q29udGVudChodG1sX2EwZTk4ZTgwMjhlMzQyYTk5NDE3NjljNjAwM2ZjZjEyKTsKICAgICAgICAgICAgCgogICAgICAgICAgICBjaXJjbGVfbWFya2VyX2Q2NTM1NTU4Yzk4NzQ1ODM4ZmU1MjI0ZWFmYWNlNDQyLmJpbmRQb3B1cChwb3B1cF8wNjNkZTY4NWJiNWQ0MGU0ODAyYjJiMjk1YzYwOGFmOSkKICAgICAgICAgICAgOwoKICAgICAgICAgICAgCiAgICAgICAgCiAgICAKICAgICAgICAgICAgdmFyIGNpcmNsZV9tYXJrZXJfYWIyYzQxMmMyOTFiNDRiYTkzMGI4ZGExMmFjODBkNGYgPSBMLmNpcmNsZU1hcmtlcigKICAgICAgICAgICAgICAgIFs0My42NTc5NTI0LCAtNzkuMzg3MzgyNl0sCiAgICAgICAgICAgICAgICB7CiAgImJ1YmJsaW5nTW91c2VFdmVudHMiOiB0cnVlLAogICJjb2xvciI6ICJncmVlbiIsCiAgImRhc2hBcnJheSI6IG51bGwsCiAgImRhc2hPZmZzZXQiOiBudWxsLAogICJmaWxsIjogZmFsc2UsCiAgImZpbGxDb2xvciI6ICJncmVlbiIsCiAgImZpbGxPcGFjaXR5IjogMC4yLAogICJmaWxsUnVsZSI6ICJldmVub2RkIiwKICAibGluZUNhcCI6ICJyb3VuZCIsCiAgImxpbmVKb2luIjogInJvdW5kIiwKICAib3BhY2l0eSI6IDEuMCwKICAicmFkaXVzIjogMiwKICAic3Ryb2tlIjogdHJ1ZSwKICAid2VpZ2h0IjogMwp9CiAgICAgICAgICAgICAgICApCiAgICAgICAgICAgICAgICAuYWRkVG8obWFwX2IwM2VmN2JiYWVhMjQ3ZTA4MDcyZDIyOTc0MmViZWJjKTsKICAgICAgICAgICAgCiAgICAKICAgICAgICAgICAgdmFyIHBvcHVwX2ZjYmEzNTczODc1MzQxN2NiYWQ5MTgwMTcyMDIzY2Q5ID0gTC5wb3B1cCh7bWF4V2lkdGg6ICcxMDAlJwogICAgICAgICAgICAKICAgICAgICAgICAgfSk7CgogICAgICAgICAgICAKICAgICAgICAgICAgICAgIHZhciBodG1sXzYxYzIzNWQ0ZGNlZDRmNGZhYWMyY2UwMDkxMWNjOTFjID0gJChgPGRpdiBpZD0iaHRtbF82MWMyMzVkNGRjZWQ0ZjRmYWFjMmNlMDA5MTFjYzkxYyIgc3R5bGU9IndpZHRoOiAxMDAuMCU7IGhlaWdodDogMTAwLjAlOyI+TTVHPC9kaXY+YClbMF07CiAgICAgICAgICAgICAgICBwb3B1cF9mY2JhMzU3Mzg3NTM0MTdjYmFkOTE4MDE3MjAyM2NkOS5zZXRDb250ZW50KGh0bWxfNjFjMjM1ZDRkY2VkNGY0ZmFhYzJjZTAwOTExY2M5MWMpOwogICAgICAgICAgICAKCiAgICAgICAgICAgIGNpcmNsZV9tYXJrZXJfYWIyYzQxMmMyOTFiNDRiYTkzMGI4ZGExMmFjODBkNGYuYmluZFBvcHVwKHBvcHVwX2ZjYmEzNTczODc1MzQxN2NiYWQ5MTgwMTcyMDIzY2Q5KQogICAgICAgICAgICA7CgogICAgICAgICAgICAKICAgICAgICAKICAgIAogICAgICAgICAgICB2YXIgY2lyY2xlX21hcmtlcl80NDljMTAzMGNkMmU0MDViYjU3MjJjMGQ5NGQ4YTlhMyA9IEwuY2lyY2xlTWFya2VyKAogICAgICAgICAgICAgICAgWzQzLjY2OTU0MiwgLTc5LjQyMjU2MzddLAogICAgICAgICAgICAgICAgewogICJidWJibGluZ01vdXNlRXZlbnRzIjogdHJ1ZSwKICAiY29sb3IiOiAiZ3JlZW4iLAogICJkYXNoQXJyYXkiOiBudWxsLAogICJkYXNoT2Zmc2V0IjogbnVsbCwKICAiZmlsbCI6IGZhbHNlLAogICJmaWxsQ29sb3IiOiAiZ3JlZW4iLAogICJmaWxsT3BhY2l0eSI6IDAuMiwKICAiZmlsbFJ1bGUiOiAiZXZlbm9kZCIsCiAgImxpbmVDYXAiOiAicm91bmQiLAogICJsaW5lSm9pbiI6ICJyb3VuZCIsCiAgIm9wYWNpdHkiOiAxLjAsCiAgInJhZGl1cyI6IDIsCiAgInN0cm9rZSI6IHRydWUsCiAgIndlaWdodCI6IDMKfQogICAgICAgICAgICAgICAgKQogICAgICAgICAgICAgICAgLmFkZFRvKG1hcF9iMDNlZjdiYmFlYTI0N2UwODA3MmQyMjk3NDJlYmViYyk7CiAgICAgICAgICAgIAogICAgCiAgICAgICAgICAgIHZhciBwb3B1cF9mYzZlZWI1MjIxNDY0ZDU5YTMyMzhjMTcxMGU1ZDU1MSA9IEwucG9wdXAoe21heFdpZHRoOiAnMTAwJScKICAgICAgICAgICAgCiAgICAgICAgICAgIH0pOwoKICAgICAgICAgICAgCiAgICAgICAgICAgICAgICB2YXIgaHRtbF80NTMxZjM4MjczYzY0NzNiYTQyMjRhNjU1MTRjMDc5MyA9ICQoYDxkaXYgaWQ9Imh0bWxfNDUzMWYzODI3M2M2NDczYmE0MjI0YTY1NTE0YzA3OTMiIHN0eWxlPSJ3aWR0aDogMTAwLjAlOyBoZWlnaHQ6IDEwMC4wJTsiPk02RzwvZGl2PmApWzBdOwogICAgICAgICAgICAgICAgcG9wdXBfZmM2ZWViNTIyMTQ2NGQ1OWEzMjM4YzE3MTBlNWQ1NTEuc2V0Q29udGVudChodG1sXzQ1MzFmMzgyNzNjNjQ3M2JhNDIyNGE2NTUxNGMwNzkzKTsKICAgICAgICAgICAgCgogICAgICAgICAgICBjaXJjbGVfbWFya2VyXzQ0OWMxMDMwY2QyZTQwNWJiNTcyMmMwZDk0ZDhhOWEzLmJpbmRQb3B1cChwb3B1cF9mYzZlZWI1MjIxNDY0ZDU5YTMyMzhjMTcxMGU1ZDU1MSkKICAgICAgICAgICAgOwoKICAgICAgICAgICAgCiAgICAgICAgCiAgICAKICAgICAgICAgICAgdmFyIGNpcmNsZV9tYXJrZXJfNDY4NWFkYmM2YWNiNGI1NDg5ZDg4ODU2NjhmZjVlZWMgPSBMLmNpcmNsZU1hcmtlcigKICAgICAgICAgICAgICAgIFs0My42NTA1NzEyMDAwMDAwMSwgLTc5LjM4NDU2NzVdLAogICAgICAgICAgICAgICAgewogICJidWJibGluZ01vdXNlRXZlbnRzIjogdHJ1ZSwKICAiY29sb3IiOiAiZ3JlZW4iLAogICJkYXNoQXJyYXkiOiBudWxsLAogICJkYXNoT2Zmc2V0IjogbnVsbCwKICAiZmlsbCI6IGZhbHNlLAogICJmaWxsQ29sb3IiOiAiZ3JlZW4iLAogICJmaWxsT3BhY2l0eSI6IDAuMiwKICAiZmlsbFJ1bGUiOiAiZXZlbm9kZCIsCiAgImxpbmVDYXAiOiAicm91bmQiLAogICJsaW5lSm9pbiI6ICJyb3VuZCIsCiAgIm9wYWNpdHkiOiAxLjAsCiAgInJhZGl1cyI6IDIsCiAgInN0cm9rZSI6IHRydWUsCiAgIndlaWdodCI6IDMKfQogICAgICAgICAgICAgICAgKQogICAgICAgICAgICAgICAgLmFkZFRvKG1hcF9iMDNlZjdiYmFlYTI0N2UwODA3MmQyMjk3NDJlYmViYyk7CiAgICAgICAgICAgIAogICAgCiAgICAgICAgICAgIHZhciBwb3B1cF80YjIyYmFkODI1NzM0ZDk0YTM2ZjkwNjU1Njk1ZGU4OCA9IEwucG9wdXAoe21heFdpZHRoOiAnMTAwJScKICAgICAgICAgICAgCiAgICAgICAgICAgIH0pOwoKICAgICAgICAgICAgCiAgICAgICAgICAgICAgICB2YXIgaHRtbF85MTk0NWQ0MzQxZWE0OGYyODAxZDhjYzUwM2FiY2ZhMSA9ICQoYDxkaXYgaWQ9Imh0bWxfOTE5NDVkNDM0MWVhNDhmMjgwMWQ4Y2M1MDNhYmNmYTEiIHN0eWxlPSJ3aWR0aDogMTAwLjAlOyBoZWlnaHQ6IDEwMC4wJTsiPk01SDwvZGl2PmApWzBdOwogICAgICAgICAgICAgICAgcG9wdXBfNGIyMmJhZDgyNTczNGQ5NGEzNmY5MDY1NTY5NWRlODguc2V0Q29udGVudChodG1sXzkxOTQ1ZDQzNDFlYTQ4ZjI4MDFkOGNjNTAzYWJjZmExKTsKICAgICAgICAgICAgCgogICAgICAgICAgICBjaXJjbGVfbWFya2VyXzQ2ODVhZGJjNmFjYjRiNTQ4OWQ4ODg1NjY4ZmY1ZWVjLmJpbmRQb3B1cChwb3B1cF80YjIyYmFkODI1NzM0ZDk0YTM2ZjkwNjU1Njk1ZGU4OCkKICAgICAgICAgICAgOwoKICAgICAgICAgICAgCiAgICAgICAgCiAgICAKICAgICAgICAgICAgdmFyIGNpcmNsZV9tYXJrZXJfZGUwNjNkMWFmMDQwNDI5NWE1MDU5YjcwNGY3ZjY5ZDggPSBMLmNpcmNsZU1hcmtlcigKICAgICAgICAgICAgICAgIFs0My42NjkwMDUxMDAwMDAwMSwgLTc5LjQ0MjI1OTNdLAogICAgICAgICAgICAgICAgewogICJidWJibGluZ01vdXNlRXZlbnRzIjogdHJ1ZSwKICAiY29sb3IiOiAiZ3JlZW4iLAogICJkYXNoQXJyYXkiOiBudWxsLAogICJkYXNoT2Zmc2V0IjogbnVsbCwKICAiZmlsbCI6IGZhbHNlLAogICJmaWxsQ29sb3IiOiAiZ3JlZW4iLAogICJmaWxsT3BhY2l0eSI6IDAuMiwKICAiZmlsbFJ1bGUiOiAiZXZlbm9kZCIsCiAgImxpbmVDYXAiOiAicm91bmQiLAogICJsaW5lSm9pbiI6ICJyb3VuZCIsCiAgIm9wYWNpdHkiOiAxLjAsCiAgInJhZGl1cyI6IDIsCiAgInN0cm9rZSI6IHRydWUsCiAgIndlaWdodCI6IDMKfQogICAgICAgICAgICAgICAgKQogICAgICAgICAgICAgICAgLmFkZFRvKG1hcF9iMDNlZjdiYmFlYTI0N2UwODA3MmQyMjk3NDJlYmViYyk7CiAgICAgICAgICAgIAogICAgCiAgICAgICAgICAgIHZhciBwb3B1cF8zYzQyN2Y0OTg2YjQ0YzQ2ODViYTE3ZGQ3YTQyNGQ1MyA9IEwucG9wdXAoe21heFdpZHRoOiAnMTAwJScKICAgICAgICAgICAgCiAgICAgICAgICAgIH0pOwoKICAgICAgICAgICAgCiAgICAgICAgICAgICAgICB2YXIgaHRtbF82ZTIyZjA5ZDAwMDA0ZmI0OWRjODcwNjEzZTFiMmI3NSA9ICQoYDxkaXYgaWQ9Imh0bWxfNmUyMmYwOWQwMDAwNGZiNDlkYzg3MDYxM2UxYjJiNzUiIHN0eWxlPSJ3aWR0aDogMTAwLjAlOyBoZWlnaHQ6IDEwMC4wJTsiPk02SDwvZGl2PmApWzBdOwogICAgICAgICAgICAgICAgcG9wdXBfM2M0MjdmNDk4NmI0NGM0Njg1YmExN2RkN2E0MjRkNTMuc2V0Q29udGVudChodG1sXzZlMjJmMDlkMDAwMDRmYjQ5ZGM4NzA2MTNlMWIyYjc1KTsKICAgICAgICAgICAgCgogICAgICAgICAgICBjaXJjbGVfbWFya2VyX2RlMDYzZDFhZjA0MDQyOTVhNTA1OWI3MDRmN2Y2OWQ4LmJpbmRQb3B1cChwb3B1cF8zYzQyN2Y0OTg2YjQ0YzQ2ODViYTE3ZGQ3YTQyNGQ1MykKICAgICAgICAgICAgOwoKICAgICAgICAgICAgCiAgICAgICAgCiAgICAKICAgICAgICAgICAgdmFyIGNpcmNsZV9tYXJrZXJfMjJiMDdiOTQwMWFmNDc5MmJhZjYwZjdlNTVhN2FmYzIgPSBMLmNpcmNsZU1hcmtlcigKICAgICAgICAgICAgICAgIFs0My42NDA4MTU3LCAtNzkuMzgxNzUyMjk5OTk5OTldLAogICAgICAgICAgICAgICAgewogICJidWJibGluZ01vdXNlRXZlbnRzIjogdHJ1ZSwKICAiY29sb3IiOiAiZ3JlZW4iLAogICJkYXNoQXJyYXkiOiBudWxsLAogICJkYXNoT2Zmc2V0IjogbnVsbCwKICAiZmlsbCI6IGZhbHNlLAogICJmaWxsQ29sb3IiOiAiZ3JlZW4iLAogICJmaWxsT3BhY2l0eSI6IDAuMiwKICAiZmlsbFJ1bGUiOiAiZXZlbm9kZCIsCiAgImxpbmVDYXAiOiAicm91bmQiLAogICJsaW5lSm9pbiI6ICJyb3VuZCIsCiAgIm9wYWNpdHkiOiAxLjAsCiAgInJhZGl1cyI6IDIsCiAgInN0cm9rZSI6IHRydWUsCiAgIndlaWdodCI6IDMKfQogICAgICAgICAgICAgICAgKQogICAgICAgICAgICAgICAgLmFkZFRvKG1hcF9iMDNlZjdiYmFlYTI0N2UwODA3MmQyMjk3NDJlYmViYyk7CiAgICAgICAgICAgIAogICAgCiAgICAgICAgICAgIHZhciBwb3B1cF9lN2FjYjE5MmI5YWM0M2Q5OGUzYzczMjE0YWVkZDg1MSA9IEwucG9wdXAoe21heFdpZHRoOiAnMTAwJScKICAgICAgICAgICAgCiAgICAgICAgICAgIH0pOwoKICAgICAgICAgICAgCiAgICAgICAgICAgICAgICB2YXIgaHRtbF85Nzk0OGQzOTJjNWM0NDQ2OTk1MjVjYWNlZjU4ZjI3MCA9ICQoYDxkaXYgaWQ9Imh0bWxfOTc5NDhkMzkyYzVjNDQ0Njk5NTI1Y2FjZWY1OGYyNzAiIHN0eWxlPSJ3aWR0aDogMTAwLjAlOyBoZWlnaHQ6IDEwMC4wJTsiPk01SjwvZGl2PmApWzBdOwogICAgICAgICAgICAgICAgcG9wdXBfZTdhY2IxOTJiOWFjNDNkOThlM2M3MzIxNGFlZGQ4NTEuc2V0Q29udGVudChodG1sXzk3OTQ4ZDM5MmM1YzQ0NDY5OTUyNWNhY2VmNThmMjcwKTsKICAgICAgICAgICAgCgogICAgICAgICAgICBjaXJjbGVfbWFya2VyXzIyYjA3Yjk0MDFhZjQ3OTJiYWY2MGY3ZTU1YTdhZmMyLmJpbmRQb3B1cChwb3B1cF9lN2FjYjE5MmI5YWM0M2Q5OGUzYzczMjE0YWVkZDg1MSkKICAgICAgICAgICAgOwoKICAgICAgICAgICAgCiAgICAgICAgCiAgICAKICAgICAgICAgICAgdmFyIGNpcmNsZV9tYXJrZXJfMzQ2Y2VkMzg5N2U3NGJkNmI2MTAyYTlhYjk2OGQwYjYgPSBMLmNpcmNsZU1hcmtlcigKICAgICAgICAgICAgICAgIFs0My42NDc5MjY3MDAwMDAwMDYsIC03OS40MTk3NDk3XSwKICAgICAgICAgICAgICAgIHsKICAiYnViYmxpbmdNb3VzZUV2ZW50cyI6IHRydWUsCiAgImNvbG9yIjogImdyZWVuIiwKICAiZGFzaEFycmF5IjogbnVsbCwKICAiZGFzaE9mZnNldCI6IG51bGwsCiAgImZpbGwiOiBmYWxzZSwKICAiZmlsbENvbG9yIjogImdyZWVuIiwKICAiZmlsbE9wYWNpdHkiOiAwLjIsCiAgImZpbGxSdWxlIjogImV2ZW5vZGQiLAogICJsaW5lQ2FwIjogInJvdW5kIiwKICAibGluZUpvaW4iOiAicm91bmQiLAogICJvcGFjaXR5IjogMS4wLAogICJyYWRpdXMiOiAyLAogICJzdHJva2UiOiB0cnVlLAogICJ3ZWlnaHQiOiAzCn0KICAgICAgICAgICAgICAgICkKICAgICAgICAgICAgICAgIC5hZGRUbyhtYXBfYjAzZWY3YmJhZWEyNDdlMDgwNzJkMjI5NzQyZWJlYmMpOwogICAgICAgICAgICAKICAgIAogICAgICAgICAgICB2YXIgcG9wdXBfMjhhYjhkZGQ1NjE1NDM0YzhhMWYxOGM1MDVmMDAwZGMgPSBMLnBvcHVwKHttYXhXaWR0aDogJzEwMCUnCiAgICAgICAgICAgIAogICAgICAgICAgICB9KTsKCiAgICAgICAgICAgIAogICAgICAgICAgICAgICAgdmFyIGh0bWxfYTIwNjI0ZTY2N2UzNDQ5Mjg3ODhlYjVkN2IyYjk4YjQgPSAkKGA8ZGl2IGlkPSJodG1sX2EyMDYyNGU2NjdlMzQ0OTI4Nzg4ZWI1ZDdiMmI5OGI0IiBzdHlsZT0id2lkdGg6IDEwMC4wJTsgaGVpZ2h0OiAxMDAuMCU7Ij5NNko8L2Rpdj5gKVswXTsKICAgICAgICAgICAgICAgIHBvcHVwXzI4YWI4ZGRkNTYxNTQzNGM4YTFmMThjNTA1ZjAwMGRjLnNldENvbnRlbnQoaHRtbF9hMjA2MjRlNjY3ZTM0NDkyODc4OGViNWQ3YjJiOThiNCk7CiAgICAgICAgICAgIAoKICAgICAgICAgICAgY2lyY2xlX21hcmtlcl8zNDZjZWQzODk3ZTc0YmQ2YjYxMDJhOWFiOTY4ZDBiNi5iaW5kUG9wdXAocG9wdXBfMjhhYjhkZGQ1NjE1NDM0YzhhMWYxOGM1MDVmMDAwZGMpCiAgICAgICAgICAgIDsKCiAgICAgICAgICAgIAogICAgICAgIAogICAgCiAgICAgICAgICAgIHZhciBjaXJjbGVfbWFya2VyX2ZlNGIyZGEzMjM5MTQ5YmFhMDE5NDFmOTNkZmUxNGU3ID0gTC5jaXJjbGVNYXJrZXIoCiAgICAgICAgICAgICAgICBbNDMuNjc5NTU3MSwgLTc5LjM1MjE4OF0sCiAgICAgICAgICAgICAgICB7CiAgImJ1YmJsaW5nTW91c2VFdmVudHMiOiB0cnVlLAogICJjb2xvciI6ICJncmVlbiIsCiAgImRhc2hBcnJheSI6IG51bGwsCiAgImRhc2hPZmZzZXQiOiBudWxsLAogICJmaWxsIjogZmFsc2UsCiAgImZpbGxDb2xvciI6ICJncmVlbiIsCiAgImZpbGxPcGFjaXR5IjogMC4yLAogICJmaWxsUnVsZSI6ICJldmVub2RkIiwKICAibGluZUNhcCI6ICJyb3VuZCIsCiAgImxpbmVKb2luIjogInJvdW5kIiwKICAib3BhY2l0eSI6IDEuMCwKICAicmFkaXVzIjogMiwKICAic3Ryb2tlIjogdHJ1ZSwKICAid2VpZ2h0IjogMwp9CiAgICAgICAgICAgICAgICApCiAgICAgICAgICAgICAgICAuYWRkVG8obWFwX2IwM2VmN2JiYWVhMjQ3ZTA4MDcyZDIyOTc0MmViZWJjKTsKICAgICAgICAgICAgCiAgICAKICAgICAgICAgICAgdmFyIHBvcHVwX2FlYmE1MjI5MjI1NDQ5ZGU4ZGFmYTA3ZmEzMDM0NzdlID0gTC5wb3B1cCh7bWF4V2lkdGg6ICcxMDAlJwogICAgICAgICAgICAKICAgICAgICAgICAgfSk7CgogICAgICAgICAgICAKICAgICAgICAgICAgICAgIHZhciBodG1sXzFiMTQ3ODM3ZTk3MzQwZDVhMTcxMTBlNWU4YWI0NjZhID0gJChgPGRpdiBpZD0iaHRtbF8xYjE0NzgzN2U5NzM0MGQ1YTE3MTEwZTVlOGFiNDY2YSIgc3R5bGU9IndpZHRoOiAxMDAuMCU7IGhlaWdodDogMTAwLjAlOyI+TTRLPC9kaXY+YClbMF07CiAgICAgICAgICAgICAgICBwb3B1cF9hZWJhNTIyOTIyNTQ0OWRlOGRhZmEwN2ZhMzAzNDc3ZS5zZXRDb250ZW50KGh0bWxfMWIxNDc4MzdlOTczNDBkNWExNzExMGU1ZThhYjQ2NmEpOwogICAgICAgICAgICAKCiAgICAgICAgICAgIGNpcmNsZV9tYXJrZXJfZmU0YjJkYTMyMzkxNDliYWEwMTk0MWY5M2RmZTE0ZTcuYmluZFBvcHVwKHBvcHVwX2FlYmE1MjI5MjI1NDQ5ZGU4ZGFmYTA3ZmEzMDM0NzdlKQogICAgICAgICAgICA7CgogICAgICAgICAgICAKICAgICAgICAKICAgIAogICAgICAgICAgICB2YXIgY2lyY2xlX21hcmtlcl81YTI3M2Q1OWM4MzU0ZjcyYmE2MjI3MTcyNGFlY2ZkZSA9IEwuY2lyY2xlTWFya2VyKAogICAgICAgICAgICAgICAgWzQzLjY0NzE3NjgsIC03OS4zODE1NzY0MDAwMDAwMV0sCiAgICAgICAgICAgICAgICB7CiAgImJ1YmJsaW5nTW91c2VFdmVudHMiOiB0cnVlLAogICJjb2xvciI6ICJncmVlbiIsCiAgImRhc2hBcnJheSI6IG51bGwsCiAgImRhc2hPZmZzZXQiOiBudWxsLAogICJmaWxsIjogZmFsc2UsCiAgImZpbGxDb2xvciI6ICJncmVlbiIsCiAgImZpbGxPcGFjaXR5IjogMC4yLAogICJmaWxsUnVsZSI6ICJldmVub2RkIiwKICAibGluZUNhcCI6ICJyb3VuZCIsCiAgImxpbmVKb2luIjogInJvdW5kIiwKICAib3BhY2l0eSI6IDEuMCwKICAicmFkaXVzIjogMiwKICAic3Ryb2tlIjogdHJ1ZSwKICAid2VpZ2h0IjogMwp9CiAgICAgICAgICAgICAgICApCiAgICAgICAgICAgICAgICAuYWRkVG8obWFwX2IwM2VmN2JiYWVhMjQ3ZTA4MDcyZDIyOTc0MmViZWJjKTsKICAgICAgICAgICAgCiAgICAKICAgICAgICAgICAgdmFyIHBvcHVwX2U0YTEwYTExYzdhNjRmZWE4YjE2NzA4MTQwNTliMmRmID0gTC5wb3B1cCh7bWF4V2lkdGg6ICcxMDAlJwogICAgICAgICAgICAKICAgICAgICAgICAgfSk7CgogICAgICAgICAgICAKICAgICAgICAgICAgICAgIHZhciBodG1sXzY2OTI5NTdhNDMyMDRlNTI4MGE1NDIyYzkxYTUwZjVjID0gJChgPGRpdiBpZD0iaHRtbF82NjkyOTU3YTQzMjA0ZTUyODBhNTQyMmM5MWE1MGY1YyIgc3R5bGU9IndpZHRoOiAxMDAuMCU7IGhlaWdodDogMTAwLjAlOyI+TTVLPC9kaXY+YClbMF07CiAgICAgICAgICAgICAgICBwb3B1cF9lNGExMGExMWM3YTY0ZmVhOGIxNjcwODE0MDU5YjJkZi5zZXRDb250ZW50KGh0bWxfNjY5Mjk1N2E0MzIwNGU1MjgwYTU0MjJjOTFhNTBmNWMpOwogICAgICAgICAgICAKCiAgICAgICAgICAgIGNpcmNsZV9tYXJrZXJfNWEyNzNkNTljODM1NGY3MmJhNjIyNzE3MjRhZWNmZGUuYmluZFBvcHVwKHBvcHVwX2U0YTEwYTExYzdhNjRmZWE4YjE2NzA4MTQwNTliMmRmKQogICAgICAgICAgICA7CgogICAgICAgICAgICAKICAgICAgICAKICAgIAogICAgICAgICAgICB2YXIgY2lyY2xlX21hcmtlcl82NzYzNGYxYzE0YzM0MDRkYmZjOTI0MjY2MWU5ODdiYyA9IEwuY2lyY2xlTWFya2VyKAogICAgICAgICAgICAgICAgWzQzLjYzNjg0NzIsIC03OS40MjgxOTE0MDAwMDAwMl0sCiAgICAgICAgICAgICAgICB7CiAgImJ1YmJsaW5nTW91c2VFdmVudHMiOiB0cnVlLAogICJjb2xvciI6ICJncmVlbiIsCiAgImRhc2hBcnJheSI6IG51bGwsCiAgImRhc2hPZmZzZXQiOiBudWxsLAogICJmaWxsIjogZmFsc2UsCiAgImZpbGxDb2xvciI6ICJncmVlbiIsCiAgImZpbGxPcGFjaXR5IjogMC4yLAogICJmaWxsUnVsZSI6ICJldmVub2RkIiwKICAibGluZUNhcCI6ICJyb3VuZCIsCiAgImxpbmVKb2luIjogInJvdW5kIiwKICAib3BhY2l0eSI6IDEuMCwKICAicmFkaXVzIjogMiwKICAic3Ryb2tlIjogdHJ1ZSwKICAid2VpZ2h0IjogMwp9CiAgICAgICAgICAgICAgICApCiAgICAgICAgICAgICAgICAuYWRkVG8obWFwX2IwM2VmN2JiYWVhMjQ3ZTA4MDcyZDIyOTc0MmViZWJjKTsKICAgICAgICAgICAgCiAgICAKICAgICAgICAgICAgdmFyIHBvcHVwXzU5OTJiYzk0NzdhYzQ0NmVhMTYwNzhmYmFjZDFjMjZiID0gTC5wb3B1cCh7bWF4V2lkdGg6ICcxMDAlJwogICAgICAgICAgICAKICAgICAgICAgICAgfSk7CgogICAgICAgICAgICAKICAgICAgICAgICAgICAgIHZhciBodG1sXzcyOWM2MWViOGViMTRmOTBhNzAyMjM3NTk2MGE5NmYyID0gJChgPGRpdiBpZD0iaHRtbF83MjljNjFlYjhlYjE0ZjkwYTcwMjIzNzU5NjBhOTZmMiIgc3R5bGU9IndpZHRoOiAxMDAuMCU7IGhlaWdodDogMTAwLjAlOyI+TTZLPC9kaXY+YClbMF07CiAgICAgICAgICAgICAgICBwb3B1cF81OTkyYmM5NDc3YWM0NDZlYTE2MDc4ZmJhY2QxYzI2Yi5zZXRDb250ZW50KGh0bWxfNzI5YzYxZWI4ZWIxNGY5MGE3MDIyMzc1OTYwYTk2ZjIpOwogICAgICAgICAgICAKCiAgICAgICAgICAgIGNpcmNsZV9tYXJrZXJfNjc2MzRmMWMxNGMzNDA0ZGJmYzkyNDI2NjFlOTg3YmMuYmluZFBvcHVwKHBvcHVwXzU5OTJiYzk0NzdhYzQ0NmVhMTYwNzhmYmFjZDFjMjZiKQogICAgICAgICAgICA7CgogICAgICAgICAgICAKICAgICAgICAKICAgIAogICAgICAgICAgICB2YXIgY2lyY2xlX21hcmtlcl8wMzZkOGZiZWJmM2U0NWZmYmFkZWM5YTlmYjMzMGJjNiA9IEwuY2lyY2xlTWFya2VyKAogICAgICAgICAgICAgICAgWzQzLjY2ODk5ODUsIC03OS4zMTU1NzE1OTk5OTk5OF0sCiAgICAgICAgICAgICAgICB7CiAgImJ1YmJsaW5nTW91c2VFdmVudHMiOiB0cnVlLAogICJjb2xvciI6ICJncmVlbiIsCiAgImRhc2hBcnJheSI6IG51bGwsCiAgImRhc2hPZmZzZXQiOiBudWxsLAogICJmaWxsIjogZmFsc2UsCiAgImZpbGxDb2xvciI6ICJncmVlbiIsCiAgImZpbGxPcGFjaXR5IjogMC4yLAogICJmaWxsUnVsZSI6ICJldmVub2RkIiwKICAibGluZUNhcCI6ICJyb3VuZCIsCiAgImxpbmVKb2luIjogInJvdW5kIiwKICAib3BhY2l0eSI6IDEuMCwKICAicmFkaXVzIjogMiwKICAic3Ryb2tlIjogdHJ1ZSwKICAid2VpZ2h0IjogMwp9CiAgICAgICAgICAgICAgICApCiAgICAgICAgICAgICAgICAuYWRkVG8obWFwX2IwM2VmN2JiYWVhMjQ3ZTA4MDcyZDIyOTc0MmViZWJjKTsKICAgICAgICAgICAgCiAgICAKICAgICAgICAgICAgdmFyIHBvcHVwXzBkMzQxOTlhZTUwYjRjNTg4NWVhYWY5YjdlMDlhOGYyID0gTC5wb3B1cCh7bWF4V2lkdGg6ICcxMDAlJwogICAgICAgICAgICAKICAgICAgICAgICAgfSk7CgogICAgICAgICAgICAKICAgICAgICAgICAgICAgIHZhciBodG1sX2QxOTBhODMwOTRlMjQzOTg5OGNkYmRkYTU1MWQwMmM3ID0gJChgPGRpdiBpZD0iaHRtbF9kMTkwYTgzMDk0ZTI0Mzk4OThjZGJkZGE1NTFkMDJjNyIgc3R5bGU9IndpZHRoOiAxMDAuMCU7IGhlaWdodDogMTAwLjAlOyI+TTRMPC9kaXY+YClbMF07CiAgICAgICAgICAgICAgICBwb3B1cF8wZDM0MTk5YWU1MGI0YzU4ODVlYWFmOWI3ZTA5YThmMi5zZXRDb250ZW50KGh0bWxfZDE5MGE4MzA5NGUyNDM5ODk4Y2RiZGRhNTUxZDAyYzcpOwogICAgICAgICAgICAKCiAgICAgICAgICAgIGNpcmNsZV9tYXJrZXJfMDM2ZDhmYmViZjNlNDVmZmJhZGVjOWE5ZmIzMzBiYzYuYmluZFBvcHVwKHBvcHVwXzBkMzQxOTlhZTUwYjRjNTg4NWVhYWY5YjdlMDlhOGYyKQogICAgICAgICAgICA7CgogICAgICAgICAgICAKICAgICAgICAKICAgIAogICAgICAgICAgICB2YXIgY2lyY2xlX21hcmtlcl9iNGI5NzhhMDhiYTk0OGU5OTBkMGY3ZTVjMjlkNTFiZSA9IEwuY2lyY2xlTWFya2VyKAogICAgICAgICAgICAgICAgWzQzLjY0ODE5ODUsIC03OS4zNzk4MTY5MDAwMDAwMV0sCiAgICAgICAgICAgICAgICB7CiAgImJ1YmJsaW5nTW91c2VFdmVudHMiOiB0cnVlLAogICJjb2xvciI6ICJncmVlbiIsCiAgImRhc2hBcnJheSI6IG51bGwsCiAgImRhc2hPZmZzZXQiOiBudWxsLAogICJmaWxsIjogZmFsc2UsCiAgImZpbGxDb2xvciI6ICJncmVlbiIsCiAgImZpbGxPcGFjaXR5IjogMC4yLAogICJmaWxsUnVsZSI6ICJldmVub2RkIiwKICAibGluZUNhcCI6ICJyb3VuZCIsCiAgImxpbmVKb2luIjogInJvdW5kIiwKICAib3BhY2l0eSI6IDEuMCwKICAicmFkaXVzIjogMiwKICAic3Ryb2tlIjogdHJ1ZSwKICAid2VpZ2h0IjogMwp9CiAgICAgICAgICAgICAgICApCiAgICAgICAgICAgICAgICAuYWRkVG8obWFwX2IwM2VmN2JiYWVhMjQ3ZTA4MDcyZDIyOTc0MmViZWJjKTsKICAgICAgICAgICAgCiAgICAKICAgICAgICAgICAgdmFyIHBvcHVwXzc0NzkzYThhMGZlNDQ3ZThiMTBmYzQwZDQyYzMwODNhID0gTC5wb3B1cCh7bWF4V2lkdGg6ICcxMDAlJwogICAgICAgICAgICAKICAgICAgICAgICAgfSk7CgogICAgICAgICAgICAKICAgICAgICAgICAgICAgIHZhciBodG1sXzIzOTYxNDc0ODFmZTQ0MjVhYTY2MzA0MzIxY2VjNzc2ID0gJChgPGRpdiBpZD0iaHRtbF8yMzk2MTQ3NDgxZmU0NDI1YWE2NjMwNDMyMWNlYzc3NiIgc3R5bGU9IndpZHRoOiAxMDAuMCU7IGhlaWdodDogMTAwLjAlOyI+TTVMPC9kaXY+YClbMF07CiAgICAgICAgICAgICAgICBwb3B1cF83NDc5M2E4YTBmZTQ0N2U4YjEwZmM0MGQ0MmMzMDgzYS5zZXRDb250ZW50KGh0bWxfMjM5NjE0NzQ4MWZlNDQyNWFhNjYzMDQzMjFjZWM3NzYpOwogICAgICAgICAgICAKCiAgICAgICAgICAgIGNpcmNsZV9tYXJrZXJfYjRiOTc4YTA4YmE5NDhlOTkwZDBmN2U1YzI5ZDUxYmUuYmluZFBvcHVwKHBvcHVwXzc0NzkzYThhMGZlNDQ3ZThiMTBmYzQwZDQyYzMwODNhKQogICAgICAgICAgICA7CgogICAgICAgICAgICAKICAgICAgICAKICAgIAogICAgICAgICAgICB2YXIgY2lyY2xlX21hcmtlcl8xZjYyOGM1MDJmNjE0YjI2OTFhMWQ1Yzk2ZGY3OTZlYiA9IEwuY2lyY2xlTWFya2VyKAogICAgICAgICAgICAgICAgWzQzLjY1OTUyNTUsIC03OS4zNDA5MjNdLAogICAgICAgICAgICAgICAgewogICJidWJibGluZ01vdXNlRXZlbnRzIjogdHJ1ZSwKICAiY29sb3IiOiAiZ3JlZW4iLAogICJkYXNoQXJyYXkiOiBudWxsLAogICJkYXNoT2Zmc2V0IjogbnVsbCwKICAiZmlsbCI6IGZhbHNlLAogICJmaWxsQ29sb3IiOiAiZ3JlZW4iLAogICJmaWxsT3BhY2l0eSI6IDAuMiwKICAiZmlsbFJ1bGUiOiAiZXZlbm9kZCIsCiAgImxpbmVDYXAiOiAicm91bmQiLAogICJsaW5lSm9pbiI6ICJyb3VuZCIsCiAgIm9wYWNpdHkiOiAxLjAsCiAgInJhZGl1cyI6IDIsCiAgInN0cm9rZSI6IHRydWUsCiAgIndlaWdodCI6IDMKfQogICAgICAgICAgICAgICAgKQogICAgICAgICAgICAgICAgLmFkZFRvKG1hcF9iMDNlZjdiYmFlYTI0N2UwODA3MmQyMjk3NDJlYmViYyk7CiAgICAgICAgICAgIAogICAgCiAgICAgICAgICAgIHZhciBwb3B1cF9mODljODY4ZTVlNmU0NWU0YjViNGZjMDUwODBhNzczNiA9IEwucG9wdXAoe21heFdpZHRoOiAnMTAwJScKICAgICAgICAgICAgCiAgICAgICAgICAgIH0pOwoKICAgICAgICAgICAgCiAgICAgICAgICAgICAgICB2YXIgaHRtbF82ZWE1OWIyZDEyNWE0ZmE1OTQwNGQyYzc0M2NlM2U3NCA9ICQoYDxkaXYgaWQ9Imh0bWxfNmVhNTliMmQxMjVhNGZhNTk0MDRkMmM3NDNjZTNlNzQiIHN0eWxlPSJ3aWR0aDogMTAwLjAlOyBoZWlnaHQ6IDEwMC4wJTsiPk00TTwvZGl2PmApWzBdOwogICAgICAgICAgICAgICAgcG9wdXBfZjg5Yzg2OGU1ZTZlNDVlNGI1YjRmYzA1MDgwYTc3MzYuc2V0Q29udGVudChodG1sXzZlYTU5YjJkMTI1YTRmYTU5NDA0ZDJjNzQzY2UzZTc0KTsKICAgICAgICAgICAgCgogICAgICAgICAgICBjaXJjbGVfbWFya2VyXzFmNjI4YzUwMmY2MTRiMjY5MWExZDVjOTZkZjc5NmViLmJpbmRQb3B1cChwb3B1cF9mODljODY4ZTVlNmU0NWU0YjViNGZjMDUwODBhNzczNikKICAgICAgICAgICAgOwoKICAgICAgICAgICAgCiAgICAgICAgCiAgICAKICAgICAgICAgICAgdmFyIGNpcmNsZV9tYXJrZXJfNzZiZjA0ZDJiYmYzNGE1YzhlNzAwMjVmMDhiNTM0NmEgPSBMLmNpcmNsZU1hcmtlcigKICAgICAgICAgICAgICAgIFs0My43MjgwMjA1LCAtNzkuMzg4NzkwMV0sCiAgICAgICAgICAgICAgICB7CiAgImJ1YmJsaW5nTW91c2VFdmVudHMiOiB0cnVlLAogICJjb2xvciI6ICJncmVlbiIsCiAgImRhc2hBcnJheSI6IG51bGwsCiAgImRhc2hPZmZzZXQiOiBudWxsLAogICJmaWxsIjogZmFsc2UsCiAgImZpbGxDb2xvciI6ICJncmVlbiIsCiAgImZpbGxPcGFjaXR5IjogMC4yLAogICJmaWxsUnVsZSI6ICJldmVub2RkIiwKICAibGluZUNhcCI6ICJyb3VuZCIsCiAgImxpbmVKb2luIjogInJvdW5kIiwKICAib3BhY2l0eSI6IDEuMCwKICAicmFkaXVzIjogMiwKICAic3Ryb2tlIjogdHJ1ZSwKICAid2VpZ2h0IjogMwp9CiAgICAgICAgICAgICAgICApCiAgICAgICAgICAgICAgICAuYWRkVG8obWFwX2IwM2VmN2JiYWVhMjQ3ZTA4MDcyZDIyOTc0MmViZWJjKTsKICAgICAgICAgICAgCiAgICAKICAgICAgICAgICAgdmFyIHBvcHVwX2VkODMxNzRhMmY5ZjQyOTRhYjM5MzM4ZTI3YjU4ZjkwID0gTC5wb3B1cCh7bWF4V2lkdGg6ICcxMDAlJwogICAgICAgICAgICAKICAgICAgICAgICAgfSk7CgogICAgICAgICAgICAKICAgICAgICAgICAgICAgIHZhciBodG1sX2FhMzBiMDU1ZmU3ZTQyZmNiZDZlNDIyYjNmNWVhNDQ3ID0gJChgPGRpdiBpZD0iaHRtbF9hYTMwYjA1NWZlN2U0MmZjYmQ2ZTQyMmIzZjVlYTQ0NyIgc3R5bGU9IndpZHRoOiAxMDAuMCU7IGhlaWdodDogMTAwLjAlOyI+TTROPC9kaXY+YClbMF07CiAgICAgICAgICAgICAgICBwb3B1cF9lZDgzMTc0YTJmOWY0Mjk0YWIzOTMzOGUyN2I1OGY5MC5zZXRDb250ZW50KGh0bWxfYWEzMGIwNTVmZTdlNDJmY2JkNmU0MjJiM2Y1ZWE0NDcpOwogICAgICAgICAgICAKCiAgICAgICAgICAgIGNpcmNsZV9tYXJrZXJfNzZiZjA0ZDJiYmYzNGE1YzhlNzAwMjVmMDhiNTM0NmEuYmluZFBvcHVwKHBvcHVwX2VkODMxNzRhMmY5ZjQyOTRhYjM5MzM4ZTI3YjU4ZjkwKQogICAgICAgICAgICA7CgogICAgICAgICAgICAKICAgICAgICAKICAgIAogICAgICAgICAgICB2YXIgY2lyY2xlX21hcmtlcl82YWM0OTYxOWM3YjM0YTZhODZjODVjY2E2ZDAyMThiZiA9IEwuY2lyY2xlTWFya2VyKAogICAgICAgICAgICAgICAgWzQzLjcxMTY5NDgsIC03OS40MTY5MzU1OTk5OTk5OV0sCiAgICAgICAgICAgICAgICB7CiAgImJ1YmJsaW5nTW91c2VFdmVudHMiOiB0cnVlLAogICJjb2xvciI6ICJncmVlbiIsCiAgImRhc2hBcnJheSI6IG51bGwsCiAgImRhc2hPZmZzZXQiOiBudWxsLAogICJmaWxsIjogZmFsc2UsCiAgImZpbGxDb2xvciI6ICJncmVlbiIsCiAgImZpbGxPcGFjaXR5IjogMC4yLAogICJmaWxsUnVsZSI6ICJldmVub2RkIiwKICAibGluZUNhcCI6ICJyb3VuZCIsCiAgImxpbmVKb2luIjogInJvdW5kIiwKICAib3BhY2l0eSI6IDEuMCwKICAicmFkaXVzIjogMiwKICAic3Ryb2tlIjogdHJ1ZSwKICAid2VpZ2h0IjogMwp9CiAgICAgICAgICAgICAgICApCiAgICAgICAgICAgICAgICAuYWRkVG8obWFwX2IwM2VmN2JiYWVhMjQ3ZTA4MDcyZDIyOTc0MmViZWJjKTsKICAgICAgICAgICAgCiAgICAKICAgICAgICAgICAgdmFyIHBvcHVwXzJlZTNiYjQ3ZDFlNjQ3ODk5NWVjNzY3Mzk3M2FhZDZjID0gTC5wb3B1cCh7bWF4V2lkdGg6ICcxMDAlJwogICAgICAgICAgICAKICAgICAgICAgICAgfSk7CgogICAgICAgICAgICAKICAgICAgICAgICAgICAgIHZhciBodG1sX2FjNzBlMTlhMDY1MzRkZGNiZDZjMDQ5YzQ2MmI0ZGM5ID0gJChgPGRpdiBpZD0iaHRtbF9hYzcwZTE5YTA2NTM0ZGRjYmQ2YzA0OWM0NjJiNGRjOSIgc3R5bGU9IndpZHRoOiAxMDAuMCU7IGhlaWdodDogMTAwLjAlOyI+TTVOPC9kaXY+YClbMF07CiAgICAgICAgICAgICAgICBwb3B1cF8yZWUzYmI0N2QxZTY0Nzg5OTVlYzc2NzM5NzNhYWQ2Yy5zZXRDb250ZW50KGh0bWxfYWM3MGUxOWEwNjUzNGRkY2JkNmMwNDljNDYyYjRkYzkpOwogICAgICAgICAgICAKCiAgICAgICAgICAgIGNpcmNsZV9tYXJrZXJfNmFjNDk2MTljN2IzNGE2YTg2Yzg1Y2NhNmQwMjE4YmYuYmluZFBvcHVwKHBvcHVwXzJlZTNiYjQ3ZDFlNjQ3ODk5NWVjNzY3Mzk3M2FhZDZjKQogICAgICAgICAgICA7CgogICAgICAgICAgICAKICAgICAgICAKICAgIAogICAgICAgICAgICB2YXIgY2lyY2xlX21hcmtlcl82ODk4MWM1ZjgxOGI0NWRlOWIzOTdmZjI4Zjg5MDNkNSA9IEwuY2lyY2xlTWFya2VyKAogICAgICAgICAgICAgICAgWzQzLjcxMjc1MTEsIC03OS4zOTAxOTc1XSwKICAgICAgICAgICAgICAgIHsKICAiYnViYmxpbmdNb3VzZUV2ZW50cyI6IHRydWUsCiAgImNvbG9yIjogImdyZWVuIiwKICAiZGFzaEFycmF5IjogbnVsbCwKICAiZGFzaE9mZnNldCI6IG51bGwsCiAgImZpbGwiOiBmYWxzZSwKICAiZmlsbENvbG9yIjogImdyZWVuIiwKICAiZmlsbE9wYWNpdHkiOiAwLjIsCiAgImZpbGxSdWxlIjogImV2ZW5vZGQiLAogICJsaW5lQ2FwIjogInJvdW5kIiwKICAibGluZUpvaW4iOiAicm91bmQiLAogICJvcGFjaXR5IjogMS4wLAogICJyYWRpdXMiOiAyLAogICJzdHJva2UiOiB0cnVlLAogICJ3ZWlnaHQiOiAzCn0KICAgICAgICAgICAgICAgICkKICAgICAgICAgICAgICAgIC5hZGRUbyhtYXBfYjAzZWY3YmJhZWEyNDdlMDgwNzJkMjI5NzQyZWJlYmMpOwogICAgICAgICAgICAKICAgIAogICAgICAgICAgICB2YXIgcG9wdXBfNTdiNGQ5ZTg2YjhmNGEzMzgxNTMwNzdmZGRiZTQ3ZjAgPSBMLnBvcHVwKHttYXhXaWR0aDogJzEwMCUnCiAgICAgICAgICAgIAogICAgICAgICAgICB9KTsKCiAgICAgICAgICAgIAogICAgICAgICAgICAgICAgdmFyIGh0bWxfZjM1ZDE5MmNmNjc3NGE1Yjk2ZjVmMTgzMGI0ZTlkZTkgPSAkKGA8ZGl2IGlkPSJodG1sX2YzNWQxOTJjZjY3NzRhNWI5NmY1ZjE4MzBiNGU5ZGU5IiBzdHlsZT0id2lkdGg6IDEwMC4wJTsgaGVpZ2h0OiAxMDAuMCU7Ij5NNFA8L2Rpdj5gKVswXTsKICAgICAgICAgICAgICAgIHBvcHVwXzU3YjRkOWU4NmI4ZjRhMzM4MTUzMDc3ZmRkYmU0N2YwLnNldENvbnRlbnQoaHRtbF9mMzVkMTkyY2Y2Nzc0YTViOTZmNWYxODMwYjRlOWRlOSk7CiAgICAgICAgICAgIAoKICAgICAgICAgICAgY2lyY2xlX21hcmtlcl82ODk4MWM1ZjgxOGI0NWRlOWIzOTdmZjI4Zjg5MDNkNS5iaW5kUG9wdXAocG9wdXBfNTdiNGQ5ZTg2YjhmNGEzMzgxNTMwNzdmZGRiZTQ3ZjApCiAgICAgICAgICAgIDsKCiAgICAgICAgICAgIAogICAgICAgIAogICAgCiAgICAgICAgICAgIHZhciBjaXJjbGVfbWFya2VyXzY3ZWU3NDdlNGVhNDQxMTJhZDMzNGJjZWQxMmY2Njg3ID0gTC5jaXJjbGVNYXJrZXIoCiAgICAgICAgICAgICAgICBbNDMuNjk2OTQ3NiwgLTc5LjQxMTMwNzIwMDAwMDAxXSwKICAgICAgICAgICAgICAgIHsKICAiYnViYmxpbmdNb3VzZUV2ZW50cyI6IHRydWUsCiAgImNvbG9yIjogImdyZWVuIiwKICAiZGFzaEFycmF5IjogbnVsbCwKICAiZGFzaE9mZnNldCI6IG51bGwsCiAgImZpbGwiOiBmYWxzZSwKICAiZmlsbENvbG9yIjogImdyZWVuIiwKICAiZmlsbE9wYWNpdHkiOiAwLjIsCiAgImZpbGxSdWxlIjogImV2ZW5vZGQiLAogICJsaW5lQ2FwIjogInJvdW5kIiwKICAibGluZUpvaW4iOiAicm91bmQiLAogICJvcGFjaXR5IjogMS4wLAogICJyYWRpdXMiOiAyLAogICJzdHJva2UiOiB0cnVlLAogICJ3ZWlnaHQiOiAzCn0KICAgICAgICAgICAgICAgICkKICAgICAgICAgICAgICAgIC5hZGRUbyhtYXBfYjAzZWY3YmJhZWEyNDdlMDgwNzJkMjI5NzQyZWJlYmMpOwogICAgICAgICAgICAKICAgIAogICAgICAgICAgICB2YXIgcG9wdXBfNDBjZjAyYzVkMmE0NGFkMmJiMTNiMmE5OTY2MzFhNTMgPSBMLnBvcHVwKHttYXhXaWR0aDogJzEwMCUnCiAgICAgICAgICAgIAogICAgICAgICAgICB9KTsKCiAgICAgICAgICAgIAogICAgICAgICAgICAgICAgdmFyIGh0bWxfZTQwNDAzZDJhMWMzNDM2NDg4NjNmNDdjZWU2Njc2NTAgPSAkKGA8ZGl2IGlkPSJodG1sX2U0MDQwM2QyYTFjMzQzNjQ4ODYzZjQ3Y2VlNjY3NjUwIiBzdHlsZT0id2lkdGg6IDEwMC4wJTsgaGVpZ2h0OiAxMDAuMCU7Ij5NNVA8L2Rpdj5gKVswXTsKICAgICAgICAgICAgICAgIHBvcHVwXzQwY2YwMmM1ZDJhNDRhZDJiYjEzYjJhOTk2NjMxYTUzLnNldENvbnRlbnQoaHRtbF9lNDA0MDNkMmExYzM0MzY0ODg2M2Y0N2NlZTY2NzY1MCk7CiAgICAgICAgICAgIAoKICAgICAgICAgICAgY2lyY2xlX21hcmtlcl82N2VlNzQ3ZTRlYTQ0MTEyYWQzMzRiY2VkMTJmNjY4Ny5iaW5kUG9wdXAocG9wdXBfNDBjZjAyYzVkMmE0NGFkMmJiMTNiMmE5OTY2MzFhNTMpCiAgICAgICAgICAgIDsKCiAgICAgICAgICAgIAogICAgICAgIAogICAgCiAgICAgICAgICAgIHZhciBjaXJjbGVfbWFya2VyXzQ0MDQ3YmFkMmJjMDRiZmFiNzY3YTAwMTFkNTc0ZTkxID0gTC5jaXJjbGVNYXJrZXIoCiAgICAgICAgICAgICAgICBbNDMuNjYxNjA4MywgLTc5LjQ2NDc2MzI5OTk5OTk5XSwKICAgICAgICAgICAgICAgIHsKICAiYnViYmxpbmdNb3VzZUV2ZW50cyI6IHRydWUsCiAgImNvbG9yIjogImdyZWVuIiwKICAiZGFzaEFycmF5IjogbnVsbCwKICAiZGFzaE9mZnNldCI6IG51bGwsCiAgImZpbGwiOiBmYWxzZSwKICAiZmlsbENvbG9yIjogImdyZWVuIiwKICAiZmlsbE9wYWNpdHkiOiAwLjIsCiAgImZpbGxSdWxlIjogImV2ZW5vZGQiLAogICJsaW5lQ2FwIjogInJvdW5kIiwKICAibGluZUpvaW4iOiAicm91bmQiLAogICJvcGFjaXR5IjogMS4wLAogICJyYWRpdXMiOiAyLAogICJzdHJva2UiOiB0cnVlLAogICJ3ZWlnaHQiOiAzCn0KICAgICAgICAgICAgICAgICkKICAgICAgICAgICAgICAgIC5hZGRUbyhtYXBfYjAzZWY3YmJhZWEyNDdlMDgwNzJkMjI5NzQyZWJlYmMpOwogICAgICAgICAgICAKICAgIAogICAgICAgICAgICB2YXIgcG9wdXBfZjY1MjU1YzZkZGNkNGFiNzlhOTk4MTNlZjNjOTRkMWYgPSBMLnBvcHVwKHttYXhXaWR0aDogJzEwMCUnCiAgICAgICAgICAgIAogICAgICAgICAgICB9KTsKCiAgICAgICAgICAgIAogICAgICAgICAgICAgICAgdmFyIGh0bWxfYTQ1OWYyNzA3YWJlNDI1YWEyMzA1NDQxNzVhMWMzZTUgPSAkKGA8ZGl2IGlkPSJodG1sX2E0NTlmMjcwN2FiZTQyNWFhMjMwNTQ0MTc1YTFjM2U1IiBzdHlsZT0id2lkdGg6IDEwMC4wJTsgaGVpZ2h0OiAxMDAuMCU7Ij5NNlA8L2Rpdj5gKVswXTsKICAgICAgICAgICAgICAgIHBvcHVwX2Y2NTI1NWM2ZGRjZDRhYjc5YTk5ODEzZWYzYzk0ZDFmLnNldENvbnRlbnQoaHRtbF9hNDU5ZjI3MDdhYmU0MjVhYTIzMDU0NDE3NWExYzNlNSk7CiAgICAgICAgICAgIAoKICAgICAgICAgICAgY2lyY2xlX21hcmtlcl80NDA0N2JhZDJiYzA0YmZhYjc2N2EwMDExZDU3NGU5MS5iaW5kUG9wdXAocG9wdXBfZjY1MjU1YzZkZGNkNGFiNzlhOTk4MTNlZjNjOTRkMWYpCiAgICAgICAgICAgIDsKCiAgICAgICAgICAgIAogICAgICAgIAogICAgCiAgICAgICAgICAgIHZhciBjaXJjbGVfbWFya2VyX2NhYmE3MDYwOTM0YjRkOTY4NzNlNDAwNGFhZTFmNjliID0gTC5jaXJjbGVNYXJrZXIoCiAgICAgICAgICAgICAgICBbNDMuNzE1MzgzNCwgLTc5LjQwNTY3ODQwMDAwMDAxXSwKICAgICAgICAgICAgICAgIHsKICAiYnViYmxpbmdNb3VzZUV2ZW50cyI6IHRydWUsCiAgImNvbG9yIjogImdyZWVuIiwKICAiZGFzaEFycmF5IjogbnVsbCwKICAiZGFzaE9mZnNldCI6IG51bGwsCiAgImZpbGwiOiBmYWxzZSwKICAiZmlsbENvbG9yIjogImdyZWVuIiwKICAiZmlsbE9wYWNpdHkiOiAwLjIsCiAgImZpbGxSdWxlIjogImV2ZW5vZGQiLAogICJsaW5lQ2FwIjogInJvdW5kIiwKICAibGluZUpvaW4iOiAicm91bmQiLAogICJvcGFjaXR5IjogMS4wLAogICJyYWRpdXMiOiAyLAogICJzdHJva2UiOiB0cnVlLAogICJ3ZWlnaHQiOiAzCn0KICAgICAgICAgICAgICAgICkKICAgICAgICAgICAgICAgIC5hZGRUbyhtYXBfYjAzZWY3YmJhZWEyNDdlMDgwNzJkMjI5NzQyZWJlYmMpOwogICAgICAgICAgICAKICAgIAogICAgICAgICAgICB2YXIgcG9wdXBfYjlhNTY1ZmEyNGE5NGRhYjhhYzdmZmNkZGQ0NWQ4ZDUgPSBMLnBvcHVwKHttYXhXaWR0aDogJzEwMCUnCiAgICAgICAgICAgIAogICAgICAgICAgICB9KTsKCiAgICAgICAgICAgIAogICAgICAgICAgICAgICAgdmFyIGh0bWxfMzhkOGNiZTdjNzQyNDhhYmExZWJlMjk5OTNjOGY3ZWEgPSAkKGA8ZGl2IGlkPSJodG1sXzM4ZDhjYmU3Yzc0MjQ4YWJhMWViZTI5OTkzYzhmN2VhIiBzdHlsZT0id2lkdGg6IDEwMC4wJTsgaGVpZ2h0OiAxMDAuMCU7Ij5NNFI8L2Rpdj5gKVswXTsKICAgICAgICAgICAgICAgIHBvcHVwX2I5YTU2NWZhMjRhOTRkYWI4YWM3ZmZjZGRkNDVkOGQ1LnNldENvbnRlbnQoaHRtbF8zOGQ4Y2JlN2M3NDI0OGFiYTFlYmUyOTk5M2M4ZjdlYSk7CiAgICAgICAgICAgIAoKICAgICAgICAgICAgY2lyY2xlX21hcmtlcl9jYWJhNzA2MDkzNGI0ZDk2ODczZTQwMDRhYWUxZjY5Yi5iaW5kUG9wdXAocG9wdXBfYjlhNTY1ZmEyNGE5NGRhYjhhYzdmZmNkZGQ0NWQ4ZDUpCiAgICAgICAgICAgIDsKCiAgICAgICAgICAgIAogICAgICAgIAogICAgCiAgICAgICAgICAgIHZhciBjaXJjbGVfbWFya2VyX2VkODYzNmEyMDhkMjQ4M2ZhZjA1MjQ0NzJhYjg2YjRiID0gTC5jaXJjbGVNYXJrZXIoCiAgICAgICAgICAgICAgICBbNDMuNjcyNzA5NywgLTc5LjQwNTY3ODQwMDAwMDAxXSwKICAgICAgICAgICAgICAgIHsKICAiYnViYmxpbmdNb3VzZUV2ZW50cyI6IHRydWUsCiAgImNvbG9yIjogImdyZWVuIiwKICAiZGFzaEFycmF5IjogbnVsbCwKICAiZGFzaE9mZnNldCI6IG51bGwsCiAgImZpbGwiOiBmYWxzZSwKICAiZmlsbENvbG9yIjogImdyZWVuIiwKICAiZmlsbE9wYWNpdHkiOiAwLjIsCiAgImZpbGxSdWxlIjogImV2ZW5vZGQiLAogICJsaW5lQ2FwIjogInJvdW5kIiwKICAibGluZUpvaW4iOiAicm91bmQiLAogICJvcGFjaXR5IjogMS4wLAogICJyYWRpdXMiOiAyLAogICJzdHJva2UiOiB0cnVlLAogICJ3ZWlnaHQiOiAzCn0KICAgICAgICAgICAgICAgICkKICAgICAgICAgICAgICAgIC5hZGRUbyhtYXBfYjAzZWY3YmJhZWEyNDdlMDgwNzJkMjI5NzQyZWJlYmMpOwogICAgICAgICAgICAKICAgIAogICAgICAgICAgICB2YXIgcG9wdXBfZmQ0MTJmZDQ5NTYzNDVkZGE2NjdiMDFiMDM1YmM1MzUgPSBMLnBvcHVwKHttYXhXaWR0aDogJzEwMCUnCiAgICAgICAgICAgIAogICAgICAgICAgICB9KTsKCiAgICAgICAgICAgIAogICAgICAgICAgICAgICAgdmFyIGh0bWxfMGVhNzMxOTY4YTIzNDhhNDg0MDNiOTAwMDA5YmI4ZjcgPSAkKGA8ZGl2IGlkPSJodG1sXzBlYTczMTk2OGEyMzQ4YTQ4NDAzYjkwMDAwOWJiOGY3IiBzdHlsZT0id2lkdGg6IDEwMC4wJTsgaGVpZ2h0OiAxMDAuMCU7Ij5NNVI8L2Rpdj5gKVswXTsKICAgICAgICAgICAgICAgIHBvcHVwX2ZkNDEyZmQ0OTU2MzQ1ZGRhNjY3YjAxYjAzNWJjNTM1LnNldENvbnRlbnQoaHRtbF8wZWE3MzE5NjhhMjM0OGE0ODQwM2I5MDAwMDliYjhmNyk7CiAgICAgICAgICAgIAoKICAgICAgICAgICAgY2lyY2xlX21hcmtlcl9lZDg2MzZhMjA4ZDI0ODNmYWYwNTI0NDcyYWI4NmI0Yi5iaW5kUG9wdXAocG9wdXBfZmQ0MTJmZDQ5NTYzNDVkZGE2NjdiMDFiMDM1YmM1MzUpCiAgICAgICAgICAgIDsKCiAgICAgICAgICAgIAogICAgICAgIAogICAgCiAgICAgICAgICAgIHZhciBjaXJjbGVfbWFya2VyX2QwYTVjNzE2N2Q4YzQ3M2U4Zjk0MTUyODY5ZmNjMjBmID0gTC5jaXJjbGVNYXJrZXIoCiAgICAgICAgICAgICAgICBbNDMuNjQ4OTU5NywgLTc5LjQ1NjMyNV0sCiAgICAgICAgICAgICAgICB7CiAgImJ1YmJsaW5nTW91c2VFdmVudHMiOiB0cnVlLAogICJjb2xvciI6ICJncmVlbiIsCiAgImRhc2hBcnJheSI6IG51bGwsCiAgImRhc2hPZmZzZXQiOiBudWxsLAogICJmaWxsIjogZmFsc2UsCiAgImZpbGxDb2xvciI6ICJncmVlbiIsCiAgImZpbGxPcGFjaXR5IjogMC4yLAogICJmaWxsUnVsZSI6ICJldmVub2RkIiwKICAibGluZUNhcCI6ICJyb3VuZCIsCiAgImxpbmVKb2luIjogInJvdW5kIiwKICAib3BhY2l0eSI6IDEuMCwKICAicmFkaXVzIjogMiwKICAic3Ryb2tlIjogdHJ1ZSwKICAid2VpZ2h0IjogMwp9CiAgICAgICAgICAgICAgICApCiAgICAgICAgICAgICAgICAuYWRkVG8obWFwX2IwM2VmN2JiYWVhMjQ3ZTA4MDcyZDIyOTc0MmViZWJjKTsKICAgICAgICAgICAgCiAgICAKICAgICAgICAgICAgdmFyIHBvcHVwX2E5MWNkZWQwMDY1MDQ0OWZiNTJjNDM0OTM3Y2Q3MTgwID0gTC5wb3B1cCh7bWF4V2lkdGg6ICcxMDAlJwogICAgICAgICAgICAKICAgICAgICAgICAgfSk7CgogICAgICAgICAgICAKICAgICAgICAgICAgICAgIHZhciBodG1sX2E2MWU5Nzc4OGIyZjRmZTg4MTY1YWQzODMzZTBjNTA0ID0gJChgPGRpdiBpZD0iaHRtbF9hNjFlOTc3ODhiMmY0ZmU4ODE2NWFkMzgzM2UwYzUwNCIgc3R5bGU9IndpZHRoOiAxMDAuMCU7IGhlaWdodDogMTAwLjAlOyI+TTZSPC9kaXY+YClbMF07CiAgICAgICAgICAgICAgICBwb3B1cF9hOTFjZGVkMDA2NTA0NDlmYjUyYzQzNDkzN2NkNzE4MC5zZXRDb250ZW50KGh0bWxfYTYxZTk3Nzg4YjJmNGZlODgxNjVhZDM4MzNlMGM1MDQpOwogICAgICAgICAgICAKCiAgICAgICAgICAgIGNpcmNsZV9tYXJrZXJfZDBhNWM3MTY3ZDhjNDczZThmOTQxNTI4NjlmY2MyMGYuYmluZFBvcHVwKHBvcHVwX2E5MWNkZWQwMDY1MDQ0OWZiNTJjNDM0OTM3Y2Q3MTgwKQogICAgICAgICAgICA7CgogICAgICAgICAgICAKICAgICAgICAKICAgIAogICAgICAgICAgICB2YXIgY2lyY2xlX21hcmtlcl80ODlhZjdjN2I3YTc0NGFmOTYyNGRkYTJiMWZlZDUzNSA9IEwuY2lyY2xlTWFya2VyKAogICAgICAgICAgICAgICAgWzQzLjcwNDMyNDQsIC03OS4zODg3OTAxXSwKICAgICAgICAgICAgICAgIHsKICAiYnViYmxpbmdNb3VzZUV2ZW50cyI6IHRydWUsCiAgImNvbG9yIjogImdyZWVuIiwKICAiZGFzaEFycmF5IjogbnVsbCwKICAiZGFzaE9mZnNldCI6IG51bGwsCiAgImZpbGwiOiBmYWxzZSwKICAiZmlsbENvbG9yIjogImdyZWVuIiwKICAiZmlsbE9wYWNpdHkiOiAwLjIsCiAgImZpbGxSdWxlIjogImV2ZW5vZGQiLAogICJsaW5lQ2FwIjogInJvdW5kIiwKICAibGluZUpvaW4iOiAicm91bmQiLAogICJvcGFjaXR5IjogMS4wLAogICJyYWRpdXMiOiAyLAogICJzdHJva2UiOiB0cnVlLAogICJ3ZWlnaHQiOiAzCn0KICAgICAgICAgICAgICAgICkKICAgICAgICAgICAgICAgIC5hZGRUbyhtYXBfYjAzZWY3YmJhZWEyNDdlMDgwNzJkMjI5NzQyZWJlYmMpOwogICAgICAgICAgICAKICAgIAogICAgICAgICAgICB2YXIgcG9wdXBfYmJiYjMwMzQxZGE3NGJhZGI2NTUyNGJjNjUzN2ZmM2QgPSBMLnBvcHVwKHttYXhXaWR0aDogJzEwMCUnCiAgICAgICAgICAgIAogICAgICAgICAgICB9KTsKCiAgICAgICAgICAgIAogICAgICAgICAgICAgICAgdmFyIGh0bWxfMTllYzU0NTk2MjgxNDliNzlkZWE2OTg4NmU1NzVjMmMgPSAkKGA8ZGl2IGlkPSJodG1sXzE5ZWM1NDU5NjI4MTQ5Yjc5ZGVhNjk4ODZlNTc1YzJjIiBzdHlsZT0id2lkdGg6IDEwMC4wJTsgaGVpZ2h0OiAxMDAuMCU7Ij5NNFM8L2Rpdj5gKVswXTsKICAgICAgICAgICAgICAgIHBvcHVwX2JiYmIzMDM0MWRhNzRiYWRiNjU1MjRiYzY1MzdmZjNkLnNldENvbnRlbnQoaHRtbF8xOWVjNTQ1OTYyODE0OWI3OWRlYTY5ODg2ZTU3NWMyYyk7CiAgICAgICAgICAgIAoKICAgICAgICAgICAgY2lyY2xlX21hcmtlcl80ODlhZjdjN2I3YTc0NGFmOTYyNGRkYTJiMWZlZDUzNS5iaW5kUG9wdXAocG9wdXBfYmJiYjMwMzQxZGE3NGJhZGI2NTUyNGJjNjUzN2ZmM2QpCiAgICAgICAgICAgIDsKCiAgICAgICAgICAgIAogICAgICAgIAogICAgCiAgICAgICAgICAgIHZhciBjaXJjbGVfbWFya2VyX2RkNjAzOWJkZWQ2MDQ0OWNiYTI5MDUyMjY1NWJjNTIxID0gTC5jaXJjbGVNYXJrZXIoCiAgICAgICAgICAgICAgICBbNDMuNjYyNjk1NiwgLTc5LjQwMDA0OTNdLAogICAgICAgICAgICAgICAgewogICJidWJibGluZ01vdXNlRXZlbnRzIjogdHJ1ZSwKICAiY29sb3IiOiAiZ3JlZW4iLAogICJkYXNoQXJyYXkiOiBudWxsLAogICJkYXNoT2Zmc2V0IjogbnVsbCwKICAiZmlsbCI6IGZhbHNlLAogICJmaWxsQ29sb3IiOiAiZ3JlZW4iLAogICJmaWxsT3BhY2l0eSI6IDAuMiwKICAiZmlsbFJ1bGUiOiAiZXZlbm9kZCIsCiAgImxpbmVDYXAiOiAicm91bmQiLAogICJsaW5lSm9pbiI6ICJyb3VuZCIsCiAgIm9wYWNpdHkiOiAxLjAsCiAgInJhZGl1cyI6IDIsCiAgInN0cm9rZSI6IHRydWUsCiAgIndlaWdodCI6IDMKfQogICAgICAgICAgICAgICAgKQogICAgICAgICAgICAgICAgLmFkZFRvKG1hcF9iMDNlZjdiYmFlYTI0N2UwODA3MmQyMjk3NDJlYmViYyk7CiAgICAgICAgICAgIAogICAgCiAgICAgICAgICAgIHZhciBwb3B1cF9lMTA0MWNhYWNlYmI0MjYzODVlYjgyY2FiYzYzODAxNyA9IEwucG9wdXAoe21heFdpZHRoOiAnMTAwJScKICAgICAgICAgICAgCiAgICAgICAgICAgIH0pOwoKICAgICAgICAgICAgCiAgICAgICAgICAgICAgICB2YXIgaHRtbF84YjNjNDBhNjVhNWY0NTYyYWMwNDMyMjY0ZGJmZDUyOCA9ICQoYDxkaXYgaWQ9Imh0bWxfOGIzYzQwYTY1YTVmNDU2MmFjMDQzMjI2NGRiZmQ1MjgiIHN0eWxlPSJ3aWR0aDogMTAwLjAlOyBoZWlnaHQ6IDEwMC4wJTsiPk01UzwvZGl2PmApWzBdOwogICAgICAgICAgICAgICAgcG9wdXBfZTEwNDFjYWFjZWJiNDI2Mzg1ZWI4MmNhYmM2MzgwMTcuc2V0Q29udGVudChodG1sXzhiM2M0MGE2NWE1ZjQ1NjJhYzA0MzIyNjRkYmZkNTI4KTsKICAgICAgICAgICAgCgogICAgICAgICAgICBjaXJjbGVfbWFya2VyX2RkNjAzOWJkZWQ2MDQ0OWNiYTI5MDUyMjY1NWJjNTIxLmJpbmRQb3B1cChwb3B1cF9lMTA0MWNhYWNlYmI0MjYzODVlYjgyY2FiYzYzODAxNykKICAgICAgICAgICAgOwoKICAgICAgICAgICAgCiAgICAgICAgCiAgICAKICAgICAgICAgICAgdmFyIGNpcmNsZV9tYXJrZXJfNzFiMWJiYmI1ZDhlNDQwOGFjNGM5ZjVhMjExMmQ4YzUgPSBMLmNpcmNsZU1hcmtlcigKICAgICAgICAgICAgICAgIFs0My42NTE1NzA2LCAtNzkuNDg0NDQ5OV0sCiAgICAgICAgICAgICAgICB7CiAgImJ1YmJsaW5nTW91c2VFdmVudHMiOiB0cnVlLAogICJjb2xvciI6ICJncmVlbiIsCiAgImRhc2hBcnJheSI6IG51bGwsCiAgImRhc2hPZmZzZXQiOiBudWxsLAogICJmaWxsIjogZmFsc2UsCiAgImZpbGxDb2xvciI6ICJncmVlbiIsCiAgImZpbGxPcGFjaXR5IjogMC4yLAogICJmaWxsUnVsZSI6ICJldmVub2RkIiwKICAibGluZUNhcCI6ICJyb3VuZCIsCiAgImxpbmVKb2luIjogInJvdW5kIiwKICAib3BhY2l0eSI6IDEuMCwKICAicmFkaXVzIjogMiwKICAic3Ryb2tlIjogdHJ1ZSwKICAid2VpZ2h0IjogMwp9CiAgICAgICAgICAgICAgICApCiAgICAgICAgICAgICAgICAuYWRkVG8obWFwX2IwM2VmN2JiYWVhMjQ3ZTA4MDcyZDIyOTc0MmViZWJjKTsKICAgICAgICAgICAgCiAgICAKICAgICAgICAgICAgdmFyIHBvcHVwXzFhOTc4ZDNlOWQ3YzQ5MzZhNDRjZGYyNzFiN2FlZDhkID0gTC5wb3B1cCh7bWF4V2lkdGg6ICcxMDAlJwogICAgICAgICAgICAKICAgICAgICAgICAgfSk7CgogICAgICAgICAgICAKICAgICAgICAgICAgICAgIHZhciBodG1sXzU3NDIwNDVmM2U2NjQ4MmI5MGI2ZGExZDRhOTc4MTg2ID0gJChgPGRpdiBpZD0iaHRtbF81NzQyMDQ1ZjNlNjY0ODJiOTBiNmRhMWQ0YTk3ODE4NiIgc3R5bGU9IndpZHRoOiAxMDAuMCU7IGhlaWdodDogMTAwLjAlOyI+TTZTPC9kaXY+YClbMF07CiAgICAgICAgICAgICAgICBwb3B1cF8xYTk3OGQzZTlkN2M0OTM2YTQ0Y2RmMjcxYjdhZWQ4ZC5zZXRDb250ZW50KGh0bWxfNTc0MjA0NWYzZTY2NDgyYjkwYjZkYTFkNGE5NzgxODYpOwogICAgICAgICAgICAKCiAgICAgICAgICAgIGNpcmNsZV9tYXJrZXJfNzFiMWJiYmI1ZDhlNDQwOGFjNGM5ZjVhMjExMmQ4YzUuYmluZFBvcHVwKHBvcHVwXzFhOTc4ZDNlOWQ3YzQ5MzZhNDRjZGYyNzFiN2FlZDhkKQogICAgICAgICAgICA7CgogICAgICAgICAgICAKICAgICAgICAKICAgIAogICAgICAgICAgICB2YXIgY2lyY2xlX21hcmtlcl83ZjBmMTUyOTgwMjc0NjY4YjYwYjRhZGU0N2M4ZGRhMyA9IEwuY2lyY2xlTWFya2VyKAogICAgICAgICAgICAgICAgWzQzLjY4OTU3NDMsIC03OS4zODMxNTk5MDAwMDAwMV0sCiAgICAgICAgICAgICAgICB7CiAgImJ1YmJsaW5nTW91c2VFdmVudHMiOiB0cnVlLAogICJjb2xvciI6ICJncmVlbiIsCiAgImRhc2hBcnJheSI6IG51bGwsCiAgImRhc2hPZmZzZXQiOiBudWxsLAogICJmaWxsIjogZmFsc2UsCiAgImZpbGxDb2xvciI6ICJncmVlbiIsCiAgImZpbGxPcGFjaXR5IjogMC4yLAogICJmaWxsUnVsZSI6ICJldmVub2RkIiwKICAibGluZUNhcCI6ICJyb3VuZCIsCiAgImxpbmVKb2luIjogInJvdW5kIiwKICAib3BhY2l0eSI6IDEuMCwKICAicmFkaXVzIjogMiwKICAic3Ryb2tlIjogdHJ1ZSwKICAid2VpZ2h0IjogMwp9CiAgICAgICAgICAgICAgICApCiAgICAgICAgICAgICAgICAuYWRkVG8obWFwX2IwM2VmN2JiYWVhMjQ3ZTA4MDcyZDIyOTc0MmViZWJjKTsKICAgICAgICAgICAgCiAgICAKICAgICAgICAgICAgdmFyIHBvcHVwXzk2YjczMDJmYjVhODQwOGFiZWU0MGUzNGI2OTc5MTQ3ID0gTC5wb3B1cCh7bWF4V2lkdGg6ICcxMDAlJwogICAgICAgICAgICAKICAgICAgICAgICAgfSk7CgogICAgICAgICAgICAKICAgICAgICAgICAgICAgIHZhciBodG1sXzIyMGZlMjViMWQ2YzRhNzRhODBjYmViNGI3YjQxYmQzID0gJChgPGRpdiBpZD0iaHRtbF8yMjBmZTI1YjFkNmM0YTc0YTgwY2JlYjRiN2I0MWJkMyIgc3R5bGU9IndpZHRoOiAxMDAuMCU7IGhlaWdodDogMTAwLjAlOyI+TTRUPC9kaXY+YClbMF07CiAgICAgICAgICAgICAgICBwb3B1cF85NmI3MzAyZmI1YTg0MDhhYmVlNDBlMzRiNjk3OTE0Ny5zZXRDb250ZW50KGh0bWxfMjIwZmUyNWIxZDZjNGE3NGE4MGNiZWI0YjdiNDFiZDMpOwogICAgICAgICAgICAKCiAgICAgICAgICAgIGNpcmNsZV9tYXJrZXJfN2YwZjE1Mjk4MDI3NDY2OGI2MGI0YWRlNDdjOGRkYTMuYmluZFBvcHVwKHBvcHVwXzk2YjczMDJmYjVhODQwOGFiZWU0MGUzNGI2OTc5MTQ3KQogICAgICAgICAgICA7CgogICAgICAgICAgICAKICAgICAgICAKICAgIAogICAgICAgICAgICB2YXIgY2lyY2xlX21hcmtlcl9iMTZhYWU3NWU5ZTA0ZDI3OWY4Y2ZmZjA3ODY5MmRlMyA9IEwuY2lyY2xlTWFya2VyKAogICAgICAgICAgICAgICAgWzQzLjY1MzIwNTcsIC03OS40MDAwNDkzXSwKICAgICAgICAgICAgICAgIHsKICAiYnViYmxpbmdNb3VzZUV2ZW50cyI6IHRydWUsCiAgImNvbG9yIjogImdyZWVuIiwKICAiZGFzaEFycmF5IjogbnVsbCwKICAiZGFzaE9mZnNldCI6IG51bGwsCiAgImZpbGwiOiBmYWxzZSwKICAiZmlsbENvbG9yIjogImdyZWVuIiwKICAiZmlsbE9wYWNpdHkiOiAwLjIsCiAgImZpbGxSdWxlIjogImV2ZW5vZGQiLAogICJsaW5lQ2FwIjogInJvdW5kIiwKICAibGluZUpvaW4iOiAicm91bmQiLAogICJvcGFjaXR5IjogMS4wLAogICJyYWRpdXMiOiAyLAogICJzdHJva2UiOiB0cnVlLAogICJ3ZWlnaHQiOiAzCn0KICAgICAgICAgICAgICAgICkKICAgICAgICAgICAgICAgIC5hZGRUbyhtYXBfYjAzZWY3YmJhZWEyNDdlMDgwNzJkMjI5NzQyZWJlYmMpOwogICAgICAgICAgICAKICAgIAogICAgICAgICAgICB2YXIgcG9wdXBfMzg2NGVmZWZhNDc5NGNlYTkzOWM5ZjNkODJlOTIyNmIgPSBMLnBvcHVwKHttYXhXaWR0aDogJzEwMCUnCiAgICAgICAgICAgIAogICAgICAgICAgICB9KTsKCiAgICAgICAgICAgIAogICAgICAgICAgICAgICAgdmFyIGh0bWxfY2QxY2U5YWNjZjJlNGU4YjkzN2E3MDkxMTVlM2Q3OTQgPSAkKGA8ZGl2IGlkPSJodG1sX2NkMWNlOWFjY2YyZTRlOGI5MzdhNzA5MTE1ZTNkNzk0IiBzdHlsZT0id2lkdGg6IDEwMC4wJTsgaGVpZ2h0OiAxMDAuMCU7Ij5NNVQ8L2Rpdj5gKVswXTsKICAgICAgICAgICAgICAgIHBvcHVwXzM4NjRlZmVmYTQ3OTRjZWE5MzljOWYzZDgyZTkyMjZiLnNldENvbnRlbnQoaHRtbF9jZDFjZTlhY2NmMmU0ZThiOTM3YTcwOTExNWUzZDc5NCk7CiAgICAgICAgICAgIAoKICAgICAgICAgICAgY2lyY2xlX21hcmtlcl9iMTZhYWU3NWU5ZTA0ZDI3OWY4Y2ZmZjA3ODY5MmRlMy5iaW5kUG9wdXAocG9wdXBfMzg2NGVmZWZhNDc5NGNlYTkzOWM5ZjNkODJlOTIyNmIpCiAgICAgICAgICAgIDsKCiAgICAgICAgICAgIAogICAgICAgIAogICAgCiAgICAgICAgICAgIHZhciBjaXJjbGVfbWFya2VyXzY5YTAwMGZjMjZkYTQxZmQ5OTJlMDMzZjg1MjVmOTk3ID0gTC5jaXJjbGVNYXJrZXIoCiAgICAgICAgICAgICAgICBbNDMuNjg2NDEyMjk5OTk5OTksIC03OS40MDAwNDkzXSwKICAgICAgICAgICAgICAgIHsKICAiYnViYmxpbmdNb3VzZUV2ZW50cyI6IHRydWUsCiAgImNvbG9yIjogImdyZWVuIiwKICAiZGFzaEFycmF5IjogbnVsbCwKICAiZGFzaE9mZnNldCI6IG51bGwsCiAgImZpbGwiOiBmYWxzZSwKICAiZmlsbENvbG9yIjogImdyZWVuIiwKICAiZmlsbE9wYWNpdHkiOiAwLjIsCiAgImZpbGxSdWxlIjogImV2ZW5vZGQiLAogICJsaW5lQ2FwIjogInJvdW5kIiwKICAibGluZUpvaW4iOiAicm91bmQiLAogICJvcGFjaXR5IjogMS4wLAogICJyYWRpdXMiOiAyLAogICJzdHJva2UiOiB0cnVlLAogICJ3ZWlnaHQiOiAzCn0KICAgICAgICAgICAgICAgICkKICAgICAgICAgICAgICAgIC5hZGRUbyhtYXBfYjAzZWY3YmJhZWEyNDdlMDgwNzJkMjI5NzQyZWJlYmMpOwogICAgICAgICAgICAKICAgIAogICAgICAgICAgICB2YXIgcG9wdXBfZmVmYzdkZjI5M2YyNGFjNDk4ZWYyZGQ2NGEzMzkxYjYgPSBMLnBvcHVwKHttYXhXaWR0aDogJzEwMCUnCiAgICAgICAgICAgIAogICAgICAgICAgICB9KTsKCiAgICAgICAgICAgIAogICAgICAgICAgICAgICAgdmFyIGh0bWxfYzJiMmZhMzM0YTQ0NDNkNDgyZmYyNjNlNmJiYThjODkgPSAkKGA8ZGl2IGlkPSJodG1sX2MyYjJmYTMzNGE0NDQzZDQ4MmZmMjYzZTZiYmE4Yzg5IiBzdHlsZT0id2lkdGg6IDEwMC4wJTsgaGVpZ2h0OiAxMDAuMCU7Ij5NNFY8L2Rpdj5gKVswXTsKICAgICAgICAgICAgICAgIHBvcHVwX2ZlZmM3ZGYyOTNmMjRhYzQ5OGVmMmRkNjRhMzM5MWI2LnNldENvbnRlbnQoaHRtbF9jMmIyZmEzMzRhNDQ0M2Q0ODJmZjI2M2U2YmJhOGM4OSk7CiAgICAgICAgICAgIAoKICAgICAgICAgICAgY2lyY2xlX21hcmtlcl82OWEwMDBmYzI2ZGE0MWZkOTkyZTAzM2Y4NTI1Zjk5Ny5iaW5kUG9wdXAocG9wdXBfZmVmYzdkZjI5M2YyNGFjNDk4ZWYyZGQ2NGEzMzkxYjYpCiAgICAgICAgICAgIDsKCiAgICAgICAgICAgIAogICAgICAgIAogICAgCiAgICAgICAgICAgIHZhciBjaXJjbGVfbWFya2VyX2MyZTJjOTkwZGQ5NzQyYTVhN2Q3NzM4MzBjNGMyY2YwID0gTC5jaXJjbGVNYXJrZXIoCiAgICAgICAgICAgICAgICBbNDMuNjI4OTQ2NywgLTc5LjM5NDQxOTldLAogICAgICAgICAgICAgICAgewogICJidWJibGluZ01vdXNlRXZlbnRzIjogdHJ1ZSwKICAiY29sb3IiOiAiZ3JlZW4iLAogICJkYXNoQXJyYXkiOiBudWxsLAogICJkYXNoT2Zmc2V0IjogbnVsbCwKICAiZmlsbCI6IGZhbHNlLAogICJmaWxsQ29sb3IiOiAiZ3JlZW4iLAogICJmaWxsT3BhY2l0eSI6IDAuMiwKICAiZmlsbFJ1bGUiOiAiZXZlbm9kZCIsCiAgImxpbmVDYXAiOiAicm91bmQiLAogICJsaW5lSm9pbiI6ICJyb3VuZCIsCiAgIm9wYWNpdHkiOiAxLjAsCiAgInJhZGl1cyI6IDIsCiAgInN0cm9rZSI6IHRydWUsCiAgIndlaWdodCI6IDMKfQogICAgICAgICAgICAgICAgKQogICAgICAgICAgICAgICAgLmFkZFRvKG1hcF9iMDNlZjdiYmFlYTI0N2UwODA3MmQyMjk3NDJlYmViYyk7CiAgICAgICAgICAgIAogICAgCiAgICAgICAgICAgIHZhciBwb3B1cF9iNGU5YWM0NmNlYmM0YTljODAzMmQwMDNiMDYxZDU1MCA9IEwucG9wdXAoe21heFdpZHRoOiAnMTAwJScKICAgICAgICAgICAgCiAgICAgICAgICAgIH0pOwoKICAgICAgICAgICAgCiAgICAgICAgICAgICAgICB2YXIgaHRtbF80YTEzNjcyNzczYjQ0MjE4YjZlYjIwNDkzNDEzYzkxMiA9ICQoYDxkaXYgaWQ9Imh0bWxfNGExMzY3Mjc3M2I0NDIxOGI2ZWIyMDQ5MzQxM2M5MTIiIHN0eWxlPSJ3aWR0aDogMTAwLjAlOyBoZWlnaHQ6IDEwMC4wJTsiPk01VjwvZGl2PmApWzBdOwogICAgICAgICAgICAgICAgcG9wdXBfYjRlOWFjNDZjZWJjNGE5YzgwMzJkMDAzYjA2MWQ1NTAuc2V0Q29udGVudChodG1sXzRhMTM2NzI3NzNiNDQyMThiNmViMjA0OTM0MTNjOTEyKTsKICAgICAgICAgICAgCgogICAgICAgICAgICBjaXJjbGVfbWFya2VyX2MyZTJjOTkwZGQ5NzQyYTVhN2Q3NzM4MzBjNGMyY2YwLmJpbmRQb3B1cChwb3B1cF9iNGU5YWM0NmNlYmM0YTljODAzMmQwMDNiMDYxZDU1MCkKICAgICAgICAgICAgOwoKICAgICAgICAgICAgCiAgICAgICAgCiAgICAKICAgICAgICAgICAgdmFyIGNpcmNsZV9tYXJrZXJfZTFiZTM4MmViZDQzNGU4Mzg4NmQwZmEyM2U1NGI5YTUgPSBMLmNpcmNsZU1hcmtlcigKICAgICAgICAgICAgICAgIFs0My42Nzk1NjI2LCAtNzkuMzc3NTI5NDAwMDAwMDFdLAogICAgICAgICAgICAgICAgewogICJidWJibGluZ01vdXNlRXZlbnRzIjogdHJ1ZSwKICAiY29sb3IiOiAiZ3JlZW4iLAogICJkYXNoQXJyYXkiOiBudWxsLAogICJkYXNoT2Zmc2V0IjogbnVsbCwKICAiZmlsbCI6IGZhbHNlLAogICJmaWxsQ29sb3IiOiAiZ3JlZW4iLAogICJmaWxsT3BhY2l0eSI6IDAuMiwKICAiZmlsbFJ1bGUiOiAiZXZlbm9kZCIsCiAgImxpbmVDYXAiOiAicm91bmQiLAogICJsaW5lSm9pbiI6ICJyb3VuZCIsCiAgIm9wYWNpdHkiOiAxLjAsCiAgInJhZGl1cyI6IDIsCiAgInN0cm9rZSI6IHRydWUsCiAgIndlaWdodCI6IDMKfQogICAgICAgICAgICAgICAgKQogICAgICAgICAgICAgICAgLmFkZFRvKG1hcF9iMDNlZjdiYmFlYTI0N2UwODA3MmQyMjk3NDJlYmViYyk7CiAgICAgICAgICAgIAogICAgCiAgICAgICAgICAgIHZhciBwb3B1cF8zZWM5ZTdkYjk3NzQ0NWM1YWMzNTAxOTNmODFmYzE0NSA9IEwucG9wdXAoe21heFdpZHRoOiAnMTAwJScKICAgICAgICAgICAgCiAgICAgICAgICAgIH0pOwoKICAgICAgICAgICAgCiAgICAgICAgICAgICAgICB2YXIgaHRtbF9lMTI0ZWE5N2Q1ZmE0Zjc1OGI4NzU3YmQyNzgyMmU0OCA9ICQoYDxkaXYgaWQ9Imh0bWxfZTEyNGVhOTdkNWZhNGY3NThiODc1N2JkMjc4MjJlNDgiIHN0eWxlPSJ3aWR0aDogMTAwLjAlOyBoZWlnaHQ6IDEwMC4wJTsiPk00VzwvZGl2PmApWzBdOwogICAgICAgICAgICAgICAgcG9wdXBfM2VjOWU3ZGI5Nzc0NDVjNWFjMzUwMTkzZjgxZmMxNDUuc2V0Q29udGVudChodG1sX2UxMjRlYTk3ZDVmYTRmNzU4Yjg3NTdiZDI3ODIyZTQ4KTsKICAgICAgICAgICAgCgogICAgICAgICAgICBjaXJjbGVfbWFya2VyX2UxYmUzODJlYmQ0MzRlODM4ODZkMGZhMjNlNTRiOWE1LmJpbmRQb3B1cChwb3B1cF8zZWM5ZTdkYjk3NzQ0NWM1YWMzNTAxOTNmODFmYzE0NSkKICAgICAgICAgICAgOwoKICAgICAgICAgICAgCiAgICAgICAgCiAgICAKICAgICAgICAgICAgdmFyIGNpcmNsZV9tYXJrZXJfZmRjZDQxOTIzM2RjNGZhNjg1Y2RhNmE4ZDIzOGMwYTkgPSBMLmNpcmNsZU1hcmtlcigKICAgICAgICAgICAgICAgIFs0My42NDY0MzUyLCAtNzkuMzc0ODQ1OTk5OTk5OTldLAogICAgICAgICAgICAgICAgewogICJidWJibGluZ01vdXNlRXZlbnRzIjogdHJ1ZSwKICAiY29sb3IiOiAiZ3JlZW4iLAogICJkYXNoQXJyYXkiOiBudWxsLAogICJkYXNoT2Zmc2V0IjogbnVsbCwKICAiZmlsbCI6IGZhbHNlLAogICJmaWxsQ29sb3IiOiAiZ3JlZW4iLAogICJmaWxsT3BhY2l0eSI6IDAuMiwKICAiZmlsbFJ1bGUiOiAiZXZlbm9kZCIsCiAgImxpbmVDYXAiOiAicm91bmQiLAogICJsaW5lSm9pbiI6ICJyb3VuZCIsCiAgIm9wYWNpdHkiOiAxLjAsCiAgInJhZGl1cyI6IDIsCiAgInN0cm9rZSI6IHRydWUsCiAgIndlaWdodCI6IDMKfQogICAgICAgICAgICAgICAgKQogICAgICAgICAgICAgICAgLmFkZFRvKG1hcF9iMDNlZjdiYmFlYTI0N2UwODA3MmQyMjk3NDJlYmViYyk7CiAgICAgICAgICAgIAogICAgCiAgICAgICAgICAgIHZhciBwb3B1cF8yMzg2ZWRiNDk2Mjg0OWE0YWFmNzI1M2ZjY2JjN2E3MCA9IEwucG9wdXAoe21heFdpZHRoOiAnMTAwJScKICAgICAgICAgICAgCiAgICAgICAgICAgIH0pOwoKICAgICAgICAgICAgCiAgICAgICAgICAgICAgICB2YXIgaHRtbF9mN2Q3ZmMwODRjMmY0MzNkYjU5OWM5NGNmYTU3ZWM0YSA9ICQoYDxkaXYgaWQ9Imh0bWxfZjdkN2ZjMDg0YzJmNDMzZGI1OTljOTRjZmE1N2VjNGEiIHN0eWxlPSJ3aWR0aDogMTAwLjAlOyBoZWlnaHQ6IDEwMC4wJTsiPk01VzwvZGl2PmApWzBdOwogICAgICAgICAgICAgICAgcG9wdXBfMjM4NmVkYjQ5NjI4NDlhNGFhZjcyNTNmY2NiYzdhNzAuc2V0Q29udGVudChodG1sX2Y3ZDdmYzA4NGMyZjQzM2RiNTk5Yzk0Y2ZhNTdlYzRhKTsKICAgICAgICAgICAgCgogICAgICAgICAgICBjaXJjbGVfbWFya2VyX2ZkY2Q0MTkyMzNkYzRmYTY4NWNkYTZhOGQyMzhjMGE5LmJpbmRQb3B1cChwb3B1cF8yMzg2ZWRiNDk2Mjg0OWE0YWFmNzI1M2ZjY2JjN2E3MCkKICAgICAgICAgICAgOwoKICAgICAgICAgICAgCiAgICAgICAgCiAgICAKICAgICAgICAgICAgdmFyIGNpcmNsZV9tYXJrZXJfYjI0NWU4NmY4NDJhNGEzMTg5M2Q1ZGRiYTQ2MGM4MjggPSBMLmNpcmNsZU1hcmtlcigKICAgICAgICAgICAgICAgIFs0My42Njc5NjcsIC03OS4zNjc2NzUzXSwKICAgICAgICAgICAgICAgIHsKICAiYnViYmxpbmdNb3VzZUV2ZW50cyI6IHRydWUsCiAgImNvbG9yIjogImdyZWVuIiwKICAiZGFzaEFycmF5IjogbnVsbCwKICAiZGFzaE9mZnNldCI6IG51bGwsCiAgImZpbGwiOiBmYWxzZSwKICAiZmlsbENvbG9yIjogImdyZWVuIiwKICAiZmlsbE9wYWNpdHkiOiAwLjIsCiAgImZpbGxSdWxlIjogImV2ZW5vZGQiLAogICJsaW5lQ2FwIjogInJvdW5kIiwKICAibGluZUpvaW4iOiAicm91bmQiLAogICJvcGFjaXR5IjogMS4wLAogICJyYWRpdXMiOiAyLAogICJzdHJva2UiOiB0cnVlLAogICJ3ZWlnaHQiOiAzCn0KICAgICAgICAgICAgICAgICkKICAgICAgICAgICAgICAgIC5hZGRUbyhtYXBfYjAzZWY3YmJhZWEyNDdlMDgwNzJkMjI5NzQyZWJlYmMpOwogICAgICAgICAgICAKICAgIAogICAgICAgICAgICB2YXIgcG9wdXBfMDMxYTVlYWY4NjAwNDRkNTllYmZhNDJlYjVlNzJmODYgPSBMLnBvcHVwKHttYXhXaWR0aDogJzEwMCUnCiAgICAgICAgICAgIAogICAgICAgICAgICB9KTsKCiAgICAgICAgICAgIAogICAgICAgICAgICAgICAgdmFyIGh0bWxfMjRiNGJkNWM1ODAzNDdmMTg0YmYyYmMxODIyZDgxOGEgPSAkKGA8ZGl2IGlkPSJodG1sXzI0YjRiZDVjNTgwMzQ3ZjE4NGJmMmJjMTgyMmQ4MThhIiBzdHlsZT0id2lkdGg6IDEwMC4wJTsgaGVpZ2h0OiAxMDAuMCU7Ij5NNFg8L2Rpdj5gKVswXTsKICAgICAgICAgICAgICAgIHBvcHVwXzAzMWE1ZWFmODYwMDQ0ZDU5ZWJmYTQyZWI1ZTcyZjg2LnNldENvbnRlbnQoaHRtbF8yNGI0YmQ1YzU4MDM0N2YxODRiZjJiYzE4MjJkODE4YSk7CiAgICAgICAgICAgIAoKICAgICAgICAgICAgY2lyY2xlX21hcmtlcl9iMjQ1ZTg2Zjg0MmE0YTMxODkzZDVkZGJhNDYwYzgyOC5iaW5kUG9wdXAocG9wdXBfMDMxYTVlYWY4NjAwNDRkNTllYmZhNDJlYjVlNzJmODYpCiAgICAgICAgICAgIDsKCiAgICAgICAgICAgIAogICAgICAgIAogICAgCiAgICAgICAgICAgIHZhciBjaXJjbGVfbWFya2VyX2IxNGVmN2E4NGJkZTQ0ODRhMTY2MTAyYWFhMzE4OTk1ID0gTC5jaXJjbGVNYXJrZXIoCiAgICAgICAgICAgICAgICBbNDMuNjQ4NDI5MiwgLTc5LjM4MjI4MDJdLAogICAgICAgICAgICAgICAgewogICJidWJibGluZ01vdXNlRXZlbnRzIjogdHJ1ZSwKICAiY29sb3IiOiAiZ3JlZW4iLAogICJkYXNoQXJyYXkiOiBudWxsLAogICJkYXNoT2Zmc2V0IjogbnVsbCwKICAiZmlsbCI6IGZhbHNlLAogICJmaWxsQ29sb3IiOiAiZ3JlZW4iLAogICJmaWxsT3BhY2l0eSI6IDAuMiwKICAiZmlsbFJ1bGUiOiAiZXZlbm9kZCIsCiAgImxpbmVDYXAiOiAicm91bmQiLAogICJsaW5lSm9pbiI6ICJyb3VuZCIsCiAgIm9wYWNpdHkiOiAxLjAsCiAgInJhZGl1cyI6IDIsCiAgInN0cm9rZSI6IHRydWUsCiAgIndlaWdodCI6IDMKfQogICAgICAgICAgICAgICAgKQogICAgICAgICAgICAgICAgLmFkZFRvKG1hcF9iMDNlZjdiYmFlYTI0N2UwODA3MmQyMjk3NDJlYmViYyk7CiAgICAgICAgICAgIAogICAgCiAgICAgICAgICAgIHZhciBwb3B1cF8wNjJmOTY4YjE3Zjc0M2IwYjc5YmI1ODFhZmI5N2E1NSA9IEwucG9wdXAoe21heFdpZHRoOiAnMTAwJScKICAgICAgICAgICAgCiAgICAgICAgICAgIH0pOwoKICAgICAgICAgICAgCiAgICAgICAgICAgICAgICB2YXIgaHRtbF8yNmIyNzdhYTRlYmM0YWY0ODkyNzdkZjgwZDhjMjYwMyA9ICQoYDxkaXYgaWQ9Imh0bWxfMjZiMjc3YWE0ZWJjNGFmNDg5Mjc3ZGY4MGQ4YzI2MDMiIHN0eWxlPSJ3aWR0aDogMTAwLjAlOyBoZWlnaHQ6IDEwMC4wJTsiPk01WDwvZGl2PmApWzBdOwogICAgICAgICAgICAgICAgcG9wdXBfMDYyZjk2OGIxN2Y3NDNiMGI3OWJiNTgxYWZiOTdhNTUuc2V0Q29udGVudChodG1sXzI2YjI3N2FhNGViYzRhZjQ4OTI3N2RmODBkOGMyNjAzKTsKICAgICAgICAgICAgCgogICAgICAgICAgICBjaXJjbGVfbWFya2VyX2IxNGVmN2E4NGJkZTQ0ODRhMTY2MTAyYWFhMzE4OTk1LmJpbmRQb3B1cChwb3B1cF8wNjJmOTY4YjE3Zjc0M2IwYjc5YmI1ODFhZmI5N2E1NSkKICAgICAgICAgICAgOwoKICAgICAgICAgICAgCiAgICAgICAgCiAgICAKICAgICAgICAgICAgdmFyIGNpcmNsZV9tYXJrZXJfYmJhNTdhZjM0ZTgwNGNjYWEzZjVlMzJhY2RjZmEzNDUgPSBMLmNpcmNsZU1hcmtlcigKICAgICAgICAgICAgICAgIFs0My42NjU4NTk5LCAtNzkuMzgzMTU5OTAwMDAwMDFdLAogICAgICAgICAgICAgICAgewogICJidWJibGluZ01vdXNlRXZlbnRzIjogdHJ1ZSwKICAiY29sb3IiOiAiZ3JlZW4iLAogICJkYXNoQXJyYXkiOiBudWxsLAogICJkYXNoT2Zmc2V0IjogbnVsbCwKICAiZmlsbCI6IGZhbHNlLAogICJmaWxsQ29sb3IiOiAiZ3JlZW4iLAogICJmaWxsT3BhY2l0eSI6IDAuMiwKICAiZmlsbFJ1bGUiOiAiZXZlbm9kZCIsCiAgImxpbmVDYXAiOiAicm91bmQiLAogICJsaW5lSm9pbiI6ICJyb3VuZCIsCiAgIm9wYWNpdHkiOiAxLjAsCiAgInJhZGl1cyI6IDIsCiAgInN0cm9rZSI6IHRydWUsCiAgIndlaWdodCI6IDMKfQogICAgICAgICAgICAgICAgKQogICAgICAgICAgICAgICAgLmFkZFRvKG1hcF9iMDNlZjdiYmFlYTI0N2UwODA3MmQyMjk3NDJlYmViYyk7CiAgICAgICAgICAgIAogICAgCiAgICAgICAgICAgIHZhciBwb3B1cF8wYzRjNzEzZDAxMzM0MjZiOGI4ZjcyYjFjMWFhZjFmNSA9IEwucG9wdXAoe21heFdpZHRoOiAnMTAwJScKICAgICAgICAgICAgCiAgICAgICAgICAgIH0pOwoKICAgICAgICAgICAgCiAgICAgICAgICAgICAgICB2YXIgaHRtbF9hMzE4ZGUxNmMzYTY0NTJiOGQ5NjMxNjNkYTc0ZTcwMiA9ICQoYDxkaXYgaWQ9Imh0bWxfYTMxOGRlMTZjM2E2NDUyYjhkOTYzMTYzZGE3NGU3MDIiIHN0eWxlPSJ3aWR0aDogMTAwLjAlOyBoZWlnaHQ6IDEwMC4wJTsiPk00WTwvZGl2PmApWzBdOwogICAgICAgICAgICAgICAgcG9wdXBfMGM0YzcxM2QwMTMzNDI2YjhiOGY3MmIxYzFhYWYxZjUuc2V0Q29udGVudChodG1sX2EzMThkZTE2YzNhNjQ1MmI4ZDk2MzE2M2RhNzRlNzAyKTsKICAgICAgICAgICAgCgogICAgICAgICAgICBjaXJjbGVfbWFya2VyX2JiYTU3YWYzNGU4MDRjY2FhM2Y1ZTMyYWNkY2ZhMzQ1LmJpbmRQb3B1cChwb3B1cF8wYzRjNzEzZDAxMzM0MjZiOGI4ZjcyYjFjMWFhZjFmNSkKICAgICAgICAgICAgOwoKICAgICAgICAgICAgCiAgICAgICAgCiAgICAKICAgICAgICAgICAgdmFyIGNpcmNsZV9tYXJrZXJfMjM5NzVhMzJmMGY4NDllYjljNWEyZTExMzgxMGM3NzcgPSBMLmNpcmNsZU1hcmtlcigKICAgICAgICAgICAgICAgIFs0My42NjI3NDM5LCAtNzkuMzIxNTU4XSwKICAgICAgICAgICAgICAgIHsKICAiYnViYmxpbmdNb3VzZUV2ZW50cyI6IHRydWUsCiAgImNvbG9yIjogImdyZWVuIiwKICAiZGFzaEFycmF5IjogbnVsbCwKICAiZGFzaE9mZnNldCI6IG51bGwsCiAgImZpbGwiOiBmYWxzZSwKICAiZmlsbENvbG9yIjogImdyZWVuIiwKICAiZmlsbE9wYWNpdHkiOiAwLjIsCiAgImZpbGxSdWxlIjogImV2ZW5vZGQiLAogICJsaW5lQ2FwIjogInJvdW5kIiwKICAibGluZUpvaW4iOiAicm91bmQiLAogICJvcGFjaXR5IjogMS4wLAogICJyYWRpdXMiOiAyLAogICJzdHJva2UiOiB0cnVlLAogICJ3ZWlnaHQiOiAzCn0KICAgICAgICAgICAgICAgICkKICAgICAgICAgICAgICAgIC5hZGRUbyhtYXBfYjAzZWY3YmJhZWEyNDdlMDgwNzJkMjI5NzQyZWJlYmMpOwogICAgICAgICAgICAKICAgIAogICAgICAgICAgICB2YXIgcG9wdXBfYzdjZGYwZDdlMDVmNGYyNTg3Y2ZhNjU0YmMxOWNiNjMgPSBMLnBvcHVwKHttYXhXaWR0aDogJzEwMCUnCiAgICAgICAgICAgIAogICAgICAgICAgICB9KTsKCiAgICAgICAgICAgIAogICAgICAgICAgICAgICAgdmFyIGh0bWxfYzk3ODA4NjAzZDJlNDRmYWEzMGY2NjNkM2MxYTYyYmEgPSAkKGA8ZGl2IGlkPSJodG1sX2M5NzgwODYwM2QyZTQ0ZmFhMzBmNjYzZDNjMWE2MmJhIiBzdHlsZT0id2lkdGg6IDEwMC4wJTsgaGVpZ2h0OiAxMDAuMCU7Ij5NN1k8L2Rpdj5gKVswXTsKICAgICAgICAgICAgICAgIHBvcHVwX2M3Y2RmMGQ3ZTA1ZjRmMjU4N2NmYTY1NGJjMTljYjYzLnNldENvbnRlbnQoaHRtbF9jOTc4MDg2MDNkMmU0NGZhYTMwZjY2M2QzYzFhNjJiYSk7CiAgICAgICAgICAgIAoKICAgICAgICAgICAgY2lyY2xlX21hcmtlcl8yMzk3NWEzMmYwZjg0OWViOWM1YTJlMTEzODEwYzc3Ny5iaW5kUG9wdXAocG9wdXBfYzdjZGYwZDdlMDVmNGYyNTg3Y2ZhNjU0YmMxOWNiNjMpCiAgICAgICAgICAgIDsKCiAgICAgICAgICAgIAogICAgICAgIAo8L3NjcmlwdD4= onload=\"this.contentDocument.open();this.contentDocument.write(atob(this.getAttribute('data-html')));this.contentDocument.close();\" allowfullscreen webkitallowfullscreen mozallowfullscreen></iframe></div></div>"
            ],
            "text/plain": [
              "<folium.folium.Map at 0x7fb05dbc9c50>"
            ]
          },
          "metadata": {
            "tags": []
          },
          "execution_count": 56
        }
      ]
    },
    {
      "cell_type": "code",
      "metadata": {
        "id": "aJ-xOB2MM8v0",
        "colab_type": "code",
        "colab": {}
      },
      "source": [
        ""
      ],
      "execution_count": null,
      "outputs": []
    }
  ]
}